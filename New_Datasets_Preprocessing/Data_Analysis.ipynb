{
 "cells": [
  {
   "cell_type": "code",
   "outputs": [],
   "source": [
    "import pandas as pd\n",
    "import matplotlib.pyplot as plt\n",
    "import seaborn as sns\n",
    "import re\n",
    "from sklearn.model_selection import train_test_split\n",
    "import numpy as np"
   ],
   "metadata": {
    "collapsed": false,
    "ExecuteTime": {
     "end_time": "2024-06-01T02:54:24.030613Z",
     "start_time": "2024-06-01T02:54:23.635589Z"
    }
   },
   "id": "1114414aea61a71",
   "execution_count": 1
  },
  {
   "cell_type": "code",
   "outputs": [],
   "source": [
    "train_dev_data = pd.read_csv('Combined_Dataset/deeploc_combined_data.csv')"
   ],
   "metadata": {
    "collapsed": false,
    "ExecuteTime": {
     "end_time": "2024-06-01T02:54:24.041424Z",
     "start_time": "2024-06-01T02:54:24.031619Z"
    }
   },
   "id": "4135d1b4137e0a04",
   "execution_count": 2
  },
  {
   "cell_type": "code",
   "outputs": [
    {
     "data": {
      "text/plain": "577"
     },
     "execution_count": 3,
     "metadata": {},
     "output_type": "execute_result"
    }
   ],
   "source": [
    "len(train_dev_data)"
   ],
   "metadata": {
    "collapsed": false,
    "ExecuteTime": {
     "end_time": "2024-06-01T02:56:32.887590Z",
     "start_time": "2024-06-01T02:56:32.876589Z"
    }
   },
   "id": "547d97fece3cfbfd",
   "execution_count": 3
  },
  {
   "cell_type": "code",
   "outputs": [],
   "source": [
    "train_dev_data.rename(columns={'ID':'ACC'}, inplace=True)"
   ],
   "metadata": {
    "collapsed": false,
    "ExecuteTime": {
     "end_time": "2024-06-01T02:56:33.906488Z",
     "start_time": "2024-06-01T02:56:33.899872Z"
    }
   },
   "id": "acd7e50420273e85",
   "execution_count": 4
  },
  {
   "cell_type": "code",
   "outputs": [
    {
     "data": {
      "text/plain": "        ACC                                           Sequence  Membrane  \\\n0    O75503  MAQEVDTAQGAEMRRGAGAARGRASWCWALALLWLAVVPGWSRVSG...         0   \n1    Q9LHA4  MYGFEALTFNIHGGYLEAIVRGHRAGLLTTADYNNLCQCENLDDIK...         0   \n2    Q9LJI5  MYGFEALTFNIHGGYLEAIVRGHRAGLLTTADYNNLCQCENLDDIK...         0   \n3    Q9SZN1  MGAAENNLEMEGTLEIGMEYRTVSGVAGPLVILEKVKGPKYQEIVN...         0   \n4    P51799  MANVSKKVSWSGRDRDDEEGAPLLRRTGQPDEETPLLNGAGPGARQ...         0   \n..      ...                                                ...       ...   \n572  P82971  IIFPGTLWCGNGNLANGTNQLGSWKETDSCCRTHDMCPDLIEAHGS...         0   \n573  B4YSU8  MQKATVLLLALLLLLPLSTAQDAEGSQEDAAQREVDIATRCGGTGD...         0   \n574  B3A0P0    IIECFFSCEIEKDGKSKEGKPCKPKGDKDKDKKCGGWRCKIKMCIKI         0   \n575  P86368  SLLEFGMMILEETGKLAVPFYSSYGCYCGWGGKATPKDATDRCCFV...         0   \n576  P80156  TKCYKTGDRIISEACPPGQDLCYMKTWCDVFCGTRGRVIELGCTAT...         0   \n\n     Cytoplasm  Nucleus  Extracellular  Cell membrane  Mitochondrion  Plastid  \\\n0            0        0              0              0              0        0   \n1            0        0              0              0              0        0   \n2            0        0              0              0              0        0   \n3            0        0              0              0              0        0   \n4            0        0              0              0              0        0   \n..         ...      ...            ...            ...            ...      ...   \n572          0        0              1              0              0        0   \n573          0        0              1              0              0        0   \n574          0        0              1              0              0        0   \n575          0        0              1              0              0        0   \n576          0        0              1              0              0        0   \n\n     Endoplasmic reticulum  Lysosome/Vacuole  Golgi apparatus  Peroxisome  \n0                        0                 1                0           0  \n1                        0                 1                0           0  \n2                        0                 1                0           0  \n3                        0                 1                0           0  \n4                        0                 1                0           0  \n..                     ...               ...              ...         ...  \n572                      0                 0                0           0  \n573                      0                 0                0           0  \n574                      0                 0                0           0  \n575                      0                 0                0           0  \n576                      0                 0                0           0  \n\n[577 rows x 13 columns]",
      "text/html": "<div>\n<style scoped>\n    .dataframe tbody tr th:only-of-type {\n        vertical-align: middle;\n    }\n\n    .dataframe tbody tr th {\n        vertical-align: top;\n    }\n\n    .dataframe thead th {\n        text-align: right;\n    }\n</style>\n<table border=\"1\" class=\"dataframe\">\n  <thead>\n    <tr style=\"text-align: right;\">\n      <th></th>\n      <th>ACC</th>\n      <th>Sequence</th>\n      <th>Membrane</th>\n      <th>Cytoplasm</th>\n      <th>Nucleus</th>\n      <th>Extracellular</th>\n      <th>Cell membrane</th>\n      <th>Mitochondrion</th>\n      <th>Plastid</th>\n      <th>Endoplasmic reticulum</th>\n      <th>Lysosome/Vacuole</th>\n      <th>Golgi apparatus</th>\n      <th>Peroxisome</th>\n    </tr>\n  </thead>\n  <tbody>\n    <tr>\n      <th>0</th>\n      <td>O75503</td>\n      <td>MAQEVDTAQGAEMRRGAGAARGRASWCWALALLWLAVVPGWSRVSG...</td>\n      <td>0</td>\n      <td>0</td>\n      <td>0</td>\n      <td>0</td>\n      <td>0</td>\n      <td>0</td>\n      <td>0</td>\n      <td>0</td>\n      <td>1</td>\n      <td>0</td>\n      <td>0</td>\n    </tr>\n    <tr>\n      <th>1</th>\n      <td>Q9LHA4</td>\n      <td>MYGFEALTFNIHGGYLEAIVRGHRAGLLTTADYNNLCQCENLDDIK...</td>\n      <td>0</td>\n      <td>0</td>\n      <td>0</td>\n      <td>0</td>\n      <td>0</td>\n      <td>0</td>\n      <td>0</td>\n      <td>0</td>\n      <td>1</td>\n      <td>0</td>\n      <td>0</td>\n    </tr>\n    <tr>\n      <th>2</th>\n      <td>Q9LJI5</td>\n      <td>MYGFEALTFNIHGGYLEAIVRGHRAGLLTTADYNNLCQCENLDDIK...</td>\n      <td>0</td>\n      <td>0</td>\n      <td>0</td>\n      <td>0</td>\n      <td>0</td>\n      <td>0</td>\n      <td>0</td>\n      <td>0</td>\n      <td>1</td>\n      <td>0</td>\n      <td>0</td>\n    </tr>\n    <tr>\n      <th>3</th>\n      <td>Q9SZN1</td>\n      <td>MGAAENNLEMEGTLEIGMEYRTVSGVAGPLVILEKVKGPKYQEIVN...</td>\n      <td>0</td>\n      <td>0</td>\n      <td>0</td>\n      <td>0</td>\n      <td>0</td>\n      <td>0</td>\n      <td>0</td>\n      <td>0</td>\n      <td>1</td>\n      <td>0</td>\n      <td>0</td>\n    </tr>\n    <tr>\n      <th>4</th>\n      <td>P51799</td>\n      <td>MANVSKKVSWSGRDRDDEEGAPLLRRTGQPDEETPLLNGAGPGARQ...</td>\n      <td>0</td>\n      <td>0</td>\n      <td>0</td>\n      <td>0</td>\n      <td>0</td>\n      <td>0</td>\n      <td>0</td>\n      <td>0</td>\n      <td>1</td>\n      <td>0</td>\n      <td>0</td>\n    </tr>\n    <tr>\n      <th>...</th>\n      <td>...</td>\n      <td>...</td>\n      <td>...</td>\n      <td>...</td>\n      <td>...</td>\n      <td>...</td>\n      <td>...</td>\n      <td>...</td>\n      <td>...</td>\n      <td>...</td>\n      <td>...</td>\n      <td>...</td>\n      <td>...</td>\n    </tr>\n    <tr>\n      <th>572</th>\n      <td>P82971</td>\n      <td>IIFPGTLWCGNGNLANGTNQLGSWKETDSCCRTHDMCPDLIEAHGS...</td>\n      <td>0</td>\n      <td>0</td>\n      <td>0</td>\n      <td>1</td>\n      <td>0</td>\n      <td>0</td>\n      <td>0</td>\n      <td>0</td>\n      <td>0</td>\n      <td>0</td>\n      <td>0</td>\n    </tr>\n    <tr>\n      <th>573</th>\n      <td>B4YSU8</td>\n      <td>MQKATVLLLALLLLLPLSTAQDAEGSQEDAAQREVDIATRCGGTGD...</td>\n      <td>0</td>\n      <td>0</td>\n      <td>0</td>\n      <td>1</td>\n      <td>0</td>\n      <td>0</td>\n      <td>0</td>\n      <td>0</td>\n      <td>0</td>\n      <td>0</td>\n      <td>0</td>\n    </tr>\n    <tr>\n      <th>574</th>\n      <td>B3A0P0</td>\n      <td>IIECFFSCEIEKDGKSKEGKPCKPKGDKDKDKKCGGWRCKIKMCIKI</td>\n      <td>0</td>\n      <td>0</td>\n      <td>0</td>\n      <td>1</td>\n      <td>0</td>\n      <td>0</td>\n      <td>0</td>\n      <td>0</td>\n      <td>0</td>\n      <td>0</td>\n      <td>0</td>\n    </tr>\n    <tr>\n      <th>575</th>\n      <td>P86368</td>\n      <td>SLLEFGMMILEETGKLAVPFYSSYGCYCGWGGKATPKDATDRCCFV...</td>\n      <td>0</td>\n      <td>0</td>\n      <td>0</td>\n      <td>1</td>\n      <td>0</td>\n      <td>0</td>\n      <td>0</td>\n      <td>0</td>\n      <td>0</td>\n      <td>0</td>\n      <td>0</td>\n    </tr>\n    <tr>\n      <th>576</th>\n      <td>P80156</td>\n      <td>TKCYKTGDRIISEACPPGQDLCYMKTWCDVFCGTRGRVIELGCTAT...</td>\n      <td>0</td>\n      <td>0</td>\n      <td>0</td>\n      <td>1</td>\n      <td>0</td>\n      <td>0</td>\n      <td>0</td>\n      <td>0</td>\n      <td>0</td>\n      <td>0</td>\n      <td>0</td>\n    </tr>\n  </tbody>\n</table>\n<p>577 rows × 13 columns</p>\n</div>"
     },
     "execution_count": 5,
     "metadata": {},
     "output_type": "execute_result"
    }
   ],
   "source": [
    "train_dev_data"
   ],
   "metadata": {
    "collapsed": false,
    "ExecuteTime": {
     "end_time": "2024-06-01T02:56:36.509435Z",
     "start_time": "2024-06-01T02:56:36.486656Z"
    }
   },
   "id": "36ef9060ab222690",
   "execution_count": 5
  },
  {
   "cell_type": "code",
   "outputs": [],
   "source": [
    "original=pd.read_csv('Final_Datasets/Original_Dataset/multisub_5_partitions_unique.csv')"
   ],
   "metadata": {
    "collapsed": false,
    "ExecuteTime": {
     "end_time": "2024-06-01T03:00:21.517747Z",
     "start_time": "2024-06-01T03:00:21.291752Z"
    }
   },
   "id": "54dc29dbed37b16",
   "execution_count": 6
  },
  {
   "cell_type": "code",
   "outputs": [
    {
     "data": {
      "text/plain": "       Unnamed: 0       ACC        Kingdom  Partition  Membrane  Cytoplasm  \\\n0               0    Q28165        Metazoa          4       0.0        1.0   \n1               1    Q86U42        Metazoa          4       0.0        1.0   \n2               2    Q0GA42        Metazoa          3       1.0        0.0   \n3               3    P82349        Metazoa          1       1.0        1.0   \n4               4    Q7L5N1        Metazoa          1       0.0        1.0   \n...           ...       ...            ...        ...       ...        ...   \n28298       28298    Q09712          Fungi          3       1.0        0.0   \n28299       28299    Q9V3C5        Metazoa          2       1.0        0.0   \n28300       28300    Q9SQQ9  Viridiplantae          4       0.0        0.0   \n28301       28301  Q9SQQ9-3  Viridiplantae          4       0.0        0.0   \n28302       28302    O13747          Fungi          4       0.0        1.0   \n\n       Nucleus  Extracellular  Cell membrane  Mitochondrion  Plastid  \\\n0          1.0            0.0            0.0            0.0      0.0   \n1          1.0            0.0            0.0            0.0      0.0   \n2          0.0            0.0            1.0            0.0      0.0   \n3          0.0            0.0            1.0            0.0      0.0   \n4          1.0            0.0            0.0            0.0      0.0   \n...        ...            ...            ...            ...      ...   \n28298      0.0            0.0            0.0            0.0      0.0   \n28299      0.0            0.0            0.0            0.0      0.0   \n28300      1.0            0.0            0.0            0.0      0.0   \n28301      1.0            0.0            0.0            0.0      0.0   \n28302      0.0            0.0            0.0            0.0      0.0   \n\n       Endoplasmic reticulum  Lysosome/Vacuole  Golgi apparatus  Peroxisome  \\\n0                        0.0               0.0              0.0         0.0   \n1                        0.0               0.0              0.0         0.0   \n2                        0.0               0.0              0.0         0.0   \n3                        0.0               0.0              0.0         0.0   \n4                        0.0               0.0              0.0         0.0   \n...                      ...               ...              ...         ...   \n28298                    1.0               0.0              0.0         0.0   \n28299                    0.0               0.0              1.0         0.0   \n28300                    0.0               0.0              0.0         0.0   \n28301                    0.0               0.0              0.0         0.0   \n28302                    0.0               0.0              0.0         0.0   \n\n                                                Sequence  \n0      MAAAAAAAAAAGAAGGRGSGPGRRRHLVPGAGGEAGEGAPGGAGDY...  \n1      MAAAAAAAAAAGAAGGRGSGPGRRRHLVPGAGGEAGEGAPGGAGDY...  \n2      MAAAAAAAAALGVRLRDCCSRGAVLLLFFSLSPRPPAAAAWLLGLR...  \n3      MAAAAAAAAATEQQGSNGPVKKSMREKAVERRNVNKEHNSNFKAGY...  \n4      MAAAAAAAAATNGTGGSSGMEVDAAVVPSVMACGVTGSVSVALHPL...  \n...                                                  ...  \n28298  MYYIGHPSYYRKHIEHVCFQHSGILKKRNYQKNQKKYIMKLNESAM...  \n28299  MYYPVGWPKRVGLALPGESASIRHICCDAVKILVAAVGDDFLGIWY...  \n28300  MYYQNQHQGKNILSSSRMHITSERHPFLRGNSPGDSGLILSTDAKP...  \n28301  MYYQNQHQGKNILSSSRMHITSERHPFLRGNSPGDSGLILSTDAKP...  \n28302  MYYYLEIECESPVKDIFTCNKRRASKVVGNSFGGDHFNFRLGEIKL...  \n\n[28303 rows x 16 columns]",
      "text/html": "<div>\n<style scoped>\n    .dataframe tbody tr th:only-of-type {\n        vertical-align: middle;\n    }\n\n    .dataframe tbody tr th {\n        vertical-align: top;\n    }\n\n    .dataframe thead th {\n        text-align: right;\n    }\n</style>\n<table border=\"1\" class=\"dataframe\">\n  <thead>\n    <tr style=\"text-align: right;\">\n      <th></th>\n      <th>Unnamed: 0</th>\n      <th>ACC</th>\n      <th>Kingdom</th>\n      <th>Partition</th>\n      <th>Membrane</th>\n      <th>Cytoplasm</th>\n      <th>Nucleus</th>\n      <th>Extracellular</th>\n      <th>Cell membrane</th>\n      <th>Mitochondrion</th>\n      <th>Plastid</th>\n      <th>Endoplasmic reticulum</th>\n      <th>Lysosome/Vacuole</th>\n      <th>Golgi apparatus</th>\n      <th>Peroxisome</th>\n      <th>Sequence</th>\n    </tr>\n  </thead>\n  <tbody>\n    <tr>\n      <th>0</th>\n      <td>0</td>\n      <td>Q28165</td>\n      <td>Metazoa</td>\n      <td>4</td>\n      <td>0.0</td>\n      <td>1.0</td>\n      <td>1.0</td>\n      <td>0.0</td>\n      <td>0.0</td>\n      <td>0.0</td>\n      <td>0.0</td>\n      <td>0.0</td>\n      <td>0.0</td>\n      <td>0.0</td>\n      <td>0.0</td>\n      <td>MAAAAAAAAAAGAAGGRGSGPGRRRHLVPGAGGEAGEGAPGGAGDY...</td>\n    </tr>\n    <tr>\n      <th>1</th>\n      <td>1</td>\n      <td>Q86U42</td>\n      <td>Metazoa</td>\n      <td>4</td>\n      <td>0.0</td>\n      <td>1.0</td>\n      <td>1.0</td>\n      <td>0.0</td>\n      <td>0.0</td>\n      <td>0.0</td>\n      <td>0.0</td>\n      <td>0.0</td>\n      <td>0.0</td>\n      <td>0.0</td>\n      <td>0.0</td>\n      <td>MAAAAAAAAAAGAAGGRGSGPGRRRHLVPGAGGEAGEGAPGGAGDY...</td>\n    </tr>\n    <tr>\n      <th>2</th>\n      <td>2</td>\n      <td>Q0GA42</td>\n      <td>Metazoa</td>\n      <td>3</td>\n      <td>1.0</td>\n      <td>0.0</td>\n      <td>0.0</td>\n      <td>0.0</td>\n      <td>1.0</td>\n      <td>0.0</td>\n      <td>0.0</td>\n      <td>0.0</td>\n      <td>0.0</td>\n      <td>0.0</td>\n      <td>0.0</td>\n      <td>MAAAAAAAAALGVRLRDCCSRGAVLLLFFSLSPRPPAAAAWLLGLR...</td>\n    </tr>\n    <tr>\n      <th>3</th>\n      <td>3</td>\n      <td>P82349</td>\n      <td>Metazoa</td>\n      <td>1</td>\n      <td>1.0</td>\n      <td>1.0</td>\n      <td>0.0</td>\n      <td>0.0</td>\n      <td>1.0</td>\n      <td>0.0</td>\n      <td>0.0</td>\n      <td>0.0</td>\n      <td>0.0</td>\n      <td>0.0</td>\n      <td>0.0</td>\n      <td>MAAAAAAAAATEQQGSNGPVKKSMREKAVERRNVNKEHNSNFKAGY...</td>\n    </tr>\n    <tr>\n      <th>4</th>\n      <td>4</td>\n      <td>Q7L5N1</td>\n      <td>Metazoa</td>\n      <td>1</td>\n      <td>0.0</td>\n      <td>1.0</td>\n      <td>1.0</td>\n      <td>0.0</td>\n      <td>0.0</td>\n      <td>0.0</td>\n      <td>0.0</td>\n      <td>0.0</td>\n      <td>0.0</td>\n      <td>0.0</td>\n      <td>0.0</td>\n      <td>MAAAAAAAAATNGTGGSSGMEVDAAVVPSVMACGVTGSVSVALHPL...</td>\n    </tr>\n    <tr>\n      <th>...</th>\n      <td>...</td>\n      <td>...</td>\n      <td>...</td>\n      <td>...</td>\n      <td>...</td>\n      <td>...</td>\n      <td>...</td>\n      <td>...</td>\n      <td>...</td>\n      <td>...</td>\n      <td>...</td>\n      <td>...</td>\n      <td>...</td>\n      <td>...</td>\n      <td>...</td>\n      <td>...</td>\n    </tr>\n    <tr>\n      <th>28298</th>\n      <td>28298</td>\n      <td>Q09712</td>\n      <td>Fungi</td>\n      <td>3</td>\n      <td>1.0</td>\n      <td>0.0</td>\n      <td>0.0</td>\n      <td>0.0</td>\n      <td>0.0</td>\n      <td>0.0</td>\n      <td>0.0</td>\n      <td>1.0</td>\n      <td>0.0</td>\n      <td>0.0</td>\n      <td>0.0</td>\n      <td>MYYIGHPSYYRKHIEHVCFQHSGILKKRNYQKNQKKYIMKLNESAM...</td>\n    </tr>\n    <tr>\n      <th>28299</th>\n      <td>28299</td>\n      <td>Q9V3C5</td>\n      <td>Metazoa</td>\n      <td>2</td>\n      <td>1.0</td>\n      <td>0.0</td>\n      <td>0.0</td>\n      <td>0.0</td>\n      <td>0.0</td>\n      <td>0.0</td>\n      <td>0.0</td>\n      <td>0.0</td>\n      <td>0.0</td>\n      <td>1.0</td>\n      <td>0.0</td>\n      <td>MYYPVGWPKRVGLALPGESASIRHICCDAVKILVAAVGDDFLGIWY...</td>\n    </tr>\n    <tr>\n      <th>28300</th>\n      <td>28300</td>\n      <td>Q9SQQ9</td>\n      <td>Viridiplantae</td>\n      <td>4</td>\n      <td>0.0</td>\n      <td>0.0</td>\n      <td>1.0</td>\n      <td>0.0</td>\n      <td>0.0</td>\n      <td>0.0</td>\n      <td>0.0</td>\n      <td>0.0</td>\n      <td>0.0</td>\n      <td>0.0</td>\n      <td>0.0</td>\n      <td>MYYQNQHQGKNILSSSRMHITSERHPFLRGNSPGDSGLILSTDAKP...</td>\n    </tr>\n    <tr>\n      <th>28301</th>\n      <td>28301</td>\n      <td>Q9SQQ9-3</td>\n      <td>Viridiplantae</td>\n      <td>4</td>\n      <td>0.0</td>\n      <td>0.0</td>\n      <td>1.0</td>\n      <td>0.0</td>\n      <td>0.0</td>\n      <td>0.0</td>\n      <td>0.0</td>\n      <td>0.0</td>\n      <td>0.0</td>\n      <td>0.0</td>\n      <td>0.0</td>\n      <td>MYYQNQHQGKNILSSSRMHITSERHPFLRGNSPGDSGLILSTDAKP...</td>\n    </tr>\n    <tr>\n      <th>28302</th>\n      <td>28302</td>\n      <td>O13747</td>\n      <td>Fungi</td>\n      <td>4</td>\n      <td>0.0</td>\n      <td>1.0</td>\n      <td>0.0</td>\n      <td>0.0</td>\n      <td>0.0</td>\n      <td>0.0</td>\n      <td>0.0</td>\n      <td>0.0</td>\n      <td>0.0</td>\n      <td>0.0</td>\n      <td>0.0</td>\n      <td>MYYYLEIECESPVKDIFTCNKRRASKVVGNSFGGDHFNFRLGEIKL...</td>\n    </tr>\n  </tbody>\n</table>\n<p>28303 rows × 16 columns</p>\n</div>"
     },
     "execution_count": 7,
     "metadata": {},
     "output_type": "execute_result"
    }
   ],
   "source": [
    "original"
   ],
   "metadata": {
    "collapsed": false,
    "ExecuteTime": {
     "end_time": "2024-06-01T03:00:22.725261Z",
     "start_time": "2024-06-01T03:00:22.706101Z"
    }
   },
   "id": "cc7afc3f0a0b4479",
   "execution_count": 7
  },
  {
   "cell_type": "code",
   "outputs": [],
   "source": [
    "# Get the values from the column in df2\n",
    "values_to_remove = original['ACC']\n",
    "\n",
    "# Filter df1 based on values in df2's column 'A'\n",
    "filtered_df = train_dev_data [~train_dev_data ['ACC'].isin(values_to_remove)]"
   ],
   "metadata": {
    "collapsed": false,
    "ExecuteTime": {
     "end_time": "2024-06-01T03:00:24.440101Z",
     "start_time": "2024-06-01T03:00:24.429436Z"
    }
   },
   "id": "99c829edfe93e091",
   "execution_count": 8
  },
  {
   "cell_type": "code",
   "outputs": [],
   "source": [
    "filtered_df.reset_index(inplace=True, drop=True)"
   ],
   "metadata": {
    "collapsed": false,
    "ExecuteTime": {
     "end_time": "2024-06-01T03:00:31.904752Z",
     "start_time": "2024-06-01T03:00:31.901467Z"
    }
   },
   "id": "3acc3f57efafb82a",
   "execution_count": 9
  },
  {
   "cell_type": "code",
   "outputs": [
    {
     "data": {
      "text/plain": "538"
     },
     "execution_count": 10,
     "metadata": {},
     "output_type": "execute_result"
    }
   ],
   "source": [
    "len(filtered_df)"
   ],
   "metadata": {
    "collapsed": false,
    "ExecuteTime": {
     "end_time": "2024-06-01T03:00:32.517830Z",
     "start_time": "2024-06-01T03:00:32.510289Z"
    }
   },
   "id": "12eac8db405053ba",
   "execution_count": 10
  },
  {
   "cell_type": "code",
   "outputs": [
    {
     "data": {
      "text/plain": "        ACC                                           Sequence  Membrane  \\\n0    O75503  MAQEVDTAQGAEMRRGAGAARGRASWCWALALLWLAVVPGWSRVSG...         0   \n1    Q9LHA4  MYGFEALTFNIHGGYLEAIVRGHRAGLLTTADYNNLCQCENLDDIK...         0   \n2    Q9LJI5  MYGFEALTFNIHGGYLEAIVRGHRAGLLTTADYNNLCQCENLDDIK...         0   \n3    Q9SZN1  MGAAENNLEMEGTLEIGMEYRTVSGVAGPLVILEKVKGPKYQEIVN...         0   \n4    P51799  MANVSKKVSWSGRDRDDEEGAPLLRRTGQPDEETPLLNGAGPGARQ...         0   \n..      ...                                                ...       ...   \n533  P82971  IIFPGTLWCGNGNLANGTNQLGSWKETDSCCRTHDMCPDLIEAHGS...         0   \n534  B4YSU8  MQKATVLLLALLLLLPLSTAQDAEGSQEDAAQREVDIATRCGGTGD...         0   \n535  B3A0P0    IIECFFSCEIEKDGKSKEGKPCKPKGDKDKDKKCGGWRCKIKMCIKI         0   \n536  P86368  SLLEFGMMILEETGKLAVPFYSSYGCYCGWGGKATPKDATDRCCFV...         0   \n537  P80156  TKCYKTGDRIISEACPPGQDLCYMKTWCDVFCGTRGRVIELGCTAT...         0   \n\n     Cytoplasm  Nucleus  Extracellular  Cell membrane  Mitochondrion  Plastid  \\\n0            0        0              0              0              0        0   \n1            0        0              0              0              0        0   \n2            0        0              0              0              0        0   \n3            0        0              0              0              0        0   \n4            0        0              0              0              0        0   \n..         ...      ...            ...            ...            ...      ...   \n533          0        0              1              0              0        0   \n534          0        0              1              0              0        0   \n535          0        0              1              0              0        0   \n536          0        0              1              0              0        0   \n537          0        0              1              0              0        0   \n\n     Endoplasmic reticulum  Lysosome/Vacuole  Golgi apparatus  Peroxisome  \n0                        0                 1                0           0  \n1                        0                 1                0           0  \n2                        0                 1                0           0  \n3                        0                 1                0           0  \n4                        0                 1                0           0  \n..                     ...               ...              ...         ...  \n533                      0                 0                0           0  \n534                      0                 0                0           0  \n535                      0                 0                0           0  \n536                      0                 0                0           0  \n537                      0                 0                0           0  \n\n[538 rows x 13 columns]",
      "text/html": "<div>\n<style scoped>\n    .dataframe tbody tr th:only-of-type {\n        vertical-align: middle;\n    }\n\n    .dataframe tbody tr th {\n        vertical-align: top;\n    }\n\n    .dataframe thead th {\n        text-align: right;\n    }\n</style>\n<table border=\"1\" class=\"dataframe\">\n  <thead>\n    <tr style=\"text-align: right;\">\n      <th></th>\n      <th>ACC</th>\n      <th>Sequence</th>\n      <th>Membrane</th>\n      <th>Cytoplasm</th>\n      <th>Nucleus</th>\n      <th>Extracellular</th>\n      <th>Cell membrane</th>\n      <th>Mitochondrion</th>\n      <th>Plastid</th>\n      <th>Endoplasmic reticulum</th>\n      <th>Lysosome/Vacuole</th>\n      <th>Golgi apparatus</th>\n      <th>Peroxisome</th>\n    </tr>\n  </thead>\n  <tbody>\n    <tr>\n      <th>0</th>\n      <td>O75503</td>\n      <td>MAQEVDTAQGAEMRRGAGAARGRASWCWALALLWLAVVPGWSRVSG...</td>\n      <td>0</td>\n      <td>0</td>\n      <td>0</td>\n      <td>0</td>\n      <td>0</td>\n      <td>0</td>\n      <td>0</td>\n      <td>0</td>\n      <td>1</td>\n      <td>0</td>\n      <td>0</td>\n    </tr>\n    <tr>\n      <th>1</th>\n      <td>Q9LHA4</td>\n      <td>MYGFEALTFNIHGGYLEAIVRGHRAGLLTTADYNNLCQCENLDDIK...</td>\n      <td>0</td>\n      <td>0</td>\n      <td>0</td>\n      <td>0</td>\n      <td>0</td>\n      <td>0</td>\n      <td>0</td>\n      <td>0</td>\n      <td>1</td>\n      <td>0</td>\n      <td>0</td>\n    </tr>\n    <tr>\n      <th>2</th>\n      <td>Q9LJI5</td>\n      <td>MYGFEALTFNIHGGYLEAIVRGHRAGLLTTADYNNLCQCENLDDIK...</td>\n      <td>0</td>\n      <td>0</td>\n      <td>0</td>\n      <td>0</td>\n      <td>0</td>\n      <td>0</td>\n      <td>0</td>\n      <td>0</td>\n      <td>1</td>\n      <td>0</td>\n      <td>0</td>\n    </tr>\n    <tr>\n      <th>3</th>\n      <td>Q9SZN1</td>\n      <td>MGAAENNLEMEGTLEIGMEYRTVSGVAGPLVILEKVKGPKYQEIVN...</td>\n      <td>0</td>\n      <td>0</td>\n      <td>0</td>\n      <td>0</td>\n      <td>0</td>\n      <td>0</td>\n      <td>0</td>\n      <td>0</td>\n      <td>1</td>\n      <td>0</td>\n      <td>0</td>\n    </tr>\n    <tr>\n      <th>4</th>\n      <td>P51799</td>\n      <td>MANVSKKVSWSGRDRDDEEGAPLLRRTGQPDEETPLLNGAGPGARQ...</td>\n      <td>0</td>\n      <td>0</td>\n      <td>0</td>\n      <td>0</td>\n      <td>0</td>\n      <td>0</td>\n      <td>0</td>\n      <td>0</td>\n      <td>1</td>\n      <td>0</td>\n      <td>0</td>\n    </tr>\n    <tr>\n      <th>...</th>\n      <td>...</td>\n      <td>...</td>\n      <td>...</td>\n      <td>...</td>\n      <td>...</td>\n      <td>...</td>\n      <td>...</td>\n      <td>...</td>\n      <td>...</td>\n      <td>...</td>\n      <td>...</td>\n      <td>...</td>\n      <td>...</td>\n    </tr>\n    <tr>\n      <th>533</th>\n      <td>P82971</td>\n      <td>IIFPGTLWCGNGNLANGTNQLGSWKETDSCCRTHDMCPDLIEAHGS...</td>\n      <td>0</td>\n      <td>0</td>\n      <td>0</td>\n      <td>1</td>\n      <td>0</td>\n      <td>0</td>\n      <td>0</td>\n      <td>0</td>\n      <td>0</td>\n      <td>0</td>\n      <td>0</td>\n    </tr>\n    <tr>\n      <th>534</th>\n      <td>B4YSU8</td>\n      <td>MQKATVLLLALLLLLPLSTAQDAEGSQEDAAQREVDIATRCGGTGD...</td>\n      <td>0</td>\n      <td>0</td>\n      <td>0</td>\n      <td>1</td>\n      <td>0</td>\n      <td>0</td>\n      <td>0</td>\n      <td>0</td>\n      <td>0</td>\n      <td>0</td>\n      <td>0</td>\n    </tr>\n    <tr>\n      <th>535</th>\n      <td>B3A0P0</td>\n      <td>IIECFFSCEIEKDGKSKEGKPCKPKGDKDKDKKCGGWRCKIKMCIKI</td>\n      <td>0</td>\n      <td>0</td>\n      <td>0</td>\n      <td>1</td>\n      <td>0</td>\n      <td>0</td>\n      <td>0</td>\n      <td>0</td>\n      <td>0</td>\n      <td>0</td>\n      <td>0</td>\n    </tr>\n    <tr>\n      <th>536</th>\n      <td>P86368</td>\n      <td>SLLEFGMMILEETGKLAVPFYSSYGCYCGWGGKATPKDATDRCCFV...</td>\n      <td>0</td>\n      <td>0</td>\n      <td>0</td>\n      <td>1</td>\n      <td>0</td>\n      <td>0</td>\n      <td>0</td>\n      <td>0</td>\n      <td>0</td>\n      <td>0</td>\n      <td>0</td>\n    </tr>\n    <tr>\n      <th>537</th>\n      <td>P80156</td>\n      <td>TKCYKTGDRIISEACPPGQDLCYMKTWCDVFCGTRGRVIELGCTAT...</td>\n      <td>0</td>\n      <td>0</td>\n      <td>0</td>\n      <td>1</td>\n      <td>0</td>\n      <td>0</td>\n      <td>0</td>\n      <td>0</td>\n      <td>0</td>\n      <td>0</td>\n      <td>0</td>\n    </tr>\n  </tbody>\n</table>\n<p>538 rows × 13 columns</p>\n</div>"
     },
     "execution_count": 11,
     "metadata": {},
     "output_type": "execute_result"
    }
   ],
   "source": [
    "filtered_df"
   ],
   "metadata": {
    "collapsed": false,
    "ExecuteTime": {
     "end_time": "2024-06-01T03:00:34.296637Z",
     "start_time": "2024-06-01T03:00:34.284177Z"
    }
   },
   "id": "482c3ebe157d60c4",
   "execution_count": 11
  },
  {
   "cell_type": "code",
   "outputs": [],
   "source": [
    "def plot_label1_percentage(dataframe, selected_columns):\n",
    "    \"\"\"\n",
    "    Plots the percentage of label 1 in each selected column of the DataFrame.\n",
    "\n",
    "    Parameters:\n",
    "    - dataframe (pd.DataFrame): The input DataFrame.\n",
    "    - selected_columns (list): List of column names to analyze.\n",
    "\n",
    "    Returns:\n",
    "    - None (plots the result using matplotlib)\n",
    "    \"\"\"\n",
    "\n",
    "    # Check if selected columns exist in the DataFrame\n",
    "    invalid_columns = [col for col in selected_columns if col not in dataframe.columns]\n",
    "    if invalid_columns:\n",
    "        print(f\"Invalid columns: {invalid_columns}\")\n",
    "        return\n",
    "\n",
    "    # Initialize a plot\n",
    "    plt.figure(figsize=(20,13))\n",
    "\n",
    "    # Plot the percentage of label 1 for each selected column\n",
    "    for col in selected_columns:\n",
    "        label_counts = dataframe[col].value_counts(normalize=True)\n",
    "        if 1 in label_counts.index:\n",
    "            label1_percentage = label_counts[1] * 100\n",
    "            plt.bar(col, label1_percentage, label=f'{col} - Label 1')\n",
    "\n",
    "    # Add labels and title\n",
    "    plt.xlabel('Columns')\n",
    "    plt.ylabel('Percentage of Label 1')\n",
    "    plt.title('Percentage of Label 1 in Selected Columns')\n",
    "    plt.legend()\n",
    "\n",
    "    # Show the plot\n",
    "    plt.show()"
   ],
   "metadata": {
    "collapsed": false,
    "ExecuteTime": {
     "end_time": "2024-06-01T03:00:35.611518Z",
     "start_time": "2024-06-01T03:00:35.606064Z"
    }
   },
   "id": "55db53d62c999117",
   "execution_count": 12
  },
  {
   "cell_type": "code",
   "outputs": [
    {
     "data": {
      "text/plain": "<Figure size 2000x1300 with 1 Axes>",
      "image/png": "[encoded data removed]"
     },
     "metadata": {},
     "output_type": "display_data"
    }
   ],
   "source": [
    "plot_label1_percentage(filtered_df, ['Membrane', 'Cytoplasm', 'Nucleus', 'Extracellular', 'Cell membrane', 'Mitochondrion', 'Plastid', 'Endoplasmic reticulum', 'Lysosome/Vacuole', 'Golgi apparatus', 'Peroxisome'])"
   ],
   "metadata": {
    "collapsed": false,
    "ExecuteTime": {
     "end_time": "2024-06-01T03:00:36.740490Z",
     "start_time": "2024-06-01T03:00:36.480685Z"
    }
   },
   "id": "18b2d59ab3926c48",
   "execution_count": 13
  },
  {
   "cell_type": "code",
   "outputs": [
    {
     "data": {
      "text/plain": "        ACC                                           Sequence  Membrane  \\\n0    O75503  MAQEVDTAQGAEMRRGAGAARGRASWCWALALLWLAVVPGWSRVSG...         0   \n1    Q9LHA4  MYGFEALTFNIHGGYLEAIVRGHRAGLLTTADYNNLCQCENLDDIK...         0   \n2    Q9LJI5  MYGFEALTFNIHGGYLEAIVRGHRAGLLTTADYNNLCQCENLDDIK...         0   \n3    Q9SZN1  MGAAENNLEMEGTLEIGMEYRTVSGVAGPLVILEKVKGPKYQEIVN...         0   \n4    P51799  MANVSKKVSWSGRDRDDEEGAPLLRRTGQPDEETPLLNGAGPGARQ...         0   \n..      ...                                                ...       ...   \n533  P82971  IIFPGTLWCGNGNLANGTNQLGSWKETDSCCRTHDMCPDLIEAHGS...         0   \n534  B4YSU8  MQKATVLLLALLLLLPLSTAQDAEGSQEDAAQREVDIATRCGGTGD...         0   \n535  B3A0P0    IIECFFSCEIEKDGKSKEGKPCKPKGDKDKDKKCGGWRCKIKMCIKI         0   \n536  P86368  SLLEFGMMILEETGKLAVPFYSSYGCYCGWGGKATPKDATDRCCFV...         0   \n537  P80156  TKCYKTGDRIISEACPPGQDLCYMKTWCDVFCGTRGRVIELGCTAT...         0   \n\n     Cytoplasm  Nucleus  Extracellular  Cell membrane  Mitochondrion  Plastid  \\\n0            0        0              0              0              0        0   \n1            0        0              0              0              0        0   \n2            0        0              0              0              0        0   \n3            0        0              0              0              0        0   \n4            0        0              0              0              0        0   \n..         ...      ...            ...            ...            ...      ...   \n533          0        0              1              0              0        0   \n534          0        0              1              0              0        0   \n535          0        0              1              0              0        0   \n536          0        0              1              0              0        0   \n537          0        0              1              0              0        0   \n\n     Endoplasmic reticulum  Lysosome/Vacuole  Golgi apparatus  Peroxisome  \n0                        0                 1                0           0  \n1                        0                 1                0           0  \n2                        0                 1                0           0  \n3                        0                 1                0           0  \n4                        0                 1                0           0  \n..                     ...               ...              ...         ...  \n533                      0                 0                0           0  \n534                      0                 0                0           0  \n535                      0                 0                0           0  \n536                      0                 0                0           0  \n537                      0                 0                0           0  \n\n[538 rows x 13 columns]",
      "text/html": "<div>\n<style scoped>\n    .dataframe tbody tr th:only-of-type {\n        vertical-align: middle;\n    }\n\n    .dataframe tbody tr th {\n        vertical-align: top;\n    }\n\n    .dataframe thead th {\n        text-align: right;\n    }\n</style>\n<table border=\"1\" class=\"dataframe\">\n  <thead>\n    <tr style=\"text-align: right;\">\n      <th></th>\n      <th>ACC</th>\n      <th>Sequence</th>\n      <th>Membrane</th>\n      <th>Cytoplasm</th>\n      <th>Nucleus</th>\n      <th>Extracellular</th>\n      <th>Cell membrane</th>\n      <th>Mitochondrion</th>\n      <th>Plastid</th>\n      <th>Endoplasmic reticulum</th>\n      <th>Lysosome/Vacuole</th>\n      <th>Golgi apparatus</th>\n      <th>Peroxisome</th>\n    </tr>\n  </thead>\n  <tbody>\n    <tr>\n      <th>0</th>\n      <td>O75503</td>\n      <td>MAQEVDTAQGAEMRRGAGAARGRASWCWALALLWLAVVPGWSRVSG...</td>\n      <td>0</td>\n      <td>0</td>\n      <td>0</td>\n      <td>0</td>\n      <td>0</td>\n      <td>0</td>\n      <td>0</td>\n      <td>0</td>\n      <td>1</td>\n      <td>0</td>\n      <td>0</td>\n    </tr>\n    <tr>\n      <th>1</th>\n      <td>Q9LHA4</td>\n      <td>MYGFEALTFNIHGGYLEAIVRGHRAGLLTTADYNNLCQCENLDDIK...</td>\n      <td>0</td>\n      <td>0</td>\n      <td>0</td>\n      <td>0</td>\n      <td>0</td>\n      <td>0</td>\n      <td>0</td>\n      <td>0</td>\n      <td>1</td>\n      <td>0</td>\n      <td>0</td>\n    </tr>\n    <tr>\n      <th>2</th>\n      <td>Q9LJI5</td>\n      <td>MYGFEALTFNIHGGYLEAIVRGHRAGLLTTADYNNLCQCENLDDIK...</td>\n      <td>0</td>\n      <td>0</td>\n      <td>0</td>\n      <td>0</td>\n      <td>0</td>\n      <td>0</td>\n      <td>0</td>\n      <td>0</td>\n      <td>1</td>\n      <td>0</td>\n      <td>0</td>\n    </tr>\n    <tr>\n      <th>3</th>\n      <td>Q9SZN1</td>\n      <td>MGAAENNLEMEGTLEIGMEYRTVSGVAGPLVILEKVKGPKYQEIVN...</td>\n      <td>0</td>\n      <td>0</td>\n      <td>0</td>\n      <td>0</td>\n      <td>0</td>\n      <td>0</td>\n      <td>0</td>\n      <td>0</td>\n      <td>1</td>\n      <td>0</td>\n      <td>0</td>\n    </tr>\n    <tr>\n      <th>4</th>\n      <td>P51799</td>\n      <td>MANVSKKVSWSGRDRDDEEGAPLLRRTGQPDEETPLLNGAGPGARQ...</td>\n      <td>0</td>\n      <td>0</td>\n      <td>0</td>\n      <td>0</td>\n      <td>0</td>\n      <td>0</td>\n      <td>0</td>\n      <td>0</td>\n      <td>1</td>\n      <td>0</td>\n      <td>0</td>\n    </tr>\n    <tr>\n      <th>...</th>\n      <td>...</td>\n      <td>...</td>\n      <td>...</td>\n      <td>...</td>\n      <td>...</td>\n      <td>...</td>\n      <td>...</td>\n      <td>...</td>\n      <td>...</td>\n      <td>...</td>\n      <td>...</td>\n      <td>...</td>\n      <td>...</td>\n    </tr>\n    <tr>\n      <th>533</th>\n      <td>P82971</td>\n      <td>IIFPGTLWCGNGNLANGTNQLGSWKETDSCCRTHDMCPDLIEAHGS...</td>\n      <td>0</td>\n      <td>0</td>\n      <td>0</td>\n      <td>1</td>\n      <td>0</td>\n      <td>0</td>\n      <td>0</td>\n      <td>0</td>\n      <td>0</td>\n      <td>0</td>\n      <td>0</td>\n    </tr>\n    <tr>\n      <th>534</th>\n      <td>B4YSU8</td>\n      <td>MQKATVLLLALLLLLPLSTAQDAEGSQEDAAQREVDIATRCGGTGD...</td>\n      <td>0</td>\n      <td>0</td>\n      <td>0</td>\n      <td>1</td>\n      <td>0</td>\n      <td>0</td>\n      <td>0</td>\n      <td>0</td>\n      <td>0</td>\n      <td>0</td>\n      <td>0</td>\n    </tr>\n    <tr>\n      <th>535</th>\n      <td>B3A0P0</td>\n      <td>IIECFFSCEIEKDGKSKEGKPCKPKGDKDKDKKCGGWRCKIKMCIKI</td>\n      <td>0</td>\n      <td>0</td>\n      <td>0</td>\n      <td>1</td>\n      <td>0</td>\n      <td>0</td>\n      <td>0</td>\n      <td>0</td>\n      <td>0</td>\n      <td>0</td>\n      <td>0</td>\n    </tr>\n    <tr>\n      <th>536</th>\n      <td>P86368</td>\n      <td>SLLEFGMMILEETGKLAVPFYSSYGCYCGWGGKATPKDATDRCCFV...</td>\n      <td>0</td>\n      <td>0</td>\n      <td>0</td>\n      <td>1</td>\n      <td>0</td>\n      <td>0</td>\n      <td>0</td>\n      <td>0</td>\n      <td>0</td>\n      <td>0</td>\n      <td>0</td>\n    </tr>\n    <tr>\n      <th>537</th>\n      <td>P80156</td>\n      <td>TKCYKTGDRIISEACPPGQDLCYMKTWCDVFCGTRGRVIELGCTAT...</td>\n      <td>0</td>\n      <td>0</td>\n      <td>0</td>\n      <td>1</td>\n      <td>0</td>\n      <td>0</td>\n      <td>0</td>\n      <td>0</td>\n      <td>0</td>\n      <td>0</td>\n      <td>0</td>\n    </tr>\n  </tbody>\n</table>\n<p>538 rows × 13 columns</p>\n</div>"
     },
     "execution_count": 14,
     "metadata": {},
     "output_type": "execute_result"
    }
   ],
   "source": [
    "filtered_df"
   ],
   "metadata": {
    "collapsed": false,
    "ExecuteTime": {
     "end_time": "2024-06-01T03:00:43.884232Z",
     "start_time": "2024-06-01T03:00:43.873223Z"
    }
   },
   "id": "e57bba5c2f2d996c",
   "execution_count": 14
  },
  {
   "cell_type": "code",
   "outputs": [
    {
     "name": "stdout",
     "output_type": "stream",
     "text": [
      "[  1   3   4   5   7   8  12  13  14  16  17  19  20  21  23  24  25  26\n",
      "  27  28  29  31  32  34  35  36  37  38  40  41  42  43  44  45  47  48\n",
      "  49  50  51  52  53  54  56  57  58  59  60  61  62  64  65  66  67  69\n",
      "  71  74  80  81  83  85  87  88  91  92  94  95  96  97  98  99 100 102\n",
      " 103 105 106 107 108 109 110 111 112 113 114 115 116 118 119 120 121 122\n",
      " 123 124 125 126 127 128 129 130 131 133 134 135 136 137 138 139 141 142\n",
      " 143 144 145 146 147 150 151 152 154 155 156 157 158 159 160 161 162 163\n",
      " 164 165 166 168 169 170 171 172 174 175 176 178 179 181 182 183 185 186\n",
      " 187 188 189 190 191 193 194 195 197 198 199 200 201 202 203 205 206 207\n",
      " 208 209 212 213 214 215 216 217 218 219 220 221 223 224 225 226 230 231\n",
      " 232 233 234 235 236 238 239 240 241 242 243 245 246 249 251 252 253 254\n",
      " 255 256 257 258 259 260 262 263 264 265 266 267 268 269 270 271 272 273\n",
      " 276 277 279 280 281 282 283 284 285 286 287 288 289 291 292 293 294 295\n",
      " 296 297 298 299 300 301 302 303 306 307 308 309 310 311 312 313 314 315\n",
      " 316 317 318 319 321 322 323 325 326 327 328 330 331 332 333 334 335 336\n",
      " 337 338 339 340 341 343 344 345 346 349 350 351 356 357 358 359 360 361\n",
      " 362 363 364 366 368 369 370 371 372 374 375 376 378 379 380 381 382 383\n",
      " 384 385 386 387 388 389 390 391 392 394 395 396 398 399 400 401 402 403\n",
      " 404 405 407 409 410 411 412 413 415 416 417 418 419 420 421 422 424 426\n",
      " 427 429 430 431 432 433 435 436 437 439 440 441 443 444 445 446 447 448\n",
      " 449 450 451 452 454 455 457 458 459 461 462 463 464 465 466 467 468 469\n",
      " 470 471 472 473 474 475 476 477 479 481 483 484 486 487 488 489 490 491\n",
      " 492 493 495 496 497 499 500 501 502 503 504 505 507 508 509 512 514 515\n",
      " 516 517 518 519 520 521 523 525 527 528 529 530 532 534 535 536] [  0   2   6   9  10  11  15  18  22  30  33  39  46  55  63  68  70  72\n",
      "  73  75  76  77  78  79  82  84  86  89  90  93 101 104 117 132 140 148\n",
      " 149 153 167 173 177 180 184 192 196 204 210 211 222 227 228 229 237 244\n",
      " 247 248 250 261 274 275 278 290 304 305 320 324 329 342 347 348 352 353\n",
      " 354 355 365 367 373 377 393 397 406 408 414 423 425 428 434 438 442 453\n",
      " 456 460 478 480 482 485 494 498 506 510 511 513 522 524 526 531 533 537]\n",
      "[  0   1   2   4   6   8   9  10  11  12  13  14  15  18  20  21  22  27\n",
      "  28  30  32  33  34  35  36  38  39  40  41  43  44  46  47  48  49  50\n",
      "  51  52  53  54  55  58  59  61  62  63  64  65  67  68  70  71  72  73\n",
      "  74  75  76  77  78  79  80  81  82  83  84  85  86  87  88  89  90  91\n",
      "  92  93  95  96  97  98  99 100 101 102 103 104 105 106 107 109 111 112\n",
      " 115 117 119 120 121 122 123 125 127 128 129 130 132 133 134 135 136 138\n",
      " 139 140 141 142 143 145 146 147 148 149 150 151 152 153 156 159 160 161\n",
      " 162 163 164 165 166 167 168 169 170 171 173 174 177 178 179 180 183 184\n",
      " 186 187 188 189 190 191 192 193 196 197 198 199 200 201 202 204 205 206\n",
      " 207 210 211 212 213 214 215 216 217 219 221 222 223 224 226 227 228 229\n",
      " 230 232 233 234 235 236 237 239 240 241 242 243 244 246 247 248 250 251\n",
      " 252 253 254 255 256 257 258 259 260 261 262 263 264 265 266 267 268 269\n",
      " 270 272 273 274 275 276 277 278 279 280 281 282 283 285 288 290 292 293\n",
      " 294 295 298 299 300 303 304 305 306 307 308 309 310 311 312 313 314 315\n",
      " 316 317 319 320 321 323 324 325 326 327 328 329 330 331 333 335 336 337\n",
      " 338 339 340 341 342 343 344 345 347 348 350 351 352 353 354 355 357 358\n",
      " 359 360 361 362 363 365 366 367 369 371 372 373 374 377 378 379 382 384\n",
      " 385 387 388 389 390 391 393 394 395 396 397 398 399 400 401 402 403 404\n",
      " 405 406 407 408 409 410 411 413 414 415 416 417 419 420 421 423 424 425\n",
      " 426 427 428 429 430 432 433 434 435 436 437 438 440 441 442 443 445 450\n",
      " 451 452 453 454 455 456 457 458 459 460 461 463 464 466 467 470 471 472\n",
      " 474 475 476 477 478 480 482 483 484 485 486 487 488 489 491 494 497 498\n",
      " 499 500 501 502 503 504 505 506 507 509 510 511 513 514 515 518 519 520\n",
      " 521 522 523 524 525 526 527 528 529 530 531 532 533 535 536 537] [  3   5   7  16  17  19  23  24  25  26  29  31  37  42  45  56  57  60\n",
      "  66  69  94 108 110 113 114 116 118 124 126 131 137 144 154 155 157 158\n",
      " 172 175 176 181 182 185 194 195 203 208 209 218 220 225 231 238 245 249\n",
      " 271 284 286 287 289 291 296 297 301 302 318 322 332 334 346 349 356 364\n",
      " 368 370 375 376 380 381 383 386 392 412 418 422 431 439 444 446 447 448\n",
      " 449 462 465 468 469 473 479 481 490 492 493 495 496 508 512 516 517 534]\n",
      "[  0   1   2   3   4   5   6   7   8   9  10  11  12  13  14  15  16  17\n",
      "  18  19  20  21  22  23  24  25  26  27  28  29  30  31  32  33  34  35\n",
      "  37  39  40  41  42  43  44  45  46  47  48  49  50  51  52  53  54  55\n",
      "  56  57  58  60  61  62  63  64  65  66  68  69  70  71  72  73  75  76\n",
      "  77  78  79  80  82  84  85  86  87  88  89  90  91  93  94  95  98  99\n",
      " 100 101 102 104 105 106 107 108 110 113 114 115 116 117 118 120 121 124\n",
      " 126 127 128 130 131 132 133 134 135 136 137 138 140 142 144 148 149 151\n",
      " 153 154 155 156 157 158 159 160 161 162 164 166 167 169 170 171 172 173\n",
      " 174 175 176 177 178 180 181 182 184 185 186 187 189 190 191 192 194 195\n",
      " 196 197 200 201 203 204 205 206 207 208 209 210 211 212 213 214 215 216\n",
      " 217 218 220 221 222 224 225 226 227 228 229 230 231 232 233 235 236 237\n",
      " 238 240 241 242 243 244 245 247 248 249 250 251 252 254 256 258 259 260\n",
      " 261 263 264 267 269 270 271 273 274 275 276 278 279 282 283 284 285 286\n",
      " 287 288 289 290 291 292 295 296 297 300 301 302 303 304 305 306 308 309\n",
      " 313 314 315 317 318 319 320 322 324 326 327 328 329 330 332 334 337 339\n",
      " 341 342 343 344 345 346 347 348 349 350 351 352 353 354 355 356 357 358\n",
      " 359 362 363 364 365 366 367 368 369 370 371 372 373 374 375 376 377 378\n",
      " 379 380 381 382 383 385 386 387 389 391 392 393 394 397 398 401 405 406\n",
      " 407 408 409 412 413 414 415 418 419 420 422 423 424 425 426 427 428 430\n",
      " 431 434 435 436 438 439 440 441 442 443 444 445 446 447 448 449 450 451\n",
      " 453 454 456 458 459 460 461 462 463 464 465 466 468 469 472 473 474 475\n",
      " 476 477 478 479 480 481 482 483 484 485 488 489 490 491 492 493 494 495\n",
      " 496 497 498 499 500 501 503 505 506 507 508 509 510 511 512 513 516 517\n",
      " 518 520 521 522 523 524 526 528 529 530 531 532 533 534 535 537] [ 36  38  59  67  74  81  83  92  96  97 103 109 111 112 119 122 123 125\n",
      " 129 139 141 143 145 146 147 150 152 163 165 168 179 183 188 193 198 199\n",
      " 202 219 223 234 239 246 253 255 257 262 265 266 268 272 277 280 281 293\n",
      " 294 298 299 307 310 311 312 316 321 323 325 331 333 335 336 338 340 360\n",
      " 361 384 388 390 395 396 399 400 402 403 404 410 411 416 417 421 429 432\n",
      " 433 437 452 455 457 467 470 471 486 487 502 504 514 515 519 525 527 536]\n",
      "[  0   1   2   3   5   6   7   9  10  11  13  15  16  17  18  19  20  21\n",
      "  22  23  24  25  26  29  30  31  33  34  36  37  38  39  42  43  45  46\n",
      "  48  49  50  52  53  54  55  56  57  58  59  60  63  66  67  68  69  70\n",
      "  71  72  73  74  75  76  77  78  79  80  81  82  83  84  86  87  88  89\n",
      "  90  91  92  93  94  96  97  99 101 102 103 104 105 106 108 109 110 111\n",
      " 112 113 114 116 117 118 119 121 122 123 124 125 126 129 130 131 132 134\n",
      " 137 139 140 141 143 144 145 146 147 148 149 150 152 153 154 155 157 158\n",
      " 160 161 163 165 166 167 168 169 172 173 174 175 176 177 179 180 181 182\n",
      " 183 184 185 187 188 189 190 191 192 193 194 195 196 198 199 201 202 203\n",
      " 204 205 207 208 209 210 211 212 214 217 218 219 220 222 223 225 227 228\n",
      " 229 231 234 235 236 237 238 239 241 243 244 245 246 247 248 249 250 251\n",
      " 252 253 255 257 259 261 262 263 264 265 266 268 269 270 271 272 273 274\n",
      " 275 276 277 278 279 280 281 284 286 287 289 290 291 293 294 295 296 297\n",
      " 298 299 301 302 303 304 305 306 307 308 309 310 311 312 313 315 316 318\n",
      " 319 320 321 322 323 324 325 328 329 330 331 332 333 334 335 336 337 338\n",
      " 339 340 342 343 344 345 346 347 348 349 350 352 353 354 355 356 359 360\n",
      " 361 363 364 365 366 367 368 370 372 373 375 376 377 380 381 383 384 385\n",
      " 386 387 388 389 390 392 393 395 396 397 399 400 401 402 403 404 406 408\n",
      " 409 410 411 412 413 414 416 417 418 419 421 422 423 425 427 428 429 430\n",
      " 431 432 433 434 435 437 438 439 442 443 444 445 446 447 448 449 452 453\n",
      " 454 455 456 457 458 459 460 462 463 465 466 467 468 469 470 471 472 473\n",
      " 474 475 476 478 479 480 481 482 483 484 485 486 487 490 491 492 493 494\n",
      " 495 496 497 498 499 500 501 502 504 506 508 510 511 512 513 514 515 516\n",
      " 517 518 519 522 523 524 525 526 527 529 531 532 533 534 535 536 537] [  4   8  12  14  27  28  32  35  40  41  44  47  51  61  62  64  65  85\n",
      "  95  98 100 107 115 120 127 128 133 135 136 138 142 151 156 159 162 164\n",
      " 170 171 178 186 197 200 206 213 215 216 221 224 226 230 232 233 240 242\n",
      " 254 256 258 260 267 282 283 285 288 292 300 314 317 326 327 341 351 357\n",
      " 358 362 369 371 374 378 379 382 391 394 398 405 407 415 420 424 426 436\n",
      " 440 441 450 451 461 464 477 488 489 503 505 507 509 520 521 528 530]\n",
      "[  0   2   3   4   5   6   7   8   9  10  11  12  14  15  16  17  18  19\n",
      "  22  23  24  25  26  27  28  29  30  31  32  33  35  36  37  38  39  40\n",
      "  41  42  44  45  46  47  51  55  56  57  59  60  61  62  63  64  65  66\n",
      "  67  68  69  70  72  73  74  75  76  77  78  79  81  82  83  84  85  86\n",
      "  89  90  92  93  94  95  96  97  98 100 101 103 104 107 108 109 110 111\n",
      " 112 113 114 115 116 117 118 119 120 122 123 124 125 126 127 128 129 131\n",
      " 132 133 135 136 137 138 139 140 141 142 143 144 145 146 147 148 149 150\n",
      " 151 152 153 154 155 156 157 158 159 162 163 164 165 167 168 170 171 172\n",
      " 173 175 176 177 178 179 180 181 182 183 184 185 186 188 192 193 194 195\n",
      " 196 197 198 199 200 202 203 204 206 208 209 210 211 213 215 216 218 219\n",
      " 220 221 222 223 224 225 226 227 228 229 230 231 232 233 234 237 238 239\n",
      " 240 242 244 245 246 247 248 249 250 253 254 255 256 257 258 260 261 262\n",
      " 265 266 267 268 271 272 274 275 277 278 280 281 282 283 284 285 286 287\n",
      " 288 289 290 291 292 293 294 296 297 298 299 300 301 302 304 305 307 310\n",
      " 311 312 314 316 317 318 320 321 322 323 324 325 326 327 329 331 332 333\n",
      " 334 335 336 338 340 341 342 346 347 348 349 351 352 353 354 355 356 357\n",
      " 358 360 361 362 364 365 367 368 369 370 371 373 374 375 376 377 378 379\n",
      " 380 381 382 383 384 386 388 390 391 392 393 394 395 396 397 398 399 400\n",
      " 402 403 404 405 406 407 408 410 411 412 414 415 416 417 418 420 421 422\n",
      " 423 424 425 426 428 429 431 432 433 434 436 437 438 439 440 441 442 444\n",
      " 446 447 448 449 450 451 452 453 455 456 457 460 461 462 464 465 467 468\n",
      " 469 470 471 473 477 478 479 480 481 482 485 486 487 488 489 490 492 493\n",
      " 494 495 496 498 502 503 504 505 506 507 508 509 510 511 512 513 514 515\n",
      " 516 517 519 520 521 522 524 525 526 527 528 530 531 533 534 536 537] [  1  13  20  21  34  43  48  49  50  52  53  54  58  71  80  87  88  91\n",
      "  99 102 105 106 121 130 134 160 161 166 169 174 187 189 190 191 201 205\n",
      " 207 212 214 217 235 236 241 243 251 252 259 263 264 269 270 273 276 279\n",
      " 295 303 306 308 309 313 315 319 328 330 337 339 343 344 345 350 359 363\n",
      " 366 372 385 387 389 401 409 413 419 427 430 435 443 445 454 458 459 463\n",
      " 466 472 474 475 476 483 484 491 497 499 500 501 518 523 529 532 535]\n",
      "        ACC                                           Sequence  Membrane  \\\n",
      "0    O75503  MAQEVDTAQGAEMRRGAGAARGRASWCWALALLWLAVVPGWSRVSG...         0   \n",
      "1    Q9LHA4  MYGFEALTFNIHGGYLEAIVRGHRAGLLTTADYNNLCQCENLDDIK...         0   \n",
      "2    Q9LJI5  MYGFEALTFNIHGGYLEAIVRGHRAGLLTTADYNNLCQCENLDDIK...         0   \n",
      "3    Q9SZN1  MGAAENNLEMEGTLEIGMEYRTVSGVAGPLVILEKVKGPKYQEIVN...         0   \n",
      "4    P51799  MANVSKKVSWSGRDRDDEEGAPLLRRTGQPDEETPLLNGAGPGARQ...         0   \n",
      "..      ...                                                ...       ...   \n",
      "533  P82971  IIFPGTLWCGNGNLANGTNQLGSWKETDSCCRTHDMCPDLIEAHGS...         0   \n",
      "534  B4YSU8  MQKATVLLLALLLLLPLSTAQDAEGSQEDAAQREVDIATRCGGTGD...         0   \n",
      "535  B3A0P0    IIECFFSCEIEKDGKSKEGKPCKPKGDKDKDKKCGGWRCKIKMCIKI         0   \n",
      "536  P86368  SLLEFGMMILEETGKLAVPFYSSYGCYCGWGGKATPKDATDRCCFV...         0   \n",
      "537  P80156  TKCYKTGDRIISEACPPGQDLCYMKTWCDVFCGTRGRVIELGCTAT...         0   \n",
      "\n",
      "     Cytoplasm  Nucleus  Extracellular  Cell membrane  Mitochondrion  Plastid  \\\n",
      "0            0        0              0              0              0        0   \n",
      "1            0        0              0              0              0        0   \n",
      "2            0        0              0              0              0        0   \n",
      "3            0        0              0              0              0        0   \n",
      "4            0        0              0              0              0        0   \n",
      "..         ...      ...            ...            ...            ...      ...   \n",
      "533          0        0              1              0              0        0   \n",
      "534          0        0              1              0              0        0   \n",
      "535          0        0              1              0              0        0   \n",
      "536          0        0              1              0              0        0   \n",
      "537          0        0              1              0              0        0   \n",
      "\n",
      "     Endoplasmic reticulum  Lysosome/Vacuole  Golgi apparatus  Peroxisome  \\\n",
      "0                        0                 1                0           0   \n",
      "1                        0                 1                0           0   \n",
      "2                        0                 1                0           0   \n",
      "3                        0                 1                0           0   \n",
      "4                        0                 1                0           0   \n",
      "..                     ...               ...              ...         ...   \n",
      "533                      0                 0                0           0   \n",
      "534                      0                 0                0           0   \n",
      "535                      0                 0                0           0   \n",
      "536                      0                 0                0           0   \n",
      "537                      0                 0                0           0   \n",
      "\n",
      "     Partition  \n",
      "0            0  \n",
      "1            4  \n",
      "2            0  \n",
      "3            1  \n",
      "4            3  \n",
      "..         ...  \n",
      "533          0  \n",
      "534          1  \n",
      "535          4  \n",
      "536          2  \n",
      "537          0  \n",
      "\n",
      "[538 rows x 14 columns]\n"
     ]
    },
    {
     "name": "stderr",
     "output_type": "stream",
     "text": [
      "C:\\Users\\wadkr\\AppData\\Local\\Temp\\ipykernel_24412\\3559374950.py:11: SettingWithCopyWarning: \n",
      "A value is trying to be set on a copy of a slice from a DataFrame.\n",
      "Try using .loc[row_indexer,col_indexer] = value instead\n",
      "\n",
      "See the caveats in the documentation: https://pandas.pydata.org/pandas-docs/stable/user_guide/indexing.html#returning-a-view-versus-a-copy\n",
      "  filtered_df['Partition'] = -1\n"
     ]
    }
   ],
   "source": [
    "import pandas as pd\n",
    "from sklearn.model_selection import KFold\n",
    "\n",
    "# Assuming you have a DataFrame named 'data' with your dataset\n",
    "# Let's say 'data' contains your features and labels\n",
    "\n",
    "# Initialize KFold with 5 folds\n",
    "kf = KFold(n_splits=5, shuffle=True, random_state=42)\n",
    "\n",
    "# Add a new column to store the fold number\n",
    "filtered_df['Partition'] = -1\n",
    "\n",
    "# Assign fold numbers to each row\n",
    "for fold_number, (train_index, test_index) in enumerate(kf.split(filtered_df)):\n",
    "    print(train_index, test_index)\n",
    "    filtered_df.loc[test_index, 'Partition'] = fold_number\n",
    "\n",
    "# Displaying the updated DataFrame with fold numbers\n",
    "print(filtered_df)\n"
   ],
   "metadata": {
    "collapsed": false,
    "ExecuteTime": {
     "end_time": "2024-06-01T03:00:45.123171Z",
     "start_time": "2024-06-01T03:00:45.106640Z"
    }
   },
   "id": "48f7ad2ac7f99c4b",
   "execution_count": 15
  },
  {
   "cell_type": "code",
   "outputs": [
    {
     "name": "stderr",
     "output_type": "stream",
     "text": [
      "C:\\Users\\wadkr\\AppData\\Local\\Temp\\ipykernel_24412\\2864204521.py:1: SettingWithCopyWarning: \n",
      "A value is trying to be set on a copy of a slice from a DataFrame.\n",
      "Try using .loc[row_indexer,col_indexer] = value instead\n",
      "\n",
      "See the caveats in the documentation: https://pandas.pydata.org/pandas-docs/stable/user_guide/indexing.html#returning-a-view-versus-a-copy\n",
      "  filtered_df['Kingdom'] = pd.NA\n"
     ]
    }
   ],
   "source": [
    "filtered_df['Kingdom'] = pd.NA"
   ],
   "metadata": {
    "collapsed": false,
    "ExecuteTime": {
     "end_time": "2024-06-01T03:00:46.461860Z",
     "start_time": "2024-06-01T03:00:46.456386Z"
    }
   },
   "id": "382f289185ac2ad8",
   "execution_count": 16
  },
  {
   "cell_type": "code",
   "outputs": [],
   "source": [
    "filtered_df.to_csv('Combined_Dataset/deeploc_combined_data_with_partition.csv', index=False)"
   ],
   "metadata": {
    "collapsed": false,
    "ExecuteTime": {
     "end_time": "2024-06-01T03:01:18.970996Z",
     "start_time": "2024-06-01T03:01:18.960303Z"
    }
   },
   "id": "912558654cd554fd",
   "execution_count": 17
  },
  {
   "cell_type": "code",
   "outputs": [],
   "source": [],
   "metadata": {
    "collapsed": false
   },
   "id": "34ff4f914a5ba1a5"
  }
 ],
 "metadata": {
  "kernelspec": {
   "display_name": "Python 3",
   "language": "python",
   "name": "python3"
  },
  "language_info": {
   "codemirror_mode": {
    "name": "ipython",
    "version": 2
   },
   "file_extension": ".py",
   "mimetype": "text/x-python",
   "name": "python",
   "nbconvert_exporter": "python",
   "pygments_lexer": "ipython2",
   "version": "2.7.6"
  }
 },
 "nbformat": 4,
 "nbformat_minor": 5
}
