{
 "cells": [
  {
   "cell_type": "code",
   "outputs": [],
   "source": [
    "import pandas as pd\n",
    "import matplotlib.pyplot as plt\n",
    "import seaborn as sns\n",
    "import re\n",
    "from sklearn.model_selection import train_test_split\n",
    "import numpy as np"
   ],
   "metadata": {
    "collapsed": false,
    "ExecuteTime": {
     "end_time": "2024-05-24T10:46:37.390359Z",
     "start_time": "2024-05-24T10:46:37.385030Z"
    }
   },
   "id": "1114414aea61a71",
   "execution_count": 81
  },
  {
   "cell_type": "code",
   "outputs": [],
   "source": [
    "train_dev_data = pd.read_csv('deeploc_combined_data.csv')"
   ],
   "metadata": {
    "collapsed": false,
    "ExecuteTime": {
     "end_time": "2024-05-24T10:46:38.338639Z",
     "start_time": "2024-05-24T10:46:38.331754Z"
    }
   },
   "id": "4135d1b4137e0a04",
   "execution_count": 82
  },
  {
   "cell_type": "code",
   "outputs": [
    {
     "data": {
      "text/plain": "460"
     },
     "execution_count": 83,
     "metadata": {},
     "output_type": "execute_result"
    }
   ],
   "source": [
    "len(train_dev_data)"
   ],
   "metadata": {
    "collapsed": false,
    "ExecuteTime": {
     "end_time": "2024-05-24T10:46:38.962132Z",
     "start_time": "2024-05-24T10:46:38.957844Z"
    }
   },
   "id": "547d97fece3cfbfd",
   "execution_count": 83
  },
  {
   "cell_type": "code",
   "outputs": [],
   "source": [
    "train_dev_data.rename(columns={'ID':'ACC'}, inplace=True)"
   ],
   "metadata": {
    "collapsed": false,
    "ExecuteTime": {
     "end_time": "2024-05-24T10:46:40.409874Z",
     "start_time": "2024-05-24T10:46:40.405729Z"
    }
   },
   "id": "acd7e50420273e85",
   "execution_count": 84
  },
  {
   "cell_type": "code",
   "outputs": [
    {
     "data": {
      "text/plain": "        ACC                                           Sequence  Membrane  \\\n0    O75503  MAQEVDTAQGAEMRRGAGAARGRASWCWALALLWLAVVPGWSRVSG...         0   \n1    Q9LHA4  MYGFEALTFNIHGGYLEAIVRGHRAGLLTTADYNNLCQCENLDDIK...         0   \n2    Q9LJI5  MYGFEALTFNIHGGYLEAIVRGHRAGLLTTADYNNLCQCENLDDIK...         0   \n3    Q9SZN1  MGAAENNLEMEGTLEIGMEYRTVSGVAGPLVILEKVKGPKYQEIVN...         0   \n4    P51799  MANVSKKVSWSGRDRDDEEGAPLLRRTGQPDEETPLLNGAGPGARQ...         0   \n..      ...                                                ...       ...   \n455  P82971  IIFPGTLWCGNGNLANGTNQLGSWKETDSCCRTHDMCPDLIEAHGS...         0   \n456  B4YSU8  MQKATVLLLALLLLLPLSTAQDAEGSQEDAAQREVDIATRCGGTGD...         0   \n457  B3A0P0    IIECFFSCEIEKDGKSKEGKPCKPKGDKDKDKKCGGWRCKIKMCIKI         0   \n458  P86368  SLLEFGMMILEETGKLAVPFYSSYGCYCGWGGKATPKDATDRCCFV...         0   \n459  P80156  TKCYKTGDRIISEACPPGQDLCYMKTWCDVFCGTRGRVIELGCTAT...         0   \n\n     Cytoplasm  Nucleus  Extracellular  Cell membrane  Mitochondrion  Plastid  \\\n0            0        0              0              0              0        0   \n1            0        0              0              0              0        0   \n2            0        0              0              0              0        0   \n3            0        0              0              0              0        0   \n4            0        0              0              0              0        0   \n..         ...      ...            ...            ...            ...      ...   \n455          0        0              1              0              0        0   \n456          0        0              1              0              0        0   \n457          0        0              1              0              0        0   \n458          0        0              1              0              0        0   \n459          0        0              1              0              0        0   \n\n     Endoplasmic reticulum  Lysosome/Vacuole  Golgi apparatus  Peroxisome  \n0                        0                 1                0           0  \n1                        0                 1                0           0  \n2                        0                 1                0           0  \n3                        0                 1                0           0  \n4                        0                 1                0           0  \n..                     ...               ...              ...         ...  \n455                      0                 0                0           0  \n456                      0                 0                0           0  \n457                      0                 0                0           0  \n458                      0                 0                0           0  \n459                      0                 0                0           0  \n\n[460 rows x 13 columns]",
      "text/html": "<div>\n<style scoped>\n    .dataframe tbody tr th:only-of-type {\n        vertical-align: middle;\n    }\n\n    .dataframe tbody tr th {\n        vertical-align: top;\n    }\n\n    .dataframe thead th {\n        text-align: right;\n    }\n</style>\n<table border=\"1\" class=\"dataframe\">\n  <thead>\n    <tr style=\"text-align: right;\">\n      <th></th>\n      <th>ACC</th>\n      <th>Sequence</th>\n      <th>Membrane</th>\n      <th>Cytoplasm</th>\n      <th>Nucleus</th>\n      <th>Extracellular</th>\n      <th>Cell membrane</th>\n      <th>Mitochondrion</th>\n      <th>Plastid</th>\n      <th>Endoplasmic reticulum</th>\n      <th>Lysosome/Vacuole</th>\n      <th>Golgi apparatus</th>\n      <th>Peroxisome</th>\n    </tr>\n  </thead>\n  <tbody>\n    <tr>\n      <th>0</th>\n      <td>O75503</td>\n      <td>MAQEVDTAQGAEMRRGAGAARGRASWCWALALLWLAVVPGWSRVSG...</td>\n      <td>0</td>\n      <td>0</td>\n      <td>0</td>\n      <td>0</td>\n      <td>0</td>\n      <td>0</td>\n      <td>0</td>\n      <td>0</td>\n      <td>1</td>\n      <td>0</td>\n      <td>0</td>\n    </tr>\n    <tr>\n      <th>1</th>\n      <td>Q9LHA4</td>\n      <td>MYGFEALTFNIHGGYLEAIVRGHRAGLLTTADYNNLCQCENLDDIK...</td>\n      <td>0</td>\n      <td>0</td>\n      <td>0</td>\n      <td>0</td>\n      <td>0</td>\n      <td>0</td>\n      <td>0</td>\n      <td>0</td>\n      <td>1</td>\n      <td>0</td>\n      <td>0</td>\n    </tr>\n    <tr>\n      <th>2</th>\n      <td>Q9LJI5</td>\n      <td>MYGFEALTFNIHGGYLEAIVRGHRAGLLTTADYNNLCQCENLDDIK...</td>\n      <td>0</td>\n      <td>0</td>\n      <td>0</td>\n      <td>0</td>\n      <td>0</td>\n      <td>0</td>\n      <td>0</td>\n      <td>0</td>\n      <td>1</td>\n      <td>0</td>\n      <td>0</td>\n    </tr>\n    <tr>\n      <th>3</th>\n      <td>Q9SZN1</td>\n      <td>MGAAENNLEMEGTLEIGMEYRTVSGVAGPLVILEKVKGPKYQEIVN...</td>\n      <td>0</td>\n      <td>0</td>\n      <td>0</td>\n      <td>0</td>\n      <td>0</td>\n      <td>0</td>\n      <td>0</td>\n      <td>0</td>\n      <td>1</td>\n      <td>0</td>\n      <td>0</td>\n    </tr>\n    <tr>\n      <th>4</th>\n      <td>P51799</td>\n      <td>MANVSKKVSWSGRDRDDEEGAPLLRRTGQPDEETPLLNGAGPGARQ...</td>\n      <td>0</td>\n      <td>0</td>\n      <td>0</td>\n      <td>0</td>\n      <td>0</td>\n      <td>0</td>\n      <td>0</td>\n      <td>0</td>\n      <td>1</td>\n      <td>0</td>\n      <td>0</td>\n    </tr>\n    <tr>\n      <th>...</th>\n      <td>...</td>\n      <td>...</td>\n      <td>...</td>\n      <td>...</td>\n      <td>...</td>\n      <td>...</td>\n      <td>...</td>\n      <td>...</td>\n      <td>...</td>\n      <td>...</td>\n      <td>...</td>\n      <td>...</td>\n      <td>...</td>\n    </tr>\n    <tr>\n      <th>455</th>\n      <td>P82971</td>\n      <td>IIFPGTLWCGNGNLANGTNQLGSWKETDSCCRTHDMCPDLIEAHGS...</td>\n      <td>0</td>\n      <td>0</td>\n      <td>0</td>\n      <td>1</td>\n      <td>0</td>\n      <td>0</td>\n      <td>0</td>\n      <td>0</td>\n      <td>0</td>\n      <td>0</td>\n      <td>0</td>\n    </tr>\n    <tr>\n      <th>456</th>\n      <td>B4YSU8</td>\n      <td>MQKATVLLLALLLLLPLSTAQDAEGSQEDAAQREVDIATRCGGTGD...</td>\n      <td>0</td>\n      <td>0</td>\n      <td>0</td>\n      <td>1</td>\n      <td>0</td>\n      <td>0</td>\n      <td>0</td>\n      <td>0</td>\n      <td>0</td>\n      <td>0</td>\n      <td>0</td>\n    </tr>\n    <tr>\n      <th>457</th>\n      <td>B3A0P0</td>\n      <td>IIECFFSCEIEKDGKSKEGKPCKPKGDKDKDKKCGGWRCKIKMCIKI</td>\n      <td>0</td>\n      <td>0</td>\n      <td>0</td>\n      <td>1</td>\n      <td>0</td>\n      <td>0</td>\n      <td>0</td>\n      <td>0</td>\n      <td>0</td>\n      <td>0</td>\n      <td>0</td>\n    </tr>\n    <tr>\n      <th>458</th>\n      <td>P86368</td>\n      <td>SLLEFGMMILEETGKLAVPFYSSYGCYCGWGGKATPKDATDRCCFV...</td>\n      <td>0</td>\n      <td>0</td>\n      <td>0</td>\n      <td>1</td>\n      <td>0</td>\n      <td>0</td>\n      <td>0</td>\n      <td>0</td>\n      <td>0</td>\n      <td>0</td>\n      <td>0</td>\n    </tr>\n    <tr>\n      <th>459</th>\n      <td>P80156</td>\n      <td>TKCYKTGDRIISEACPPGQDLCYMKTWCDVFCGTRGRVIELGCTAT...</td>\n      <td>0</td>\n      <td>0</td>\n      <td>0</td>\n      <td>1</td>\n      <td>0</td>\n      <td>0</td>\n      <td>0</td>\n      <td>0</td>\n      <td>0</td>\n      <td>0</td>\n      <td>0</td>\n    </tr>\n  </tbody>\n</table>\n<p>460 rows × 13 columns</p>\n</div>"
     },
     "execution_count": 85,
     "metadata": {},
     "output_type": "execute_result"
    }
   ],
   "source": [
    "train_dev_data"
   ],
   "metadata": {
    "collapsed": false,
    "ExecuteTime": {
     "end_time": "2024-05-24T10:46:41.048750Z",
     "start_time": "2024-05-24T10:46:41.038281Z"
    }
   },
   "id": "36ef9060ab222690",
   "execution_count": 85
  },
  {
   "cell_type": "code",
   "outputs": [],
   "source": [
    "original=pd.read_csv('multisub_5_partitions_unique.csv')"
   ],
   "metadata": {
    "collapsed": false,
    "ExecuteTime": {
     "end_time": "2024-05-24T10:46:43.729291Z",
     "start_time": "2024-05-24T10:46:43.537817Z"
    }
   },
   "id": "54dc29dbed37b16",
   "execution_count": 86
  },
  {
   "cell_type": "code",
   "outputs": [
    {
     "data": {
      "text/plain": "       Unnamed: 0       ACC        Kingdom  Partition  Membrane  Cytoplasm  \\\n0               0    Q28165        Metazoa          4       0.0        1.0   \n1               1    Q86U42        Metazoa          4       0.0        1.0   \n2               2    Q0GA42        Metazoa          3       1.0        0.0   \n3               3    P82349        Metazoa          1       1.0        1.0   \n4               4    Q7L5N1        Metazoa          1       0.0        1.0   \n...           ...       ...            ...        ...       ...        ...   \n28298       28298    Q09712          Fungi          3       1.0        0.0   \n28299       28299    Q9V3C5        Metazoa          2       1.0        0.0   \n28300       28300    Q9SQQ9  Viridiplantae          4       0.0        0.0   \n28301       28301  Q9SQQ9-3  Viridiplantae          4       0.0        0.0   \n28302       28302    O13747          Fungi          4       0.0        1.0   \n\n       Nucleus  Extracellular  Cell membrane  Mitochondrion  Plastid  \\\n0          1.0            0.0            0.0            0.0      0.0   \n1          1.0            0.0            0.0            0.0      0.0   \n2          0.0            0.0            1.0            0.0      0.0   \n3          0.0            0.0            1.0            0.0      0.0   \n4          1.0            0.0            0.0            0.0      0.0   \n...        ...            ...            ...            ...      ...   \n28298      0.0            0.0            0.0            0.0      0.0   \n28299      0.0            0.0            0.0            0.0      0.0   \n28300      1.0            0.0            0.0            0.0      0.0   \n28301      1.0            0.0            0.0            0.0      0.0   \n28302      0.0            0.0            0.0            0.0      0.0   \n\n       Endoplasmic reticulum  Lysosome/Vacuole  Golgi apparatus  Peroxisome  \\\n0                        0.0               0.0              0.0         0.0   \n1                        0.0               0.0              0.0         0.0   \n2                        0.0               0.0              0.0         0.0   \n3                        0.0               0.0              0.0         0.0   \n4                        0.0               0.0              0.0         0.0   \n...                      ...               ...              ...         ...   \n28298                    1.0               0.0              0.0         0.0   \n28299                    0.0               0.0              1.0         0.0   \n28300                    0.0               0.0              0.0         0.0   \n28301                    0.0               0.0              0.0         0.0   \n28302                    0.0               0.0              0.0         0.0   \n\n                                                Sequence  \n0      MAAAAAAAAAAGAAGGRGSGPGRRRHLVPGAGGEAGEGAPGGAGDY...  \n1      MAAAAAAAAAAGAAGGRGSGPGRRRHLVPGAGGEAGEGAPGGAGDY...  \n2      MAAAAAAAAALGVRLRDCCSRGAVLLLFFSLSPRPPAAAAWLLGLR...  \n3      MAAAAAAAAATEQQGSNGPVKKSMREKAVERRNVNKEHNSNFKAGY...  \n4      MAAAAAAAAATNGTGGSSGMEVDAAVVPSVMACGVTGSVSVALHPL...  \n...                                                  ...  \n28298  MYYIGHPSYYRKHIEHVCFQHSGILKKRNYQKNQKKYIMKLNESAM...  \n28299  MYYPVGWPKRVGLALPGESASIRHICCDAVKILVAAVGDDFLGIWY...  \n28300  MYYQNQHQGKNILSSSRMHITSERHPFLRGNSPGDSGLILSTDAKP...  \n28301  MYYQNQHQGKNILSSSRMHITSERHPFLRGNSPGDSGLILSTDAKP...  \n28302  MYYYLEIECESPVKDIFTCNKRRASKVVGNSFGGDHFNFRLGEIKL...  \n\n[28303 rows x 16 columns]",
      "text/html": "<div>\n<style scoped>\n    .dataframe tbody tr th:only-of-type {\n        vertical-align: middle;\n    }\n\n    .dataframe tbody tr th {\n        vertical-align: top;\n    }\n\n    .dataframe thead th {\n        text-align: right;\n    }\n</style>\n<table border=\"1\" class=\"dataframe\">\n  <thead>\n    <tr style=\"text-align: right;\">\n      <th></th>\n      <th>Unnamed: 0</th>\n      <th>ACC</th>\n      <th>Kingdom</th>\n      <th>Partition</th>\n      <th>Membrane</th>\n      <th>Cytoplasm</th>\n      <th>Nucleus</th>\n      <th>Extracellular</th>\n      <th>Cell membrane</th>\n      <th>Mitochondrion</th>\n      <th>Plastid</th>\n      <th>Endoplasmic reticulum</th>\n      <th>Lysosome/Vacuole</th>\n      <th>Golgi apparatus</th>\n      <th>Peroxisome</th>\n      <th>Sequence</th>\n    </tr>\n  </thead>\n  <tbody>\n    <tr>\n      <th>0</th>\n      <td>0</td>\n      <td>Q28165</td>\n      <td>Metazoa</td>\n      <td>4</td>\n      <td>0.0</td>\n      <td>1.0</td>\n      <td>1.0</td>\n      <td>0.0</td>\n      <td>0.0</td>\n      <td>0.0</td>\n      <td>0.0</td>\n      <td>0.0</td>\n      <td>0.0</td>\n      <td>0.0</td>\n      <td>0.0</td>\n      <td>MAAAAAAAAAAGAAGGRGSGPGRRRHLVPGAGGEAGEGAPGGAGDY...</td>\n    </tr>\n    <tr>\n      <th>1</th>\n      <td>1</td>\n      <td>Q86U42</td>\n      <td>Metazoa</td>\n      <td>4</td>\n      <td>0.0</td>\n      <td>1.0</td>\n      <td>1.0</td>\n      <td>0.0</td>\n      <td>0.0</td>\n      <td>0.0</td>\n      <td>0.0</td>\n      <td>0.0</td>\n      <td>0.0</td>\n      <td>0.0</td>\n      <td>0.0</td>\n      <td>MAAAAAAAAAAGAAGGRGSGPGRRRHLVPGAGGEAGEGAPGGAGDY...</td>\n    </tr>\n    <tr>\n      <th>2</th>\n      <td>2</td>\n      <td>Q0GA42</td>\n      <td>Metazoa</td>\n      <td>3</td>\n      <td>1.0</td>\n      <td>0.0</td>\n      <td>0.0</td>\n      <td>0.0</td>\n      <td>1.0</td>\n      <td>0.0</td>\n      <td>0.0</td>\n      <td>0.0</td>\n      <td>0.0</td>\n      <td>0.0</td>\n      <td>0.0</td>\n      <td>MAAAAAAAAALGVRLRDCCSRGAVLLLFFSLSPRPPAAAAWLLGLR...</td>\n    </tr>\n    <tr>\n      <th>3</th>\n      <td>3</td>\n      <td>P82349</td>\n      <td>Metazoa</td>\n      <td>1</td>\n      <td>1.0</td>\n      <td>1.0</td>\n      <td>0.0</td>\n      <td>0.0</td>\n      <td>1.0</td>\n      <td>0.0</td>\n      <td>0.0</td>\n      <td>0.0</td>\n      <td>0.0</td>\n      <td>0.0</td>\n      <td>0.0</td>\n      <td>MAAAAAAAAATEQQGSNGPVKKSMREKAVERRNVNKEHNSNFKAGY...</td>\n    </tr>\n    <tr>\n      <th>4</th>\n      <td>4</td>\n      <td>Q7L5N1</td>\n      <td>Metazoa</td>\n      <td>1</td>\n      <td>0.0</td>\n      <td>1.0</td>\n      <td>1.0</td>\n      <td>0.0</td>\n      <td>0.0</td>\n      <td>0.0</td>\n      <td>0.0</td>\n      <td>0.0</td>\n      <td>0.0</td>\n      <td>0.0</td>\n      <td>0.0</td>\n      <td>MAAAAAAAAATNGTGGSSGMEVDAAVVPSVMACGVTGSVSVALHPL...</td>\n    </tr>\n    <tr>\n      <th>...</th>\n      <td>...</td>\n      <td>...</td>\n      <td>...</td>\n      <td>...</td>\n      <td>...</td>\n      <td>...</td>\n      <td>...</td>\n      <td>...</td>\n      <td>...</td>\n      <td>...</td>\n      <td>...</td>\n      <td>...</td>\n      <td>...</td>\n      <td>...</td>\n      <td>...</td>\n      <td>...</td>\n    </tr>\n    <tr>\n      <th>28298</th>\n      <td>28298</td>\n      <td>Q09712</td>\n      <td>Fungi</td>\n      <td>3</td>\n      <td>1.0</td>\n      <td>0.0</td>\n      <td>0.0</td>\n      <td>0.0</td>\n      <td>0.0</td>\n      <td>0.0</td>\n      <td>0.0</td>\n      <td>1.0</td>\n      <td>0.0</td>\n      <td>0.0</td>\n      <td>0.0</td>\n      <td>MYYIGHPSYYRKHIEHVCFQHSGILKKRNYQKNQKKYIMKLNESAM...</td>\n    </tr>\n    <tr>\n      <th>28299</th>\n      <td>28299</td>\n      <td>Q9V3C5</td>\n      <td>Metazoa</td>\n      <td>2</td>\n      <td>1.0</td>\n      <td>0.0</td>\n      <td>0.0</td>\n      <td>0.0</td>\n      <td>0.0</td>\n      <td>0.0</td>\n      <td>0.0</td>\n      <td>0.0</td>\n      <td>0.0</td>\n      <td>1.0</td>\n      <td>0.0</td>\n      <td>MYYPVGWPKRVGLALPGESASIRHICCDAVKILVAAVGDDFLGIWY...</td>\n    </tr>\n    <tr>\n      <th>28300</th>\n      <td>28300</td>\n      <td>Q9SQQ9</td>\n      <td>Viridiplantae</td>\n      <td>4</td>\n      <td>0.0</td>\n      <td>0.0</td>\n      <td>1.0</td>\n      <td>0.0</td>\n      <td>0.0</td>\n      <td>0.0</td>\n      <td>0.0</td>\n      <td>0.0</td>\n      <td>0.0</td>\n      <td>0.0</td>\n      <td>0.0</td>\n      <td>MYYQNQHQGKNILSSSRMHITSERHPFLRGNSPGDSGLILSTDAKP...</td>\n    </tr>\n    <tr>\n      <th>28301</th>\n      <td>28301</td>\n      <td>Q9SQQ9-3</td>\n      <td>Viridiplantae</td>\n      <td>4</td>\n      <td>0.0</td>\n      <td>0.0</td>\n      <td>1.0</td>\n      <td>0.0</td>\n      <td>0.0</td>\n      <td>0.0</td>\n      <td>0.0</td>\n      <td>0.0</td>\n      <td>0.0</td>\n      <td>0.0</td>\n      <td>0.0</td>\n      <td>MYYQNQHQGKNILSSSRMHITSERHPFLRGNSPGDSGLILSTDAKP...</td>\n    </tr>\n    <tr>\n      <th>28302</th>\n      <td>28302</td>\n      <td>O13747</td>\n      <td>Fungi</td>\n      <td>4</td>\n      <td>0.0</td>\n      <td>1.0</td>\n      <td>0.0</td>\n      <td>0.0</td>\n      <td>0.0</td>\n      <td>0.0</td>\n      <td>0.0</td>\n      <td>0.0</td>\n      <td>0.0</td>\n      <td>0.0</td>\n      <td>0.0</td>\n      <td>MYYYLEIECESPVKDIFTCNKRRASKVVGNSFGGDHFNFRLGEIKL...</td>\n    </tr>\n  </tbody>\n</table>\n<p>28303 rows × 16 columns</p>\n</div>"
     },
     "execution_count": 87,
     "metadata": {},
     "output_type": "execute_result"
    }
   ],
   "source": [
    "original"
   ],
   "metadata": {
    "collapsed": false,
    "ExecuteTime": {
     "end_time": "2024-05-24T10:46:44.517825Z",
     "start_time": "2024-05-24T10:46:44.502819Z"
    }
   },
   "id": "cc7afc3f0a0b4479",
   "execution_count": 87
  },
  {
   "cell_type": "code",
   "outputs": [],
   "source": [
    "# Get the values from the column in df2\n",
    "values_to_remove = original['ACC']\n",
    "\n",
    "# Filter df1 based on values in df2's column 'A'\n",
    "filtered_df = train_dev_data [~train_dev_data ['ACC'].isin(values_to_remove)]"
   ],
   "metadata": {
    "collapsed": false,
    "ExecuteTime": {
     "end_time": "2024-05-24T10:46:45.505772Z",
     "start_time": "2024-05-24T10:46:45.499562Z"
    }
   },
   "id": "99c829edfe93e091",
   "execution_count": 88
  },
  {
   "cell_type": "code",
   "outputs": [],
   "source": [
    "filtered_df.reset_index(inplace=True, drop=True)"
   ],
   "metadata": {
    "collapsed": false,
    "ExecuteTime": {
     "end_time": "2024-05-24T10:46:47.029714Z",
     "start_time": "2024-05-24T10:46:47.026190Z"
    }
   },
   "id": "3acc3f57efafb82a",
   "execution_count": 89
  },
  {
   "cell_type": "code",
   "outputs": [
    {
     "data": {
      "text/plain": "436"
     },
     "execution_count": 90,
     "metadata": {},
     "output_type": "execute_result"
    }
   ],
   "source": [
    "len(filtered_df)"
   ],
   "metadata": {
    "collapsed": false,
    "ExecuteTime": {
     "end_time": "2024-05-24T10:46:57.646163Z",
     "start_time": "2024-05-24T10:46:57.641619Z"
    }
   },
   "id": "12eac8db405053ba",
   "execution_count": 90
  },
  {
   "cell_type": "code",
   "outputs": [
    {
     "data": {
      "text/plain": "        ACC                                           Sequence  Membrane  \\\n0    O75503  MAQEVDTAQGAEMRRGAGAARGRASWCWALALLWLAVVPGWSRVSG...         0   \n1    Q9LHA4  MYGFEALTFNIHGGYLEAIVRGHRAGLLTTADYNNLCQCENLDDIK...         0   \n2    Q9LJI5  MYGFEALTFNIHGGYLEAIVRGHRAGLLTTADYNNLCQCENLDDIK...         0   \n3    Q9SZN1  MGAAENNLEMEGTLEIGMEYRTVSGVAGPLVILEKVKGPKYQEIVN...         0   \n4    P51799  MANVSKKVSWSGRDRDDEEGAPLLRRTGQPDEETPLLNGAGPGARQ...         0   \n..      ...                                                ...       ...   \n431  P82971  IIFPGTLWCGNGNLANGTNQLGSWKETDSCCRTHDMCPDLIEAHGS...         0   \n432  B4YSU8  MQKATVLLLALLLLLPLSTAQDAEGSQEDAAQREVDIATRCGGTGD...         0   \n433  B3A0P0    IIECFFSCEIEKDGKSKEGKPCKPKGDKDKDKKCGGWRCKIKMCIKI         0   \n434  P86368  SLLEFGMMILEETGKLAVPFYSSYGCYCGWGGKATPKDATDRCCFV...         0   \n435  P80156  TKCYKTGDRIISEACPPGQDLCYMKTWCDVFCGTRGRVIELGCTAT...         0   \n\n     Cytoplasm  Nucleus  Extracellular  Cell membrane  Mitochondrion  Plastid  \\\n0            0        0              0              0              0        0   \n1            0        0              0              0              0        0   \n2            0        0              0              0              0        0   \n3            0        0              0              0              0        0   \n4            0        0              0              0              0        0   \n..         ...      ...            ...            ...            ...      ...   \n431          0        0              1              0              0        0   \n432          0        0              1              0              0        0   \n433          0        0              1              0              0        0   \n434          0        0              1              0              0        0   \n435          0        0              1              0              0        0   \n\n     Endoplasmic reticulum  Lysosome/Vacuole  Golgi apparatus  Peroxisome  \n0                        0                 1                0           0  \n1                        0                 1                0           0  \n2                        0                 1                0           0  \n3                        0                 1                0           0  \n4                        0                 1                0           0  \n..                     ...               ...              ...         ...  \n431                      0                 0                0           0  \n432                      0                 0                0           0  \n433                      0                 0                0           0  \n434                      0                 0                0           0  \n435                      0                 0                0           0  \n\n[436 rows x 13 columns]",
      "text/html": "<div>\n<style scoped>\n    .dataframe tbody tr th:only-of-type {\n        vertical-align: middle;\n    }\n\n    .dataframe tbody tr th {\n        vertical-align: top;\n    }\n\n    .dataframe thead th {\n        text-align: right;\n    }\n</style>\n<table border=\"1\" class=\"dataframe\">\n  <thead>\n    <tr style=\"text-align: right;\">\n      <th></th>\n      <th>ACC</th>\n      <th>Sequence</th>\n      <th>Membrane</th>\n      <th>Cytoplasm</th>\n      <th>Nucleus</th>\n      <th>Extracellular</th>\n      <th>Cell membrane</th>\n      <th>Mitochondrion</th>\n      <th>Plastid</th>\n      <th>Endoplasmic reticulum</th>\n      <th>Lysosome/Vacuole</th>\n      <th>Golgi apparatus</th>\n      <th>Peroxisome</th>\n    </tr>\n  </thead>\n  <tbody>\n    <tr>\n      <th>0</th>\n      <td>O75503</td>\n      <td>MAQEVDTAQGAEMRRGAGAARGRASWCWALALLWLAVVPGWSRVSG...</td>\n      <td>0</td>\n      <td>0</td>\n      <td>0</td>\n      <td>0</td>\n      <td>0</td>\n      <td>0</td>\n      <td>0</td>\n      <td>0</td>\n      <td>1</td>\n      <td>0</td>\n      <td>0</td>\n    </tr>\n    <tr>\n      <th>1</th>\n      <td>Q9LHA4</td>\n      <td>MYGFEALTFNIHGGYLEAIVRGHRAGLLTTADYNNLCQCENLDDIK...</td>\n      <td>0</td>\n      <td>0</td>\n      <td>0</td>\n      <td>0</td>\n      <td>0</td>\n      <td>0</td>\n      <td>0</td>\n      <td>0</td>\n      <td>1</td>\n      <td>0</td>\n      <td>0</td>\n    </tr>\n    <tr>\n      <th>2</th>\n      <td>Q9LJI5</td>\n      <td>MYGFEALTFNIHGGYLEAIVRGHRAGLLTTADYNNLCQCENLDDIK...</td>\n      <td>0</td>\n      <td>0</td>\n      <td>0</td>\n      <td>0</td>\n      <td>0</td>\n      <td>0</td>\n      <td>0</td>\n      <td>0</td>\n      <td>1</td>\n      <td>0</td>\n      <td>0</td>\n    </tr>\n    <tr>\n      <th>3</th>\n      <td>Q9SZN1</td>\n      <td>MGAAENNLEMEGTLEIGMEYRTVSGVAGPLVILEKVKGPKYQEIVN...</td>\n      <td>0</td>\n      <td>0</td>\n      <td>0</td>\n      <td>0</td>\n      <td>0</td>\n      <td>0</td>\n      <td>0</td>\n      <td>0</td>\n      <td>1</td>\n      <td>0</td>\n      <td>0</td>\n    </tr>\n    <tr>\n      <th>4</th>\n      <td>P51799</td>\n      <td>MANVSKKVSWSGRDRDDEEGAPLLRRTGQPDEETPLLNGAGPGARQ...</td>\n      <td>0</td>\n      <td>0</td>\n      <td>0</td>\n      <td>0</td>\n      <td>0</td>\n      <td>0</td>\n      <td>0</td>\n      <td>0</td>\n      <td>1</td>\n      <td>0</td>\n      <td>0</td>\n    </tr>\n    <tr>\n      <th>...</th>\n      <td>...</td>\n      <td>...</td>\n      <td>...</td>\n      <td>...</td>\n      <td>...</td>\n      <td>...</td>\n      <td>...</td>\n      <td>...</td>\n      <td>...</td>\n      <td>...</td>\n      <td>...</td>\n      <td>...</td>\n      <td>...</td>\n    </tr>\n    <tr>\n      <th>431</th>\n      <td>P82971</td>\n      <td>IIFPGTLWCGNGNLANGTNQLGSWKETDSCCRTHDMCPDLIEAHGS...</td>\n      <td>0</td>\n      <td>0</td>\n      <td>0</td>\n      <td>1</td>\n      <td>0</td>\n      <td>0</td>\n      <td>0</td>\n      <td>0</td>\n      <td>0</td>\n      <td>0</td>\n      <td>0</td>\n    </tr>\n    <tr>\n      <th>432</th>\n      <td>B4YSU8</td>\n      <td>MQKATVLLLALLLLLPLSTAQDAEGSQEDAAQREVDIATRCGGTGD...</td>\n      <td>0</td>\n      <td>0</td>\n      <td>0</td>\n      <td>1</td>\n      <td>0</td>\n      <td>0</td>\n      <td>0</td>\n      <td>0</td>\n      <td>0</td>\n      <td>0</td>\n      <td>0</td>\n    </tr>\n    <tr>\n      <th>433</th>\n      <td>B3A0P0</td>\n      <td>IIECFFSCEIEKDGKSKEGKPCKPKGDKDKDKKCGGWRCKIKMCIKI</td>\n      <td>0</td>\n      <td>0</td>\n      <td>0</td>\n      <td>1</td>\n      <td>0</td>\n      <td>0</td>\n      <td>0</td>\n      <td>0</td>\n      <td>0</td>\n      <td>0</td>\n      <td>0</td>\n    </tr>\n    <tr>\n      <th>434</th>\n      <td>P86368</td>\n      <td>SLLEFGMMILEETGKLAVPFYSSYGCYCGWGGKATPKDATDRCCFV...</td>\n      <td>0</td>\n      <td>0</td>\n      <td>0</td>\n      <td>1</td>\n      <td>0</td>\n      <td>0</td>\n      <td>0</td>\n      <td>0</td>\n      <td>0</td>\n      <td>0</td>\n      <td>0</td>\n    </tr>\n    <tr>\n      <th>435</th>\n      <td>P80156</td>\n      <td>TKCYKTGDRIISEACPPGQDLCYMKTWCDVFCGTRGRVIELGCTAT...</td>\n      <td>0</td>\n      <td>0</td>\n      <td>0</td>\n      <td>1</td>\n      <td>0</td>\n      <td>0</td>\n      <td>0</td>\n      <td>0</td>\n      <td>0</td>\n      <td>0</td>\n      <td>0</td>\n    </tr>\n  </tbody>\n</table>\n<p>436 rows × 13 columns</p>\n</div>"
     },
     "execution_count": 91,
     "metadata": {},
     "output_type": "execute_result"
    }
   ],
   "source": [
    "filtered_df"
   ],
   "metadata": {
    "collapsed": false,
    "ExecuteTime": {
     "end_time": "2024-05-24T10:46:58.569254Z",
     "start_time": "2024-05-24T10:46:58.558953Z"
    }
   },
   "id": "482c3ebe157d60c4",
   "execution_count": 91
  },
  {
   "cell_type": "code",
   "outputs": [],
   "source": [
    "def plot_label1_percentage(dataframe, selected_columns):\n",
    "    \"\"\"\n",
    "    Plots the percentage of label 1 in each selected column of the DataFrame.\n",
    "\n",
    "    Parameters:\n",
    "    - dataframe (pd.DataFrame): The input DataFrame.\n",
    "    - selected_columns (list): List of column names to analyze.\n",
    "\n",
    "    Returns:\n",
    "    - None (plots the result using matplotlib)\n",
    "    \"\"\"\n",
    "\n",
    "    # Check if selected columns exist in the DataFrame\n",
    "    invalid_columns = [col for col in selected_columns if col not in dataframe.columns]\n",
    "    if invalid_columns:\n",
    "        print(f\"Invalid columns: {invalid_columns}\")\n",
    "        return\n",
    "\n",
    "    # Initialize a plot\n",
    "    plt.figure(figsize=(20,13))\n",
    "\n",
    "    # Plot the percentage of label 1 for each selected column\n",
    "    for col in selected_columns:\n",
    "        label_counts = dataframe[col].value_counts(normalize=True)\n",
    "        if 1 in label_counts.index:\n",
    "            label1_percentage = label_counts[1] * 100\n",
    "            plt.bar(col, label1_percentage, label=f'{col} - Label 1')\n",
    "\n",
    "    # Add labels and title\n",
    "    plt.xlabel('Columns')\n",
    "    plt.ylabel('Percentage of Label 1')\n",
    "    plt.title('Percentage of Label 1 in Selected Columns')\n",
    "    plt.legend()\n",
    "\n",
    "    # Show the plot\n",
    "    plt.show()"
   ],
   "metadata": {
    "collapsed": false,
    "ExecuteTime": {
     "end_time": "2024-05-24T10:46:59.260511Z",
     "start_time": "2024-05-24T10:46:59.255792Z"
    }
   },
   "id": "55db53d62c999117",
   "execution_count": 92
  },
  {
   "cell_type": "code",
   "outputs": [
    {
     "data": {
      "text/plain": "<Figure size 2000x1300 with 1 Axes>",
      "image/png": "[encoded data removed]"
     },
     "metadata": {},
     "output_type": "display_data"
    }
   ],
   "source": [
    "plot_label1_percentage(filtered_df, ['Membrane', 'Cytoplasm', 'Nucleus', 'Extracellular', 'Cell membrane', 'Mitochondrion', 'Plastid', 'Endoplasmic reticulum', 'Lysosome/Vacuole', 'Golgi apparatus', 'Peroxisome'])"
   ],
   "metadata": {
    "collapsed": false,
    "ExecuteTime": {
     "end_time": "2024-05-24T10:46:59.942279Z",
     "start_time": "2024-05-24T10:46:59.747334Z"
    }
   },
   "id": "18b2d59ab3926c48",
   "execution_count": 93
  },
  {
   "cell_type": "code",
   "outputs": [
    {
     "data": {
      "text/plain": "        ACC                                           Sequence  Membrane  \\\n0    O75503  MAQEVDTAQGAEMRRGAGAARGRASWCWALALLWLAVVPGWSRVSG...         0   \n1    Q9LHA4  MYGFEALTFNIHGGYLEAIVRGHRAGLLTTADYNNLCQCENLDDIK...         0   \n2    Q9LJI5  MYGFEALTFNIHGGYLEAIVRGHRAGLLTTADYNNLCQCENLDDIK...         0   \n3    Q9SZN1  MGAAENNLEMEGTLEIGMEYRTVSGVAGPLVILEKVKGPKYQEIVN...         0   \n4    P51799  MANVSKKVSWSGRDRDDEEGAPLLRRTGQPDEETPLLNGAGPGARQ...         0   \n..      ...                                                ...       ...   \n431  P82971  IIFPGTLWCGNGNLANGTNQLGSWKETDSCCRTHDMCPDLIEAHGS...         0   \n432  B4YSU8  MQKATVLLLALLLLLPLSTAQDAEGSQEDAAQREVDIATRCGGTGD...         0   \n433  B3A0P0    IIECFFSCEIEKDGKSKEGKPCKPKGDKDKDKKCGGWRCKIKMCIKI         0   \n434  P86368  SLLEFGMMILEETGKLAVPFYSSYGCYCGWGGKATPKDATDRCCFV...         0   \n435  P80156  TKCYKTGDRIISEACPPGQDLCYMKTWCDVFCGTRGRVIELGCTAT...         0   \n\n     Cytoplasm  Nucleus  Extracellular  Cell membrane  Mitochondrion  Plastid  \\\n0            0        0              0              0              0        0   \n1            0        0              0              0              0        0   \n2            0        0              0              0              0        0   \n3            0        0              0              0              0        0   \n4            0        0              0              0              0        0   \n..         ...      ...            ...            ...            ...      ...   \n431          0        0              1              0              0        0   \n432          0        0              1              0              0        0   \n433          0        0              1              0              0        0   \n434          0        0              1              0              0        0   \n435          0        0              1              0              0        0   \n\n     Endoplasmic reticulum  Lysosome/Vacuole  Golgi apparatus  Peroxisome  \n0                        0                 1                0           0  \n1                        0                 1                0           0  \n2                        0                 1                0           0  \n3                        0                 1                0           0  \n4                        0                 1                0           0  \n..                     ...               ...              ...         ...  \n431                      0                 0                0           0  \n432                      0                 0                0           0  \n433                      0                 0                0           0  \n434                      0                 0                0           0  \n435                      0                 0                0           0  \n\n[436 rows x 13 columns]",
      "text/html": "<div>\n<style scoped>\n    .dataframe tbody tr th:only-of-type {\n        vertical-align: middle;\n    }\n\n    .dataframe tbody tr th {\n        vertical-align: top;\n    }\n\n    .dataframe thead th {\n        text-align: right;\n    }\n</style>\n<table border=\"1\" class=\"dataframe\">\n  <thead>\n    <tr style=\"text-align: right;\">\n      <th></th>\n      <th>ACC</th>\n      <th>Sequence</th>\n      <th>Membrane</th>\n      <th>Cytoplasm</th>\n      <th>Nucleus</th>\n      <th>Extracellular</th>\n      <th>Cell membrane</th>\n      <th>Mitochondrion</th>\n      <th>Plastid</th>\n      <th>Endoplasmic reticulum</th>\n      <th>Lysosome/Vacuole</th>\n      <th>Golgi apparatus</th>\n      <th>Peroxisome</th>\n    </tr>\n  </thead>\n  <tbody>\n    <tr>\n      <th>0</th>\n      <td>O75503</td>\n      <td>MAQEVDTAQGAEMRRGAGAARGRASWCWALALLWLAVVPGWSRVSG...</td>\n      <td>0</td>\n      <td>0</td>\n      <td>0</td>\n      <td>0</td>\n      <td>0</td>\n      <td>0</td>\n      <td>0</td>\n      <td>0</td>\n      <td>1</td>\n      <td>0</td>\n      <td>0</td>\n    </tr>\n    <tr>\n      <th>1</th>\n      <td>Q9LHA4</td>\n      <td>MYGFEALTFNIHGGYLEAIVRGHRAGLLTTADYNNLCQCENLDDIK...</td>\n      <td>0</td>\n      <td>0</td>\n      <td>0</td>\n      <td>0</td>\n      <td>0</td>\n      <td>0</td>\n      <td>0</td>\n      <td>0</td>\n      <td>1</td>\n      <td>0</td>\n      <td>0</td>\n    </tr>\n    <tr>\n      <th>2</th>\n      <td>Q9LJI5</td>\n      <td>MYGFEALTFNIHGGYLEAIVRGHRAGLLTTADYNNLCQCENLDDIK...</td>\n      <td>0</td>\n      <td>0</td>\n      <td>0</td>\n      <td>0</td>\n      <td>0</td>\n      <td>0</td>\n      <td>0</td>\n      <td>0</td>\n      <td>1</td>\n      <td>0</td>\n      <td>0</td>\n    </tr>\n    <tr>\n      <th>3</th>\n      <td>Q9SZN1</td>\n      <td>MGAAENNLEMEGTLEIGMEYRTVSGVAGPLVILEKVKGPKYQEIVN...</td>\n      <td>0</td>\n      <td>0</td>\n      <td>0</td>\n      <td>0</td>\n      <td>0</td>\n      <td>0</td>\n      <td>0</td>\n      <td>0</td>\n      <td>1</td>\n      <td>0</td>\n      <td>0</td>\n    </tr>\n    <tr>\n      <th>4</th>\n      <td>P51799</td>\n      <td>MANVSKKVSWSGRDRDDEEGAPLLRRTGQPDEETPLLNGAGPGARQ...</td>\n      <td>0</td>\n      <td>0</td>\n      <td>0</td>\n      <td>0</td>\n      <td>0</td>\n      <td>0</td>\n      <td>0</td>\n      <td>0</td>\n      <td>1</td>\n      <td>0</td>\n      <td>0</td>\n    </tr>\n    <tr>\n      <th>...</th>\n      <td>...</td>\n      <td>...</td>\n      <td>...</td>\n      <td>...</td>\n      <td>...</td>\n      <td>...</td>\n      <td>...</td>\n      <td>...</td>\n      <td>...</td>\n      <td>...</td>\n      <td>...</td>\n      <td>...</td>\n      <td>...</td>\n    </tr>\n    <tr>\n      <th>431</th>\n      <td>P82971</td>\n      <td>IIFPGTLWCGNGNLANGTNQLGSWKETDSCCRTHDMCPDLIEAHGS...</td>\n      <td>0</td>\n      <td>0</td>\n      <td>0</td>\n      <td>1</td>\n      <td>0</td>\n      <td>0</td>\n      <td>0</td>\n      <td>0</td>\n      <td>0</td>\n      <td>0</td>\n      <td>0</td>\n    </tr>\n    <tr>\n      <th>432</th>\n      <td>B4YSU8</td>\n      <td>MQKATVLLLALLLLLPLSTAQDAEGSQEDAAQREVDIATRCGGTGD...</td>\n      <td>0</td>\n      <td>0</td>\n      <td>0</td>\n      <td>1</td>\n      <td>0</td>\n      <td>0</td>\n      <td>0</td>\n      <td>0</td>\n      <td>0</td>\n      <td>0</td>\n      <td>0</td>\n    </tr>\n    <tr>\n      <th>433</th>\n      <td>B3A0P0</td>\n      <td>IIECFFSCEIEKDGKSKEGKPCKPKGDKDKDKKCGGWRCKIKMCIKI</td>\n      <td>0</td>\n      <td>0</td>\n      <td>0</td>\n      <td>1</td>\n      <td>0</td>\n      <td>0</td>\n      <td>0</td>\n      <td>0</td>\n      <td>0</td>\n      <td>0</td>\n      <td>0</td>\n    </tr>\n    <tr>\n      <th>434</th>\n      <td>P86368</td>\n      <td>SLLEFGMMILEETGKLAVPFYSSYGCYCGWGGKATPKDATDRCCFV...</td>\n      <td>0</td>\n      <td>0</td>\n      <td>0</td>\n      <td>1</td>\n      <td>0</td>\n      <td>0</td>\n      <td>0</td>\n      <td>0</td>\n      <td>0</td>\n      <td>0</td>\n      <td>0</td>\n    </tr>\n    <tr>\n      <th>435</th>\n      <td>P80156</td>\n      <td>TKCYKTGDRIISEACPPGQDLCYMKTWCDVFCGTRGRVIELGCTAT...</td>\n      <td>0</td>\n      <td>0</td>\n      <td>0</td>\n      <td>1</td>\n      <td>0</td>\n      <td>0</td>\n      <td>0</td>\n      <td>0</td>\n      <td>0</td>\n      <td>0</td>\n      <td>0</td>\n    </tr>\n  </tbody>\n</table>\n<p>436 rows × 13 columns</p>\n</div>"
     },
     "execution_count": 94,
     "metadata": {},
     "output_type": "execute_result"
    }
   ],
   "source": [
    "filtered_df"
   ],
   "metadata": {
    "collapsed": false,
    "ExecuteTime": {
     "end_time": "2024-05-24T10:47:00.777789Z",
     "start_time": "2024-05-24T10:47:00.765379Z"
    }
   },
   "id": "e57bba5c2f2d996c",
   "execution_count": 94
  },
  {
   "cell_type": "code",
   "outputs": [
    {
     "name": "stdout",
     "output_type": "stream",
     "text": [
      "[  1   2   3   4   5   6   7   8  10  11  12  13  14  16  18  20  21  23\n",
      "  26  27  28  29  31  32  34  35  36  37  38  40  41  43  44  45  47  48\n",
      "  49  50  51  52  53  54  58  59  60  61  62  63  64  65  67  68  69  71\n",
      "  74  80  81  83  84  85  86  87  88  89  91  92  94  95  96  97  98  99\n",
      " 100 102 103 105 106 107 108 109 110 111 112 114 115 117 118 119 120 121\n",
      " 122 123 125 127 128 129 130 133 134 135 136 138 139 140 141 142 143 144\n",
      " 145 146 147 148 149 150 151 152 156 158 159 160 161 162 163 164 166 167\n",
      " 168 169 170 171 172 173 174 176 177 178 179 180 182 183 184 185 186 187\n",
      " 188 189 190 191 193 194 195 196 197 198 199 200 201 202 204 205 206 207\n",
      " 208 209 210 211 212 213 214 215 216 217 219 221 222 223 224 226 227 228\n",
      " 229 230 231 232 233 235 236 237 238 239 240 241 242 243 244 246 247 248\n",
      " 249 251 252 253 254 255 256 257 258 259 260 261 262 263 264 265 266 267\n",
      " 268 269 270 271 272 273 274 275 276 277 279 281 282 285 286 288 292 293\n",
      " 294 295 296 297 298 299 300 301 303 306 308 309 310 312 313 314 315 316\n",
      " 317 318 319 320 321 322 323 324 326 327 328 329 330 331 332 333 334 335\n",
      " 336 337 338 339 341 343 344 345 346 348 349 350 351 352 353 354 355 356\n",
      " 357 358 359 361 362 363 364 365 366 367 368 371 372 373 374 376 377 378\n",
      " 379 380 381 383 385 386 388 389 390 391 392 393 396 397 398 399 400 401\n",
      " 403 405 406 407 408 409 412 413 414 415 416 418 419 420 421 425 426 427\n",
      " 428 429 430 433 434 435] [  0   9  15  17  19  22  24  25  30  33  39  42  46  55  56  57  66  70\n",
      "  72  73  75  76  77  78  79  82  90  93 101 104 113 116 124 126 131 132\n",
      " 137 153 154 155 157 165 175 181 192 203 218 220 225 234 245 250 278 280\n",
      " 283 284 287 289 290 291 302 304 305 307 311 325 340 342 347 360 369 370\n",
      " 375 382 384 387 394 395 402 404 410 411 417 422 423 424 431 432]\n",
      "[  0   1   2   4   6   8   9  10  11  12  13  14  15  17  19  20  21  22\n",
      "  23  24  25  27  28  30  32  33  34  35  37  38  39  40  41  42  43  44\n",
      "  46  47  48  49  50  51  52  53  54  55  56  57  58  61  62  64  65  66\n",
      "  67  68  69  70  71  72  73  75  76  77  78  79  80  81  82  85  86  87\n",
      "  88  89  90  91  92  93  95  96  97  98  99 100 101 102 103 104 105 106\n",
      " 107 112 113 115 116 120 121 122 123 124 125 126 127 128 129 130 131 132\n",
      " 133 134 135 136 137 138 142 143 144 146 147 149 150 151 153 154 155 156\n",
      " 157 158 159 160 161 162 163 164 165 166 167 169 170 171 174 175 177 178\n",
      " 179 181 182 183 185 186 187 188 189 190 191 192 194 196 197 200 201 202\n",
      " 203 204 205 206 207 208 210 212 213 214 215 216 217 218 219 220 221 223\n",
      " 224 225 226 228 230 231 232 233 234 235 236 238 240 241 242 243 244 245\n",
      " 246 248 249 250 251 252 254 255 256 257 258 259 260 261 262 263 264 266\n",
      " 267 268 269 270 271 273 274 276 278 279 280 282 283 284 285 286 287 288\n",
      " 289 290 291 292 293 295 296 297 298 300 301 302 303 304 305 306 307 308\n",
      " 309 310 311 313 314 315 318 319 321 322 324 325 326 328 330 331 332 334\n",
      " 336 337 339 340 341 342 343 344 345 346 347 348 350 351 352 353 356 358\n",
      " 359 360 361 362 363 364 365 366 367 368 369 370 371 372 373 374 375 377\n",
      " 378 379 381 382 383 384 385 387 389 390 391 393 394 395 398 399 400 401\n",
      " 402 404 409 410 411 412 413 414 415 416 417 419 420 421 422 423 424 425\n",
      " 426 429 431 432 433 434 435] [  3   5   7  16  18  26  29  31  36  45  59  60  63  74  83  84  94 108\n",
      " 109 110 111 114 117 118 119 139 140 141 145 148 152 168 172 173 176 180\n",
      " 184 193 195 198 199 209 211 222 227 229 237 239 247 253 265 272 275 277\n",
      " 281 294 299 312 316 317 320 323 327 329 333 335 338 349 354 355 357 376\n",
      " 380 386 388 392 396 397 403 405 406 407 408 418 427 428 430]\n",
      "[  0   1   3   4   5   7   8   9  12  13  14  15  16  17  18  19  20  21\n",
      "  22  24  25  26  27  28  29  30  31  32  33  34  35  36  39  40  41  42\n",
      "  43  44  45  46  47  48  49  50  51  52  53  54  55  56  57  58  59  60\n",
      "  61  62  63  64  65  66  70  71  72  73  74  75  76  77  78  79  80  82\n",
      "  83  84  85  87  88  90  91  93  94  95  98  99 100 101 102 104 105 106\n",
      " 107 108 109 110 111 113 114 115 116 117 118 119 120 121 124 126 127 128\n",
      " 130 131 132 133 134 135 136 137 138 139 140 141 142 145 148 149 151 152\n",
      " 153 154 155 156 157 159 160 161 162 164 165 166 168 169 170 171 172 173\n",
      " 174 175 176 178 180 181 184 186 187 188 189 190 191 192 193 195 197 198\n",
      " 199 200 201 203 205 206 207 209 211 212 213 214 215 216 217 218 220 221\n",
      " 222 224 225 226 227 229 230 232 233 234 235 236 237 239 240 241 242 243\n",
      " 245 247 250 251 252 253 254 256 257 258 259 260 263 264 265 267 269 270\n",
      " 271 272 273 275 276 277 278 279 280 281 282 283 284 287 288 289 290 291\n",
      " 292 293 294 295 298 299 300 302 303 304 305 306 307 308 309 311 312 313\n",
      " 315 316 317 318 319 320 323 324 325 326 327 328 329 330 332 333 335 336\n",
      " 337 338 339 340 341 342 343 344 345 347 348 349 350 352 353 354 355 357\n",
      " 359 360 361 362 363 366 369 370 371 372 373 375 376 377 378 380 382 384\n",
      " 385 386 387 388 389 391 392 394 395 396 397 398 399 400 401 402 403 404\n",
      " 405 406 407 408 410 411 413 414 417 418 419 421 422 423 424 426 427 428\n",
      " 429 430 431 432 433 434 435] [  2   6  10  11  23  37  38  67  68  69  81  86  89  92  96  97 103 112\n",
      " 122 123 125 129 143 144 146 147 150 158 163 167 177 179 182 183 185 194\n",
      " 196 202 204 208 210 219 223 228 231 238 244 246 248 249 255 261 262 266\n",
      " 268 274 285 286 296 297 301 310 314 321 322 331 334 346 351 356 358 364\n",
      " 365 367 368 374 379 381 383 390 393 409 412 415 416 420 425]\n",
      "[  0   1   2   3   5   6   7   9  10  11  13  15  16  17  18  19  20  21\n",
      "  22  23  24  25  26  29  30  31  33  34  36  37  38  39  42  43  45  46\n",
      "  48  49  50  52  53  54  55  56  57  58  59  60  63  66  67  68  69  70\n",
      "  71  72  73  74  75  76  77  78  79  80  81  82  83  84  86  87  88  89\n",
      "  90  91  92  93  94  96  97  99 101 102 103 104 105 106 108 109 110 111\n",
      " 112 113 114 116 117 118 119 121 122 123 124 125 126 129 130 131 132 134\n",
      " 137 139 140 141 143 144 145 146 147 148 149 150 151 152 153 154 155 157\n",
      " 158 160 161 163 165 166 167 168 169 172 173 174 175 176 177 179 180 181\n",
      " 182 183 184 185 187 188 189 190 191 192 193 194 195 196 198 199 201 202\n",
      " 203 204 205 207 208 209 210 211 212 214 217 218 219 220 222 223 225 227\n",
      " 228 229 231 234 235 237 238 239 241 243 244 245 246 247 248 249 250 251\n",
      " 252 253 255 257 259 261 262 263 264 265 266 268 269 270 272 273 274 275\n",
      " 276 277 278 280 281 283 284 285 286 287 289 290 291 293 294 295 296 297\n",
      " 299 301 302 303 304 305 306 307 308 309 310 311 312 313 314 315 316 317\n",
      " 319 320 321 322 323 325 327 328 329 330 331 333 334 335 338 339 340 342\n",
      " 343 344 345 346 347 348 349 350 351 354 355 356 357 358 359 360 363 364\n",
      " 365 366 367 368 369 370 372 374 375 376 379 380 381 382 383 384 385 386\n",
      " 387 388 390 392 393 394 395 396 397 398 399 402 403 404 405 406 407 408\n",
      " 409 410 411 412 413 415 416 417 418 419 420 421 422 423 424 425 426 427\n",
      " 428 429 430 431 432 433 435] [  4   8  12  14  27  28  32  35  40  41  44  47  51  61  62  64  65  85\n",
      "  95  98 100 107 115 120 127 128 133 135 136 138 142 156 159 162 164 170\n",
      " 171 178 186 197 200 206 213 215 216 221 224 226 230 232 233 236 240 242\n",
      " 254 256 258 260 267 271 279 282 288 292 298 300 318 324 326 332 336 337\n",
      " 341 352 353 361 362 371 373 377 378 389 391 400 401 414 434]\n",
      "[  0   2   3   4   5   6   7   8   9  10  11  12  14  15  16  17  18  19\n",
      "  22  23  24  25  26  27  28  29  30  31  32  33  35  36  37  38  39  40\n",
      "  41  42  44  45  46  47  51  55  56  57  59  60  61  62  63  64  65  66\n",
      "  67  68  69  70  72  73  74  75  76  77  78  79  81  82  83  84  85  86\n",
      "  89  90  92  93  94  95  96  97  98 100 101 103 104 107 108 109 110 111\n",
      " 112 113 114 115 116 117 118 119 120 122 123 124 125 126 127 128 129 131\n",
      " 132 133 135 136 137 138 139 140 141 142 143 144 145 146 147 148 150 152\n",
      " 153 154 155 156 157 158 159 162 163 164 165 167 168 170 171 172 173 175\n",
      " 176 177 178 179 180 181 182 183 184 185 186 192 193 194 195 196 197 198\n",
      " 199 200 202 203 204 206 208 209 210 211 213 215 216 218 219 220 221 222\n",
      " 223 224 225 226 227 228 229 230 231 232 233 234 236 237 238 239 240 242\n",
      " 244 245 246 247 248 249 250 253 254 255 256 258 260 261 262 265 266 267\n",
      " 268 271 272 274 275 277 278 279 280 281 282 283 284 285 286 287 288 289\n",
      " 290 291 292 294 296 297 298 299 300 301 302 304 305 307 310 311 312 314\n",
      " 316 317 318 320 321 322 323 324 325 326 327 329 331 332 333 334 335 336\n",
      " 337 338 340 341 342 346 347 349 351 352 353 354 355 356 357 358 360 361\n",
      " 362 364 365 367 368 369 370 371 373 374 375 376 377 378 379 380 381 382\n",
      " 383 384 386 387 388 389 390 391 392 393 394 395 396 397 400 401 402 403\n",
      " 404 405 406 407 408 409 410 411 412 414 415 416 417 418 420 422 423 424\n",
      " 425 427 428 430 431 432 434] [  1  13  20  21  34  43  48  49  50  52  53  54  58  71  80  87  88  91\n",
      "  99 102 105 106 121 130 134 149 151 160 161 166 169 174 187 188 189 190\n",
      " 191 201 205 207 212 214 217 235 241 243 251 252 257 259 263 264 269 270\n",
      " 273 276 293 295 303 306 308 309 313 315 319 328 330 339 343 344 345 348\n",
      " 350 359 363 366 372 385 398 399 413 419 421 426 429 433 435]\n",
      "        ACC                                           Sequence  Membrane  \\\n",
      "0    O75503  MAQEVDTAQGAEMRRGAGAARGRASWCWALALLWLAVVPGWSRVSG...         0   \n",
      "1    Q9LHA4  MYGFEALTFNIHGGYLEAIVRGHRAGLLTTADYNNLCQCENLDDIK...         0   \n",
      "2    Q9LJI5  MYGFEALTFNIHGGYLEAIVRGHRAGLLTTADYNNLCQCENLDDIK...         0   \n",
      "3    Q9SZN1  MGAAENNLEMEGTLEIGMEYRTVSGVAGPLVILEKVKGPKYQEIVN...         0   \n",
      "4    P51799  MANVSKKVSWSGRDRDDEEGAPLLRRTGQPDEETPLLNGAGPGARQ...         0   \n",
      "..      ...                                                ...       ...   \n",
      "431  P82971  IIFPGTLWCGNGNLANGTNQLGSWKETDSCCRTHDMCPDLIEAHGS...         0   \n",
      "432  B4YSU8  MQKATVLLLALLLLLPLSTAQDAEGSQEDAAQREVDIATRCGGTGD...         0   \n",
      "433  B3A0P0    IIECFFSCEIEKDGKSKEGKPCKPKGDKDKDKKCGGWRCKIKMCIKI         0   \n",
      "434  P86368  SLLEFGMMILEETGKLAVPFYSSYGCYCGWGGKATPKDATDRCCFV...         0   \n",
      "435  P80156  TKCYKTGDRIISEACPPGQDLCYMKTWCDVFCGTRGRVIELGCTAT...         0   \n",
      "\n",
      "     Cytoplasm  Nucleus  Extracellular  Cell membrane  Mitochondrion  Plastid  \\\n",
      "0            0        0              0              0              0        0   \n",
      "1            0        0              0              0              0        0   \n",
      "2            0        0              0              0              0        0   \n",
      "3            0        0              0              0              0        0   \n",
      "4            0        0              0              0              0        0   \n",
      "..         ...      ...            ...            ...            ...      ...   \n",
      "431          0        0              1              0              0        0   \n",
      "432          0        0              1              0              0        0   \n",
      "433          0        0              1              0              0        0   \n",
      "434          0        0              1              0              0        0   \n",
      "435          0        0              1              0              0        0   \n",
      "\n",
      "     Endoplasmic reticulum  Lysosome/Vacuole  Golgi apparatus  Peroxisome  \\\n",
      "0                        0                 1                0           0   \n",
      "1                        0                 1                0           0   \n",
      "2                        0                 1                0           0   \n",
      "3                        0                 1                0           0   \n",
      "4                        0                 1                0           0   \n",
      "..                     ...               ...              ...         ...   \n",
      "431                      0                 0                0           0   \n",
      "432                      0                 0                0           0   \n",
      "433                      0                 0                0           0   \n",
      "434                      0                 0                0           0   \n",
      "435                      0                 0                0           0   \n",
      "\n",
      "     Partition  \n",
      "0            0  \n",
      "1            4  \n",
      "2            2  \n",
      "3            1  \n",
      "4            3  \n",
      "..         ...  \n",
      "431          0  \n",
      "432          0  \n",
      "433          4  \n",
      "434          3  \n",
      "435          4  \n",
      "\n",
      "[436 rows x 14 columns]\n"
     ]
    },
    {
     "name": "stderr",
     "output_type": "stream",
     "text": [
      "C:\\Users\\wadkr\\AppData\\Local\\Temp\\ipykernel_32596\\3559374950.py:11: SettingWithCopyWarning: \n",
      "A value is trying to be set on a copy of a slice from a DataFrame.\n",
      "Try using .loc[row_indexer,col_indexer] = value instead\n",
      "\n",
      "See the caveats in the documentation: https://pandas.pydata.org/pandas-docs/stable/user_guide/indexing.html#returning-a-view-versus-a-copy\n",
      "  filtered_df['Partition'] = -1\n"
     ]
    }
   ],
   "source": [
    "import pandas as pd\n",
    "from sklearn.model_selection import KFold\n",
    "\n",
    "# Assuming you have a DataFrame named 'data' with your dataset\n",
    "# Let's say 'data' contains your features and labels\n",
    "\n",
    "# Initialize KFold with 5 folds\n",
    "kf = KFold(n_splits=5, shuffle=True, random_state=42)\n",
    "\n",
    "# Add a new column to store the fold number\n",
    "filtered_df['Partition'] = -1\n",
    "\n",
    "# Assign fold numbers to each row\n",
    "for fold_number, (train_index, test_index) in enumerate(kf.split(filtered_df)):\n",
    "    print(train_index, test_index)\n",
    "    filtered_df.loc[test_index, 'Partition'] = fold_number\n",
    "\n",
    "# Displaying the updated DataFrame with fold numbers\n",
    "print(filtered_df)\n"
   ],
   "metadata": {
    "collapsed": false,
    "ExecuteTime": {
     "end_time": "2024-05-24T10:47:01.355979Z",
     "start_time": "2024-05-24T10:47:01.341720Z"
    }
   },
   "id": "48f7ad2ac7f99c4b",
   "execution_count": 95
  },
  {
   "cell_type": "code",
   "outputs": [
    {
     "name": "stderr",
     "output_type": "stream",
     "text": [
      "C:\\Users\\wadkr\\AppData\\Local\\Temp\\ipykernel_32596\\2864204521.py:1: SettingWithCopyWarning: \n",
      "A value is trying to be set on a copy of a slice from a DataFrame.\n",
      "Try using .loc[row_indexer,col_indexer] = value instead\n",
      "\n",
      "See the caveats in the documentation: https://pandas.pydata.org/pandas-docs/stable/user_guide/indexing.html#returning-a-view-versus-a-copy\n",
      "  filtered_df['Kingdom'] = pd.NA\n"
     ]
    }
   ],
   "source": [
    "filtered_df['Kingdom'] = pd.NA"
   ],
   "metadata": {
    "collapsed": false,
    "ExecuteTime": {
     "end_time": "2024-05-24T10:47:02.586828Z",
     "start_time": "2024-05-24T10:47:02.581737Z"
    }
   },
   "id": "382f289185ac2ad8",
   "execution_count": 96
  },
  {
   "cell_type": "code",
   "outputs": [],
   "source": [
    "filtered_df.to_csv('deeploc_combined_data_with_partition.csv', index=False)"
   ],
   "metadata": {
    "collapsed": false,
    "ExecuteTime": {
     "end_time": "2024-05-24T10:47:03.830915Z",
     "start_time": "2024-05-24T10:47:03.821813Z"
    }
   },
   "id": "912558654cd554fd",
   "execution_count": 97
  },
  {
   "cell_type": "code",
   "outputs": [],
   "source": [],
   "metadata": {
    "collapsed": false
   },
   "id": "34ff4f914a5ba1a5"
  }
 ],
 "metadata": {
  "kernelspec": {
   "display_name": "Python 3",
   "language": "python",
   "name": "python3"
  },
  "language_info": {
   "codemirror_mode": {
    "name": "ipython",
    "version": 2
   },
   "file_extension": ".py",
   "mimetype": "text/x-python",
   "name": "python",
   "nbconvert_exporter": "python",
   "pygments_lexer": "ipython2",
   "version": "2.7.6"
  }
 },
 "nbformat": 4,
 "nbformat_minor": 5
}
