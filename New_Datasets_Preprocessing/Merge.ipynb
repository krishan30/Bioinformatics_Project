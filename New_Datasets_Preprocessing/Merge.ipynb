{
 "cells": [
  {
   "cell_type": "code",
   "execution_count": 1,
   "id": "initial_id",
   "metadata": {
    "collapsed": true,
    "ExecuteTime": {
     "end_time": "2024-06-01T03:03:20.191974Z",
     "start_time": "2024-06-01T03:03:20.057740Z"
    }
   },
   "outputs": [],
   "source": [
    "import pandas as pd\n",
    "import matplotlib.pyplot as plt\n",
    "import seaborn as sns\n",
    "import re\n",
    "from sklearn.model_selection import train_test_split\n",
    "import numpy as np"
   ]
  },
  {
   "cell_type": "code",
   "outputs": [],
   "source": [
    "merge_1 = pd.read_csv('Final_Datasets/Original_Dataset/multisub_5_partitions_unique.csv')"
   ],
   "metadata": {
    "collapsed": false,
    "ExecuteTime": {
     "end_time": "2024-06-01T03:03:20.388676Z",
     "start_time": "2024-06-01T03:03:20.192977Z"
    }
   },
   "id": "e4dc61a10f01dc7c",
   "execution_count": 2
  },
  {
   "cell_type": "code",
   "outputs": [],
   "source": [
    "null_values = merge_1.isnull().sum()"
   ],
   "metadata": {
    "collapsed": false,
    "ExecuteTime": {
     "end_time": "2024-06-01T03:03:20.951349Z",
     "start_time": "2024-06-01T03:03:20.935924Z"
    }
   },
   "id": "3d6b1b1ff0943044",
   "execution_count": 3
  },
  {
   "cell_type": "code",
   "outputs": [
    {
     "data": {
      "text/plain": "Unnamed: 0               0\nACC                      0\nKingdom                  0\nPartition                0\nMembrane                 0\nCytoplasm                0\nNucleus                  0\nExtracellular            0\nCell membrane            0\nMitochondrion            0\nPlastid                  0\nEndoplasmic reticulum    0\nLysosome/Vacuole         0\nGolgi apparatus          0\nPeroxisome               0\nSequence                 0\ndtype: int64"
     },
     "execution_count": 4,
     "metadata": {},
     "output_type": "execute_result"
    }
   ],
   "source": [
    "null_values"
   ],
   "metadata": {
    "collapsed": false,
    "ExecuteTime": {
     "end_time": "2024-06-01T03:03:21.515213Z",
     "start_time": "2024-06-01T03:03:21.507020Z"
    }
   },
   "id": "4af2d4e2ef738237",
   "execution_count": 4
  },
  {
   "cell_type": "code",
   "outputs": [
    {
     "data": {
      "text/plain": "   Unnamed: 0     ACC  Kingdom  Partition  Membrane  Cytoplasm  Nucleus  \\\n0           0  Q28165  Metazoa          4       0.0        1.0      1.0   \n1           1  Q86U42  Metazoa          4       0.0        1.0      1.0   \n2           2  Q0GA42  Metazoa          3       1.0        0.0      0.0   \n3           3  P82349  Metazoa          1       1.0        1.0      0.0   \n4           4  Q7L5N1  Metazoa          1       0.0        1.0      1.0   \n\n   Extracellular  Cell membrane  Mitochondrion  Plastid  \\\n0            0.0            0.0            0.0      0.0   \n1            0.0            0.0            0.0      0.0   \n2            0.0            1.0            0.0      0.0   \n3            0.0            1.0            0.0      0.0   \n4            0.0            0.0            0.0      0.0   \n\n   Endoplasmic reticulum  Lysosome/Vacuole  Golgi apparatus  Peroxisome  \\\n0                    0.0               0.0              0.0         0.0   \n1                    0.0               0.0              0.0         0.0   \n2                    0.0               0.0              0.0         0.0   \n3                    0.0               0.0              0.0         0.0   \n4                    0.0               0.0              0.0         0.0   \n\n                                            Sequence  \n0  MAAAAAAAAAAGAAGGRGSGPGRRRHLVPGAGGEAGEGAPGGAGDY...  \n1  MAAAAAAAAAAGAAGGRGSGPGRRRHLVPGAGGEAGEGAPGGAGDY...  \n2  MAAAAAAAAALGVRLRDCCSRGAVLLLFFSLSPRPPAAAAWLLGLR...  \n3  MAAAAAAAAATEQQGSNGPVKKSMREKAVERRNVNKEHNSNFKAGY...  \n4  MAAAAAAAAATNGTGGSSGMEVDAAVVPSVMACGVTGSVSVALHPL...  ",
      "text/html": "<div>\n<style scoped>\n    .dataframe tbody tr th:only-of-type {\n        vertical-align: middle;\n    }\n\n    .dataframe tbody tr th {\n        vertical-align: top;\n    }\n\n    .dataframe thead th {\n        text-align: right;\n    }\n</style>\n<table border=\"1\" class=\"dataframe\">\n  <thead>\n    <tr style=\"text-align: right;\">\n      <th></th>\n      <th>Unnamed: 0</th>\n      <th>ACC</th>\n      <th>Kingdom</th>\n      <th>Partition</th>\n      <th>Membrane</th>\n      <th>Cytoplasm</th>\n      <th>Nucleus</th>\n      <th>Extracellular</th>\n      <th>Cell membrane</th>\n      <th>Mitochondrion</th>\n      <th>Plastid</th>\n      <th>Endoplasmic reticulum</th>\n      <th>Lysosome/Vacuole</th>\n      <th>Golgi apparatus</th>\n      <th>Peroxisome</th>\n      <th>Sequence</th>\n    </tr>\n  </thead>\n  <tbody>\n    <tr>\n      <th>0</th>\n      <td>0</td>\n      <td>Q28165</td>\n      <td>Metazoa</td>\n      <td>4</td>\n      <td>0.0</td>\n      <td>1.0</td>\n      <td>1.0</td>\n      <td>0.0</td>\n      <td>0.0</td>\n      <td>0.0</td>\n      <td>0.0</td>\n      <td>0.0</td>\n      <td>0.0</td>\n      <td>0.0</td>\n      <td>0.0</td>\n      <td>MAAAAAAAAAAGAAGGRGSGPGRRRHLVPGAGGEAGEGAPGGAGDY...</td>\n    </tr>\n    <tr>\n      <th>1</th>\n      <td>1</td>\n      <td>Q86U42</td>\n      <td>Metazoa</td>\n      <td>4</td>\n      <td>0.0</td>\n      <td>1.0</td>\n      <td>1.0</td>\n      <td>0.0</td>\n      <td>0.0</td>\n      <td>0.0</td>\n      <td>0.0</td>\n      <td>0.0</td>\n      <td>0.0</td>\n      <td>0.0</td>\n      <td>0.0</td>\n      <td>MAAAAAAAAAAGAAGGRGSGPGRRRHLVPGAGGEAGEGAPGGAGDY...</td>\n    </tr>\n    <tr>\n      <th>2</th>\n      <td>2</td>\n      <td>Q0GA42</td>\n      <td>Metazoa</td>\n      <td>3</td>\n      <td>1.0</td>\n      <td>0.0</td>\n      <td>0.0</td>\n      <td>0.0</td>\n      <td>1.0</td>\n      <td>0.0</td>\n      <td>0.0</td>\n      <td>0.0</td>\n      <td>0.0</td>\n      <td>0.0</td>\n      <td>0.0</td>\n      <td>MAAAAAAAAALGVRLRDCCSRGAVLLLFFSLSPRPPAAAAWLLGLR...</td>\n    </tr>\n    <tr>\n      <th>3</th>\n      <td>3</td>\n      <td>P82349</td>\n      <td>Metazoa</td>\n      <td>1</td>\n      <td>1.0</td>\n      <td>1.0</td>\n      <td>0.0</td>\n      <td>0.0</td>\n      <td>1.0</td>\n      <td>0.0</td>\n      <td>0.0</td>\n      <td>0.0</td>\n      <td>0.0</td>\n      <td>0.0</td>\n      <td>0.0</td>\n      <td>MAAAAAAAAATEQQGSNGPVKKSMREKAVERRNVNKEHNSNFKAGY...</td>\n    </tr>\n    <tr>\n      <th>4</th>\n      <td>4</td>\n      <td>Q7L5N1</td>\n      <td>Metazoa</td>\n      <td>1</td>\n      <td>0.0</td>\n      <td>1.0</td>\n      <td>1.0</td>\n      <td>0.0</td>\n      <td>0.0</td>\n      <td>0.0</td>\n      <td>0.0</td>\n      <td>0.0</td>\n      <td>0.0</td>\n      <td>0.0</td>\n      <td>0.0</td>\n      <td>MAAAAAAAAATNGTGGSSGMEVDAAVVPSVMACGVTGSVSVALHPL...</td>\n    </tr>\n  </tbody>\n</table>\n</div>"
     },
     "execution_count": 5,
     "metadata": {},
     "output_type": "execute_result"
    }
   ],
   "source": [
    "merge_1.head()"
   ],
   "metadata": {
    "collapsed": false,
    "ExecuteTime": {
     "end_time": "2024-06-01T03:03:23.365613Z",
     "start_time": "2024-06-01T03:03:23.351779Z"
    }
   },
   "id": "8324cd0acfdcdd45",
   "execution_count": 5
  },
  {
   "cell_type": "code",
   "outputs": [],
   "source": [
    "merge_2= pd.read_csv('Combined_Dataset/deeploc_combined_data_with_partition.csv')"
   ],
   "metadata": {
    "collapsed": false,
    "ExecuteTime": {
     "end_time": "2024-06-01T03:03:38.045926Z",
     "start_time": "2024-06-01T03:03:38.036959Z"
    }
   },
   "id": "95d20f2ae4cbb8a2",
   "execution_count": 6
  },
  {
   "cell_type": "code",
   "outputs": [],
   "source": [
    "null_values_excluding_column = merge_2.drop(columns=['Kingdom']).isnull().sum()"
   ],
   "metadata": {
    "collapsed": false,
    "ExecuteTime": {
     "end_time": "2024-06-01T03:03:47.918547Z",
     "start_time": "2024-06-01T03:03:47.911682Z"
    }
   },
   "id": "f1467d32197bd087",
   "execution_count": 7
  },
  {
   "cell_type": "code",
   "outputs": [
    {
     "data": {
      "text/plain": "ACC                      0\nSequence                 0\nMembrane                 0\nCytoplasm                0\nNucleus                  0\nExtracellular            0\nCell membrane            0\nMitochondrion            0\nPlastid                  0\nEndoplasmic reticulum    0\nLysosome/Vacuole         0\nGolgi apparatus          0\nPeroxisome               0\nPartition                0\ndtype: int64"
     },
     "execution_count": 8,
     "metadata": {},
     "output_type": "execute_result"
    }
   ],
   "source": [
    "null_values_excluding_column"
   ],
   "metadata": {
    "collapsed": false,
    "ExecuteTime": {
     "end_time": "2024-06-01T03:03:48.455202Z",
     "start_time": "2024-06-01T03:03:48.449045Z"
    }
   },
   "id": "e081154c0eb4fb9",
   "execution_count": 8
  },
  {
   "cell_type": "code",
   "outputs": [],
   "source": [
    "# Concatenate row-wise\n",
    "concatenated_df = pd.concat([merge_1, merge_2], axis=0)"
   ],
   "metadata": {
    "collapsed": false,
    "ExecuteTime": {
     "end_time": "2024-06-01T03:03:49.862942Z",
     "start_time": "2024-06-01T03:03:49.853010Z"
    }
   },
   "id": "9e1d6cc12f7250eb",
   "execution_count": 9
  },
  {
   "cell_type": "code",
   "outputs": [],
   "source": [
    "# Reset the index\n",
    "df_reset =concatenated_df.reset_index(drop=True)"
   ],
   "metadata": {
    "collapsed": false,
    "ExecuteTime": {
     "end_time": "2024-06-01T03:03:51.420723Z",
     "start_time": "2024-06-01T03:03:51.406863Z"
    }
   },
   "id": "2548a931cc8850a1",
   "execution_count": 10
  },
  {
   "cell_type": "code",
   "outputs": [
    {
     "data": {
      "text/plain": "       Unnamed: 0     ACC  Kingdom  Partition  Membrane  Cytoplasm  Nucleus  \\\n0             0.0  Q28165  Metazoa          4       0.0        1.0      1.0   \n1             1.0  Q86U42  Metazoa          4       0.0        1.0      1.0   \n2             2.0  Q0GA42  Metazoa          3       1.0        0.0      0.0   \n3             3.0  P82349  Metazoa          1       1.0        1.0      0.0   \n4             4.0  Q7L5N1  Metazoa          1       0.0        1.0      1.0   \n...           ...     ...      ...        ...       ...        ...      ...   \n28836         NaN  P82971      NaN          0       0.0        0.0      0.0   \n28837         NaN  B4YSU8      NaN          1       0.0        0.0      0.0   \n28838         NaN  B3A0P0      NaN          4       0.0        0.0      0.0   \n28839         NaN  P86368      NaN          2       0.0        0.0      0.0   \n28840         NaN  P80156      NaN          0       0.0        0.0      0.0   \n\n       Extracellular  Cell membrane  Mitochondrion  Plastid  \\\n0                0.0            0.0            0.0      0.0   \n1                0.0            0.0            0.0      0.0   \n2                0.0            1.0            0.0      0.0   \n3                0.0            1.0            0.0      0.0   \n4                0.0            0.0            0.0      0.0   \n...              ...            ...            ...      ...   \n28836            1.0            0.0            0.0      0.0   \n28837            1.0            0.0            0.0      0.0   \n28838            1.0            0.0            0.0      0.0   \n28839            1.0            0.0            0.0      0.0   \n28840            1.0            0.0            0.0      0.0   \n\n       Endoplasmic reticulum  Lysosome/Vacuole  Golgi apparatus  Peroxisome  \\\n0                        0.0               0.0              0.0         0.0   \n1                        0.0               0.0              0.0         0.0   \n2                        0.0               0.0              0.0         0.0   \n3                        0.0               0.0              0.0         0.0   \n4                        0.0               0.0              0.0         0.0   \n...                      ...               ...              ...         ...   \n28836                    0.0               0.0              0.0         0.0   \n28837                    0.0               0.0              0.0         0.0   \n28838                    0.0               0.0              0.0         0.0   \n28839                    0.0               0.0              0.0         0.0   \n28840                    0.0               0.0              0.0         0.0   \n\n                                                Sequence  \n0      MAAAAAAAAAAGAAGGRGSGPGRRRHLVPGAGGEAGEGAPGGAGDY...  \n1      MAAAAAAAAAAGAAGGRGSGPGRRRHLVPGAGGEAGEGAPGGAGDY...  \n2      MAAAAAAAAALGVRLRDCCSRGAVLLLFFSLSPRPPAAAAWLLGLR...  \n3      MAAAAAAAAATEQQGSNGPVKKSMREKAVERRNVNKEHNSNFKAGY...  \n4      MAAAAAAAAATNGTGGSSGMEVDAAVVPSVMACGVTGSVSVALHPL...  \n...                                                  ...  \n28836  IIFPGTLWCGNGNLANGTNQLGSWKETDSCCRTHDMCPDLIEAHGS...  \n28837  MQKATVLLLALLLLLPLSTAQDAEGSQEDAAQREVDIATRCGGTGD...  \n28838    IIECFFSCEIEKDGKSKEGKPCKPKGDKDKDKKCGGWRCKIKMCIKI  \n28839  SLLEFGMMILEETGKLAVPFYSSYGCYCGWGGKATPKDATDRCCFV...  \n28840  TKCYKTGDRIISEACPPGQDLCYMKTWCDVFCGTRGRVIELGCTAT...  \n\n[28841 rows x 16 columns]",
      "text/html": "<div>\n<style scoped>\n    .dataframe tbody tr th:only-of-type {\n        vertical-align: middle;\n    }\n\n    .dataframe tbody tr th {\n        vertical-align: top;\n    }\n\n    .dataframe thead th {\n        text-align: right;\n    }\n</style>\n<table border=\"1\" class=\"dataframe\">\n  <thead>\n    <tr style=\"text-align: right;\">\n      <th></th>\n      <th>Unnamed: 0</th>\n      <th>ACC</th>\n      <th>Kingdom</th>\n      <th>Partition</th>\n      <th>Membrane</th>\n      <th>Cytoplasm</th>\n      <th>Nucleus</th>\n      <th>Extracellular</th>\n      <th>Cell membrane</th>\n      <th>Mitochondrion</th>\n      <th>Plastid</th>\n      <th>Endoplasmic reticulum</th>\n      <th>Lysosome/Vacuole</th>\n      <th>Golgi apparatus</th>\n      <th>Peroxisome</th>\n      <th>Sequence</th>\n    </tr>\n  </thead>\n  <tbody>\n    <tr>\n      <th>0</th>\n      <td>0.0</td>\n      <td>Q28165</td>\n      <td>Metazoa</td>\n      <td>4</td>\n      <td>0.0</td>\n      <td>1.0</td>\n      <td>1.0</td>\n      <td>0.0</td>\n      <td>0.0</td>\n      <td>0.0</td>\n      <td>0.0</td>\n      <td>0.0</td>\n      <td>0.0</td>\n      <td>0.0</td>\n      <td>0.0</td>\n      <td>MAAAAAAAAAAGAAGGRGSGPGRRRHLVPGAGGEAGEGAPGGAGDY...</td>\n    </tr>\n    <tr>\n      <th>1</th>\n      <td>1.0</td>\n      <td>Q86U42</td>\n      <td>Metazoa</td>\n      <td>4</td>\n      <td>0.0</td>\n      <td>1.0</td>\n      <td>1.0</td>\n      <td>0.0</td>\n      <td>0.0</td>\n      <td>0.0</td>\n      <td>0.0</td>\n      <td>0.0</td>\n      <td>0.0</td>\n      <td>0.0</td>\n      <td>0.0</td>\n      <td>MAAAAAAAAAAGAAGGRGSGPGRRRHLVPGAGGEAGEGAPGGAGDY...</td>\n    </tr>\n    <tr>\n      <th>2</th>\n      <td>2.0</td>\n      <td>Q0GA42</td>\n      <td>Metazoa</td>\n      <td>3</td>\n      <td>1.0</td>\n      <td>0.0</td>\n      <td>0.0</td>\n      <td>0.0</td>\n      <td>1.0</td>\n      <td>0.0</td>\n      <td>0.0</td>\n      <td>0.0</td>\n      <td>0.0</td>\n      <td>0.0</td>\n      <td>0.0</td>\n      <td>MAAAAAAAAALGVRLRDCCSRGAVLLLFFSLSPRPPAAAAWLLGLR...</td>\n    </tr>\n    <tr>\n      <th>3</th>\n      <td>3.0</td>\n      <td>P82349</td>\n      <td>Metazoa</td>\n      <td>1</td>\n      <td>1.0</td>\n      <td>1.0</td>\n      <td>0.0</td>\n      <td>0.0</td>\n      <td>1.0</td>\n      <td>0.0</td>\n      <td>0.0</td>\n      <td>0.0</td>\n      <td>0.0</td>\n      <td>0.0</td>\n      <td>0.0</td>\n      <td>MAAAAAAAAATEQQGSNGPVKKSMREKAVERRNVNKEHNSNFKAGY...</td>\n    </tr>\n    <tr>\n      <th>4</th>\n      <td>4.0</td>\n      <td>Q7L5N1</td>\n      <td>Metazoa</td>\n      <td>1</td>\n      <td>0.0</td>\n      <td>1.0</td>\n      <td>1.0</td>\n      <td>0.0</td>\n      <td>0.0</td>\n      <td>0.0</td>\n      <td>0.0</td>\n      <td>0.0</td>\n      <td>0.0</td>\n      <td>0.0</td>\n      <td>0.0</td>\n      <td>MAAAAAAAAATNGTGGSSGMEVDAAVVPSVMACGVTGSVSVALHPL...</td>\n    </tr>\n    <tr>\n      <th>...</th>\n      <td>...</td>\n      <td>...</td>\n      <td>...</td>\n      <td>...</td>\n      <td>...</td>\n      <td>...</td>\n      <td>...</td>\n      <td>...</td>\n      <td>...</td>\n      <td>...</td>\n      <td>...</td>\n      <td>...</td>\n      <td>...</td>\n      <td>...</td>\n      <td>...</td>\n      <td>...</td>\n    </tr>\n    <tr>\n      <th>28836</th>\n      <td>NaN</td>\n      <td>P82971</td>\n      <td>NaN</td>\n      <td>0</td>\n      <td>0.0</td>\n      <td>0.0</td>\n      <td>0.0</td>\n      <td>1.0</td>\n      <td>0.0</td>\n      <td>0.0</td>\n      <td>0.0</td>\n      <td>0.0</td>\n      <td>0.0</td>\n      <td>0.0</td>\n      <td>0.0</td>\n      <td>IIFPGTLWCGNGNLANGTNQLGSWKETDSCCRTHDMCPDLIEAHGS...</td>\n    </tr>\n    <tr>\n      <th>28837</th>\n      <td>NaN</td>\n      <td>B4YSU8</td>\n      <td>NaN</td>\n      <td>1</td>\n      <td>0.0</td>\n      <td>0.0</td>\n      <td>0.0</td>\n      <td>1.0</td>\n      <td>0.0</td>\n      <td>0.0</td>\n      <td>0.0</td>\n      <td>0.0</td>\n      <td>0.0</td>\n      <td>0.0</td>\n      <td>0.0</td>\n      <td>MQKATVLLLALLLLLPLSTAQDAEGSQEDAAQREVDIATRCGGTGD...</td>\n    </tr>\n    <tr>\n      <th>28838</th>\n      <td>NaN</td>\n      <td>B3A0P0</td>\n      <td>NaN</td>\n      <td>4</td>\n      <td>0.0</td>\n      <td>0.0</td>\n      <td>0.0</td>\n      <td>1.0</td>\n      <td>0.0</td>\n      <td>0.0</td>\n      <td>0.0</td>\n      <td>0.0</td>\n      <td>0.0</td>\n      <td>0.0</td>\n      <td>0.0</td>\n      <td>IIECFFSCEIEKDGKSKEGKPCKPKGDKDKDKKCGGWRCKIKMCIKI</td>\n    </tr>\n    <tr>\n      <th>28839</th>\n      <td>NaN</td>\n      <td>P86368</td>\n      <td>NaN</td>\n      <td>2</td>\n      <td>0.0</td>\n      <td>0.0</td>\n      <td>0.0</td>\n      <td>1.0</td>\n      <td>0.0</td>\n      <td>0.0</td>\n      <td>0.0</td>\n      <td>0.0</td>\n      <td>0.0</td>\n      <td>0.0</td>\n      <td>0.0</td>\n      <td>SLLEFGMMILEETGKLAVPFYSSYGCYCGWGGKATPKDATDRCCFV...</td>\n    </tr>\n    <tr>\n      <th>28840</th>\n      <td>NaN</td>\n      <td>P80156</td>\n      <td>NaN</td>\n      <td>0</td>\n      <td>0.0</td>\n      <td>0.0</td>\n      <td>0.0</td>\n      <td>1.0</td>\n      <td>0.0</td>\n      <td>0.0</td>\n      <td>0.0</td>\n      <td>0.0</td>\n      <td>0.0</td>\n      <td>0.0</td>\n      <td>0.0</td>\n      <td>TKCYKTGDRIISEACPPGQDLCYMKTWCDVFCGTRGRVIELGCTAT...</td>\n    </tr>\n  </tbody>\n</table>\n<p>28841 rows × 16 columns</p>\n</div>"
     },
     "execution_count": 11,
     "metadata": {},
     "output_type": "execute_result"
    }
   ],
   "source": [
    "df_reset"
   ],
   "metadata": {
    "collapsed": false,
    "ExecuteTime": {
     "end_time": "2024-06-01T03:03:52.232407Z",
     "start_time": "2024-06-01T03:03:52.212169Z"
    }
   },
   "id": "3025aa1b31ee7838",
   "execution_count": 11
  },
  {
   "cell_type": "code",
   "outputs": [],
   "source": [
    "null_values_excluding_column = df_reset.drop(columns=['Unnamed: 0','Kingdom']).isnull().sum()"
   ],
   "metadata": {
    "collapsed": false,
    "ExecuteTime": {
     "end_time": "2024-06-01T03:03:55.351910Z",
     "start_time": "2024-06-01T03:03:55.335481Z"
    }
   },
   "id": "a2e762b70958a82a",
   "execution_count": 12
  },
  {
   "cell_type": "code",
   "outputs": [
    {
     "data": {
      "text/plain": "ACC                      0\nPartition                0\nMembrane                 0\nCytoplasm                0\nNucleus                  0\nExtracellular            0\nCell membrane            0\nMitochondrion            0\nPlastid                  0\nEndoplasmic reticulum    0\nLysosome/Vacuole         0\nGolgi apparatus          0\nPeroxisome               0\nSequence                 0\ndtype: int64"
     },
     "execution_count": 13,
     "metadata": {},
     "output_type": "execute_result"
    }
   ],
   "source": [
    "null_values_excluding_column"
   ],
   "metadata": {
    "collapsed": false,
    "ExecuteTime": {
     "end_time": "2024-06-01T03:03:56.267013Z",
     "start_time": "2024-06-01T03:03:56.260891Z"
    }
   },
   "id": "3f1143b2d5e700fc",
   "execution_count": 13
  },
  {
   "cell_type": "code",
   "outputs": [],
   "source": [
    "df_reset.drop(columns=['Unnamed: 0'], inplace=True)"
   ],
   "metadata": {
    "collapsed": false,
    "ExecuteTime": {
     "end_time": "2024-06-01T03:03:57.820857Z",
     "start_time": "2024-06-01T03:03:57.811797Z"
    }
   },
   "id": "b4144a180d4d81db",
   "execution_count": 14
  },
  {
   "cell_type": "code",
   "outputs": [],
   "source": [
    "df_reset.rename(columns={'index':'Unnamed: 0'}, inplace=True)"
   ],
   "metadata": {
    "collapsed": false,
    "ExecuteTime": {
     "end_time": "2024-06-01T03:03:58.762262Z",
     "start_time": "2024-06-01T03:03:58.757849Z"
    }
   },
   "id": "960841c4b3e03d51",
   "execution_count": 15
  },
  {
   "cell_type": "code",
   "outputs": [
    {
     "data": {
      "text/plain": "      ACC  Kingdom  Partition  Membrane  Cytoplasm  Nucleus  Extracellular  \\\n0  Q28165  Metazoa          4       0.0        1.0      1.0            0.0   \n1  Q86U42  Metazoa          4       0.0        1.0      1.0            0.0   \n2  Q0GA42  Metazoa          3       1.0        0.0      0.0            0.0   \n3  P82349  Metazoa          1       1.0        1.0      0.0            0.0   \n4  Q7L5N1  Metazoa          1       0.0        1.0      1.0            0.0   \n\n   Cell membrane  Mitochondrion  Plastid  Endoplasmic reticulum  \\\n0            0.0            0.0      0.0                    0.0   \n1            0.0            0.0      0.0                    0.0   \n2            1.0            0.0      0.0                    0.0   \n3            1.0            0.0      0.0                    0.0   \n4            0.0            0.0      0.0                    0.0   \n\n   Lysosome/Vacuole  Golgi apparatus  Peroxisome  \\\n0               0.0              0.0         0.0   \n1               0.0              0.0         0.0   \n2               0.0              0.0         0.0   \n3               0.0              0.0         0.0   \n4               0.0              0.0         0.0   \n\n                                            Sequence  \n0  MAAAAAAAAAAGAAGGRGSGPGRRRHLVPGAGGEAGEGAPGGAGDY...  \n1  MAAAAAAAAAAGAAGGRGSGPGRRRHLVPGAGGEAGEGAPGGAGDY...  \n2  MAAAAAAAAALGVRLRDCCSRGAVLLLFFSLSPRPPAAAAWLLGLR...  \n3  MAAAAAAAAATEQQGSNGPVKKSMREKAVERRNVNKEHNSNFKAGY...  \n4  MAAAAAAAAATNGTGGSSGMEVDAAVVPSVMACGVTGSVSVALHPL...  ",
      "text/html": "<div>\n<style scoped>\n    .dataframe tbody tr th:only-of-type {\n        vertical-align: middle;\n    }\n\n    .dataframe tbody tr th {\n        vertical-align: top;\n    }\n\n    .dataframe thead th {\n        text-align: right;\n    }\n</style>\n<table border=\"1\" class=\"dataframe\">\n  <thead>\n    <tr style=\"text-align: right;\">\n      <th></th>\n      <th>ACC</th>\n      <th>Kingdom</th>\n      <th>Partition</th>\n      <th>Membrane</th>\n      <th>Cytoplasm</th>\n      <th>Nucleus</th>\n      <th>Extracellular</th>\n      <th>Cell membrane</th>\n      <th>Mitochondrion</th>\n      <th>Plastid</th>\n      <th>Endoplasmic reticulum</th>\n      <th>Lysosome/Vacuole</th>\n      <th>Golgi apparatus</th>\n      <th>Peroxisome</th>\n      <th>Sequence</th>\n    </tr>\n  </thead>\n  <tbody>\n    <tr>\n      <th>0</th>\n      <td>Q28165</td>\n      <td>Metazoa</td>\n      <td>4</td>\n      <td>0.0</td>\n      <td>1.0</td>\n      <td>1.0</td>\n      <td>0.0</td>\n      <td>0.0</td>\n      <td>0.0</td>\n      <td>0.0</td>\n      <td>0.0</td>\n      <td>0.0</td>\n      <td>0.0</td>\n      <td>0.0</td>\n      <td>MAAAAAAAAAAGAAGGRGSGPGRRRHLVPGAGGEAGEGAPGGAGDY...</td>\n    </tr>\n    <tr>\n      <th>1</th>\n      <td>Q86U42</td>\n      <td>Metazoa</td>\n      <td>4</td>\n      <td>0.0</td>\n      <td>1.0</td>\n      <td>1.0</td>\n      <td>0.0</td>\n      <td>0.0</td>\n      <td>0.0</td>\n      <td>0.0</td>\n      <td>0.0</td>\n      <td>0.0</td>\n      <td>0.0</td>\n      <td>0.0</td>\n      <td>MAAAAAAAAAAGAAGGRGSGPGRRRHLVPGAGGEAGEGAPGGAGDY...</td>\n    </tr>\n    <tr>\n      <th>2</th>\n      <td>Q0GA42</td>\n      <td>Metazoa</td>\n      <td>3</td>\n      <td>1.0</td>\n      <td>0.0</td>\n      <td>0.0</td>\n      <td>0.0</td>\n      <td>1.0</td>\n      <td>0.0</td>\n      <td>0.0</td>\n      <td>0.0</td>\n      <td>0.0</td>\n      <td>0.0</td>\n      <td>0.0</td>\n      <td>MAAAAAAAAALGVRLRDCCSRGAVLLLFFSLSPRPPAAAAWLLGLR...</td>\n    </tr>\n    <tr>\n      <th>3</th>\n      <td>P82349</td>\n      <td>Metazoa</td>\n      <td>1</td>\n      <td>1.0</td>\n      <td>1.0</td>\n      <td>0.0</td>\n      <td>0.0</td>\n      <td>1.0</td>\n      <td>0.0</td>\n      <td>0.0</td>\n      <td>0.0</td>\n      <td>0.0</td>\n      <td>0.0</td>\n      <td>0.0</td>\n      <td>MAAAAAAAAATEQQGSNGPVKKSMREKAVERRNVNKEHNSNFKAGY...</td>\n    </tr>\n    <tr>\n      <th>4</th>\n      <td>Q7L5N1</td>\n      <td>Metazoa</td>\n      <td>1</td>\n      <td>0.0</td>\n      <td>1.0</td>\n      <td>1.0</td>\n      <td>0.0</td>\n      <td>0.0</td>\n      <td>0.0</td>\n      <td>0.0</td>\n      <td>0.0</td>\n      <td>0.0</td>\n      <td>0.0</td>\n      <td>0.0</td>\n      <td>MAAAAAAAAATNGTGGSSGMEVDAAVVPSVMACGVTGSVSVALHPL...</td>\n    </tr>\n  </tbody>\n</table>\n</div>"
     },
     "execution_count": 16,
     "metadata": {},
     "output_type": "execute_result"
    }
   ],
   "source": [
    "df_reset.head()"
   ],
   "metadata": {
    "collapsed": false,
    "ExecuteTime": {
     "end_time": "2024-06-01T03:03:59.350711Z",
     "start_time": "2024-06-01T03:03:59.336648Z"
    }
   },
   "id": "e06939aece80285",
   "execution_count": 16
  },
  {
   "cell_type": "code",
   "outputs": [
    {
     "data": {
      "text/plain": "ACC                      0\nPartition                0\nMembrane                 0\nCytoplasm                0\nNucleus                  0\nExtracellular            0\nCell membrane            0\nMitochondrion            0\nPlastid                  0\nEndoplasmic reticulum    0\nLysosome/Vacuole         0\nGolgi apparatus          0\nPeroxisome               0\nSequence                 0\ndtype: int64"
     },
     "execution_count": 17,
     "metadata": {},
     "output_type": "execute_result"
    }
   ],
   "source": [
    "null_values_excluding_column"
   ],
   "metadata": {
    "collapsed": false,
    "ExecuteTime": {
     "end_time": "2024-06-01T03:04:00.730193Z",
     "start_time": "2024-06-01T03:04:00.723946Z"
    }
   },
   "id": "c2484bf60455edac",
   "execution_count": 17
  },
  {
   "cell_type": "code",
   "outputs": [
    {
     "data": {
      "text/plain": "28303"
     },
     "execution_count": 18,
     "metadata": {},
     "output_type": "execute_result"
    }
   ],
   "source": [
    "len(merge_1)"
   ],
   "metadata": {
    "collapsed": false,
    "ExecuteTime": {
     "end_time": "2024-06-01T03:04:01.999832Z",
     "start_time": "2024-06-01T03:04:01.994170Z"
    }
   },
   "id": "79121095f1d8cea0",
   "execution_count": 18
  },
  {
   "cell_type": "code",
   "outputs": [
    {
     "data": {
      "text/plain": "28841"
     },
     "execution_count": 19,
     "metadata": {},
     "output_type": "execute_result"
    }
   ],
   "source": [
    "len(concatenated_df)"
   ],
   "metadata": {
    "collapsed": false,
    "ExecuteTime": {
     "end_time": "2024-06-01T03:04:04.280228Z",
     "start_time": "2024-06-01T03:04:04.274613Z"
    }
   },
   "id": "dc56c7d4bfe34571",
   "execution_count": 19
  },
  {
   "cell_type": "code",
   "outputs": [],
   "source": [
    "df_reset.to_csv('Final_Datasets/Modified_Dataset_Ex/multisub_5_partitions_unique.csv')"
   ],
   "metadata": {
    "collapsed": false,
    "ExecuteTime": {
     "end_time": "2024-06-01T03:05:11.197843Z",
     "start_time": "2024-06-01T03:05:10.627139Z"
    }
   },
   "id": "75469e3403953b4",
   "execution_count": 20
  },
  {
   "cell_type": "code",
   "outputs": [],
   "source": [
    "load= pd.read_csv('Final_Datasets/Modified_Dataset_Ex/multisub_5_partitions_unique.csv')"
   ],
   "metadata": {
    "collapsed": false,
    "ExecuteTime": {
     "end_time": "2024-06-01T03:05:20.486716Z",
     "start_time": "2024-06-01T03:05:20.278972Z"
    }
   },
   "id": "5566eba63ef44b86",
   "execution_count": 21
  },
  {
   "cell_type": "code",
   "outputs": [
    {
     "data": {
      "text/plain": "   Unnamed: 0     ACC  Kingdom  Partition  Membrane  Cytoplasm  Nucleus  \\\n0           0  Q28165  Metazoa          4       0.0        1.0      1.0   \n1           1  Q86U42  Metazoa          4       0.0        1.0      1.0   \n2           2  Q0GA42  Metazoa          3       1.0        0.0      0.0   \n3           3  P82349  Metazoa          1       1.0        1.0      0.0   \n4           4  Q7L5N1  Metazoa          1       0.0        1.0      1.0   \n\n   Extracellular  Cell membrane  Mitochondrion  Plastid  \\\n0            0.0            0.0            0.0      0.0   \n1            0.0            0.0            0.0      0.0   \n2            0.0            1.0            0.0      0.0   \n3            0.0            1.0            0.0      0.0   \n4            0.0            0.0            0.0      0.0   \n\n   Endoplasmic reticulum  Lysosome/Vacuole  Golgi apparatus  Peroxisome  \\\n0                    0.0               0.0              0.0         0.0   \n1                    0.0               0.0              0.0         0.0   \n2                    0.0               0.0              0.0         0.0   \n3                    0.0               0.0              0.0         0.0   \n4                    0.0               0.0              0.0         0.0   \n\n                                            Sequence  \n0  MAAAAAAAAAAGAAGGRGSGPGRRRHLVPGAGGEAGEGAPGGAGDY...  \n1  MAAAAAAAAAAGAAGGRGSGPGRRRHLVPGAGGEAGEGAPGGAGDY...  \n2  MAAAAAAAAALGVRLRDCCSRGAVLLLFFSLSPRPPAAAAWLLGLR...  \n3  MAAAAAAAAATEQQGSNGPVKKSMREKAVERRNVNKEHNSNFKAGY...  \n4  MAAAAAAAAATNGTGGSSGMEVDAAVVPSVMACGVTGSVSVALHPL...  ",
      "text/html": "<div>\n<style scoped>\n    .dataframe tbody tr th:only-of-type {\n        vertical-align: middle;\n    }\n\n    .dataframe tbody tr th {\n        vertical-align: top;\n    }\n\n    .dataframe thead th {\n        text-align: right;\n    }\n</style>\n<table border=\"1\" class=\"dataframe\">\n  <thead>\n    <tr style=\"text-align: right;\">\n      <th></th>\n      <th>Unnamed: 0</th>\n      <th>ACC</th>\n      <th>Kingdom</th>\n      <th>Partition</th>\n      <th>Membrane</th>\n      <th>Cytoplasm</th>\n      <th>Nucleus</th>\n      <th>Extracellular</th>\n      <th>Cell membrane</th>\n      <th>Mitochondrion</th>\n      <th>Plastid</th>\n      <th>Endoplasmic reticulum</th>\n      <th>Lysosome/Vacuole</th>\n      <th>Golgi apparatus</th>\n      <th>Peroxisome</th>\n      <th>Sequence</th>\n    </tr>\n  </thead>\n  <tbody>\n    <tr>\n      <th>0</th>\n      <td>0</td>\n      <td>Q28165</td>\n      <td>Metazoa</td>\n      <td>4</td>\n      <td>0.0</td>\n      <td>1.0</td>\n      <td>1.0</td>\n      <td>0.0</td>\n      <td>0.0</td>\n      <td>0.0</td>\n      <td>0.0</td>\n      <td>0.0</td>\n      <td>0.0</td>\n      <td>0.0</td>\n      <td>0.0</td>\n      <td>MAAAAAAAAAAGAAGGRGSGPGRRRHLVPGAGGEAGEGAPGGAGDY...</td>\n    </tr>\n    <tr>\n      <th>1</th>\n      <td>1</td>\n      <td>Q86U42</td>\n      <td>Metazoa</td>\n      <td>4</td>\n      <td>0.0</td>\n      <td>1.0</td>\n      <td>1.0</td>\n      <td>0.0</td>\n      <td>0.0</td>\n      <td>0.0</td>\n      <td>0.0</td>\n      <td>0.0</td>\n      <td>0.0</td>\n      <td>0.0</td>\n      <td>0.0</td>\n      <td>MAAAAAAAAAAGAAGGRGSGPGRRRHLVPGAGGEAGEGAPGGAGDY...</td>\n    </tr>\n    <tr>\n      <th>2</th>\n      <td>2</td>\n      <td>Q0GA42</td>\n      <td>Metazoa</td>\n      <td>3</td>\n      <td>1.0</td>\n      <td>0.0</td>\n      <td>0.0</td>\n      <td>0.0</td>\n      <td>1.0</td>\n      <td>0.0</td>\n      <td>0.0</td>\n      <td>0.0</td>\n      <td>0.0</td>\n      <td>0.0</td>\n      <td>0.0</td>\n      <td>MAAAAAAAAALGVRLRDCCSRGAVLLLFFSLSPRPPAAAAWLLGLR...</td>\n    </tr>\n    <tr>\n      <th>3</th>\n      <td>3</td>\n      <td>P82349</td>\n      <td>Metazoa</td>\n      <td>1</td>\n      <td>1.0</td>\n      <td>1.0</td>\n      <td>0.0</td>\n      <td>0.0</td>\n      <td>1.0</td>\n      <td>0.0</td>\n      <td>0.0</td>\n      <td>0.0</td>\n      <td>0.0</td>\n      <td>0.0</td>\n      <td>0.0</td>\n      <td>MAAAAAAAAATEQQGSNGPVKKSMREKAVERRNVNKEHNSNFKAGY...</td>\n    </tr>\n    <tr>\n      <th>4</th>\n      <td>4</td>\n      <td>Q7L5N1</td>\n      <td>Metazoa</td>\n      <td>1</td>\n      <td>0.0</td>\n      <td>1.0</td>\n      <td>1.0</td>\n      <td>0.0</td>\n      <td>0.0</td>\n      <td>0.0</td>\n      <td>0.0</td>\n      <td>0.0</td>\n      <td>0.0</td>\n      <td>0.0</td>\n      <td>0.0</td>\n      <td>MAAAAAAAAATNGTGGSSGMEVDAAVVPSVMACGVTGSVSVALHPL...</td>\n    </tr>\n  </tbody>\n</table>\n</div>"
     },
     "execution_count": 22,
     "metadata": {},
     "output_type": "execute_result"
    }
   ],
   "source": [
    "load.head()"
   ],
   "metadata": {
    "collapsed": false,
    "ExecuteTime": {
     "end_time": "2024-06-01T03:05:21.139681Z",
     "start_time": "2024-06-01T03:05:21.125622Z"
    }
   },
   "id": "fe7142b826b46b32",
   "execution_count": 22
  },
  {
   "cell_type": "code",
   "outputs": [],
   "source": [
    "null_values_excluding_column = load.drop(columns=['Kingdom']).isnull().sum()"
   ],
   "metadata": {
    "collapsed": false,
    "ExecuteTime": {
     "end_time": "2024-06-01T03:05:46.953500Z",
     "start_time": "2024-06-01T03:05:46.931678Z"
    }
   },
   "id": "a7a28c3f603cc596",
   "execution_count": 23
  },
  {
   "cell_type": "code",
   "outputs": [
    {
     "data": {
      "text/plain": "Unnamed: 0               0\nACC                      0\nPartition                0\nMembrane                 0\nCytoplasm                0\nNucleus                  0\nExtracellular            0\nCell membrane            0\nMitochondrion            0\nPlastid                  0\nEndoplasmic reticulum    0\nLysosome/Vacuole         0\nGolgi apparatus          0\nPeroxisome               0\nSequence                 0\ndtype: int64"
     },
     "execution_count": 24,
     "metadata": {},
     "output_type": "execute_result"
    }
   ],
   "source": [
    "null_values_excluding_column"
   ],
   "metadata": {
    "collapsed": false,
    "ExecuteTime": {
     "end_time": "2024-06-01T03:05:47.887857Z",
     "start_time": "2024-06-01T03:05:47.881173Z"
    }
   },
   "id": "8578b130f3c783c0",
   "execution_count": 24
  },
  {
   "cell_type": "code",
   "outputs": [
    {
     "name": "stdout",
     "output_type": "stream",
     "text": [
      "Indices of null values:\n",
      "Int64Index([], dtype='int64')\n"
     ]
    }
   ],
   "source": [
    "# Find the indices of null values\n",
    "null_indices = load['Sequence'][load['Sequence'].isnull()].index\n",
    "print(\"Indices of null values:\")\n",
    "print(null_indices)"
   ],
   "metadata": {
    "collapsed": false,
    "ExecuteTime": {
     "end_time": "2024-06-01T03:05:55.442264Z",
     "start_time": "2024-06-01T03:05:55.431915Z"
    }
   },
   "id": "342ab17c2852a841",
   "execution_count": 25
  },
  {
   "cell_type": "code",
   "outputs": [],
   "source": [],
   "metadata": {
    "collapsed": false
   },
   "id": "21e1e5d8875b4c5"
  }
 ],
 "metadata": {
  "kernelspec": {
   "display_name": "Python 3",
   "language": "python",
   "name": "python3"
  },
  "language_info": {
   "codemirror_mode": {
    "name": "ipython",
    "version": 2
   },
   "file_extension": ".py",
   "mimetype": "text/x-python",
   "name": "python",
   "nbconvert_exporter": "python",
   "pygments_lexer": "ipython2",
   "version": "2.7.6"
  }
 },
 "nbformat": 4,
 "nbformat_minor": 5
}
