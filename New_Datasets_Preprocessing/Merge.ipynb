{
 "cells": [
  {
   "cell_type": "code",
   "execution_count": 1,
   "id": "initial_id",
   "metadata": {
    "collapsed": true,
    "ExecuteTime": {
     "end_time": "2024-05-24T10:47:28.248942Z",
     "start_time": "2024-05-24T10:47:28.151066Z"
    }
   },
   "outputs": [],
   "source": [
    "import pandas as pd\n",
    "import matplotlib.pyplot as plt\n",
    "import seaborn as sns\n",
    "import re\n",
    "from sklearn.model_selection import train_test_split\n",
    "import numpy as np"
   ]
  },
  {
   "cell_type": "code",
   "outputs": [],
   "source": [
    "merge_1 = pd.read_csv('multisub_5_partitions_unique.csv')"
   ],
   "metadata": {
    "collapsed": false,
    "ExecuteTime": {
     "end_time": "2024-05-24T10:47:29.241036Z",
     "start_time": "2024-05-24T10:47:29.028854Z"
    }
   },
   "id": "e4dc61a10f01dc7c",
   "execution_count": 2
  },
  {
   "cell_type": "code",
   "outputs": [],
   "source": [
    "null_values = merge_1.isnull().sum()"
   ],
   "metadata": {
    "collapsed": false,
    "ExecuteTime": {
     "end_time": "2024-05-24T10:47:30.366181Z",
     "start_time": "2024-05-24T10:47:30.356455Z"
    }
   },
   "id": "3d6b1b1ff0943044",
   "execution_count": 3
  },
  {
   "cell_type": "code",
   "outputs": [
    {
     "data": {
      "text/plain": "Unnamed: 0               0\nACC                      0\nKingdom                  0\nPartition                0\nMembrane                 0\nCytoplasm                0\nNucleus                  0\nExtracellular            0\nCell membrane            0\nMitochondrion            0\nPlastid                  0\nEndoplasmic reticulum    0\nLysosome/Vacuole         0\nGolgi apparatus          0\nPeroxisome               0\nSequence                 0\ndtype: int64"
     },
     "execution_count": 4,
     "metadata": {},
     "output_type": "execute_result"
    }
   ],
   "source": [
    "null_values"
   ],
   "metadata": {
    "collapsed": false,
    "ExecuteTime": {
     "end_time": "2024-05-24T10:47:30.846450Z",
     "start_time": "2024-05-24T10:47:30.839724Z"
    }
   },
   "id": "4af2d4e2ef738237",
   "execution_count": 4
  },
  {
   "cell_type": "code",
   "outputs": [
    {
     "data": {
      "text/plain": "   Unnamed: 0     ACC  Kingdom  Partition  Membrane  Cytoplasm  Nucleus  \\\n0           0  Q28165  Metazoa          4       0.0        1.0      1.0   \n1           1  Q86U42  Metazoa          4       0.0        1.0      1.0   \n2           2  Q0GA42  Metazoa          3       1.0        0.0      0.0   \n3           3  P82349  Metazoa          1       1.0        1.0      0.0   \n4           4  Q7L5N1  Metazoa          1       0.0        1.0      1.0   \n\n   Extracellular  Cell membrane  Mitochondrion  Plastid  \\\n0            0.0            0.0            0.0      0.0   \n1            0.0            0.0            0.0      0.0   \n2            0.0            1.0            0.0      0.0   \n3            0.0            1.0            0.0      0.0   \n4            0.0            0.0            0.0      0.0   \n\n   Endoplasmic reticulum  Lysosome/Vacuole  Golgi apparatus  Peroxisome  \\\n0                    0.0               0.0              0.0         0.0   \n1                    0.0               0.0              0.0         0.0   \n2                    0.0               0.0              0.0         0.0   \n3                    0.0               0.0              0.0         0.0   \n4                    0.0               0.0              0.0         0.0   \n\n                                            Sequence  \n0  MAAAAAAAAAAGAAGGRGSGPGRRRHLVPGAGGEAGEGAPGGAGDY...  \n1  MAAAAAAAAAAGAAGGRGSGPGRRRHLVPGAGGEAGEGAPGGAGDY...  \n2  MAAAAAAAAALGVRLRDCCSRGAVLLLFFSLSPRPPAAAAWLLGLR...  \n3  MAAAAAAAAATEQQGSNGPVKKSMREKAVERRNVNKEHNSNFKAGY...  \n4  MAAAAAAAAATNGTGGSSGMEVDAAVVPSVMACGVTGSVSVALHPL...  ",
      "text/html": "<div>\n<style scoped>\n    .dataframe tbody tr th:only-of-type {\n        vertical-align: middle;\n    }\n\n    .dataframe tbody tr th {\n        vertical-align: top;\n    }\n\n    .dataframe thead th {\n        text-align: right;\n    }\n</style>\n<table border=\"1\" class=\"dataframe\">\n  <thead>\n    <tr style=\"text-align: right;\">\n      <th></th>\n      <th>Unnamed: 0</th>\n      <th>ACC</th>\n      <th>Kingdom</th>\n      <th>Partition</th>\n      <th>Membrane</th>\n      <th>Cytoplasm</th>\n      <th>Nucleus</th>\n      <th>Extracellular</th>\n      <th>Cell membrane</th>\n      <th>Mitochondrion</th>\n      <th>Plastid</th>\n      <th>Endoplasmic reticulum</th>\n      <th>Lysosome/Vacuole</th>\n      <th>Golgi apparatus</th>\n      <th>Peroxisome</th>\n      <th>Sequence</th>\n    </tr>\n  </thead>\n  <tbody>\n    <tr>\n      <th>0</th>\n      <td>0</td>\n      <td>Q28165</td>\n      <td>Metazoa</td>\n      <td>4</td>\n      <td>0.0</td>\n      <td>1.0</td>\n      <td>1.0</td>\n      <td>0.0</td>\n      <td>0.0</td>\n      <td>0.0</td>\n      <td>0.0</td>\n      <td>0.0</td>\n      <td>0.0</td>\n      <td>0.0</td>\n      <td>0.0</td>\n      <td>MAAAAAAAAAAGAAGGRGSGPGRRRHLVPGAGGEAGEGAPGGAGDY...</td>\n    </tr>\n    <tr>\n      <th>1</th>\n      <td>1</td>\n      <td>Q86U42</td>\n      <td>Metazoa</td>\n      <td>4</td>\n      <td>0.0</td>\n      <td>1.0</td>\n      <td>1.0</td>\n      <td>0.0</td>\n      <td>0.0</td>\n      <td>0.0</td>\n      <td>0.0</td>\n      <td>0.0</td>\n      <td>0.0</td>\n      <td>0.0</td>\n      <td>0.0</td>\n      <td>MAAAAAAAAAAGAAGGRGSGPGRRRHLVPGAGGEAGEGAPGGAGDY...</td>\n    </tr>\n    <tr>\n      <th>2</th>\n      <td>2</td>\n      <td>Q0GA42</td>\n      <td>Metazoa</td>\n      <td>3</td>\n      <td>1.0</td>\n      <td>0.0</td>\n      <td>0.0</td>\n      <td>0.0</td>\n      <td>1.0</td>\n      <td>0.0</td>\n      <td>0.0</td>\n      <td>0.0</td>\n      <td>0.0</td>\n      <td>0.0</td>\n      <td>0.0</td>\n      <td>MAAAAAAAAALGVRLRDCCSRGAVLLLFFSLSPRPPAAAAWLLGLR...</td>\n    </tr>\n    <tr>\n      <th>3</th>\n      <td>3</td>\n      <td>P82349</td>\n      <td>Metazoa</td>\n      <td>1</td>\n      <td>1.0</td>\n      <td>1.0</td>\n      <td>0.0</td>\n      <td>0.0</td>\n      <td>1.0</td>\n      <td>0.0</td>\n      <td>0.0</td>\n      <td>0.0</td>\n      <td>0.0</td>\n      <td>0.0</td>\n      <td>0.0</td>\n      <td>MAAAAAAAAATEQQGSNGPVKKSMREKAVERRNVNKEHNSNFKAGY...</td>\n    </tr>\n    <tr>\n      <th>4</th>\n      <td>4</td>\n      <td>Q7L5N1</td>\n      <td>Metazoa</td>\n      <td>1</td>\n      <td>0.0</td>\n      <td>1.0</td>\n      <td>1.0</td>\n      <td>0.0</td>\n      <td>0.0</td>\n      <td>0.0</td>\n      <td>0.0</td>\n      <td>0.0</td>\n      <td>0.0</td>\n      <td>0.0</td>\n      <td>0.0</td>\n      <td>MAAAAAAAAATNGTGGSSGMEVDAAVVPSVMACGVTGSVSVALHPL...</td>\n    </tr>\n  </tbody>\n</table>\n</div>"
     },
     "execution_count": 5,
     "metadata": {},
     "output_type": "execute_result"
    }
   ],
   "source": [
    "merge_1.head()"
   ],
   "metadata": {
    "collapsed": false,
    "ExecuteTime": {
     "end_time": "2024-05-24T10:47:32.387125Z",
     "start_time": "2024-05-24T10:47:32.374988Z"
    }
   },
   "id": "8324cd0acfdcdd45",
   "execution_count": 5
  },
  {
   "cell_type": "code",
   "outputs": [],
   "source": [
    "merge_2= pd.read_csv('deeploc_combined_data_with_partition.csv')"
   ],
   "metadata": {
    "collapsed": false,
    "ExecuteTime": {
     "end_time": "2024-05-24T10:47:41.908605Z",
     "start_time": "2024-05-24T10:47:41.902612Z"
    }
   },
   "id": "95d20f2ae4cbb8a2",
   "execution_count": 6
  },
  {
   "cell_type": "code",
   "outputs": [],
   "source": [
    "null_values_excluding_column = merge_2.drop(columns=['Kingdom']).isnull().sum()"
   ],
   "metadata": {
    "collapsed": false,
    "ExecuteTime": {
     "end_time": "2024-05-24T10:47:42.761715Z",
     "start_time": "2024-05-24T10:47:42.756404Z"
    }
   },
   "id": "f1467d32197bd087",
   "execution_count": 7
  },
  {
   "cell_type": "code",
   "outputs": [
    {
     "data": {
      "text/plain": "ACC                      0\nSequence                 0\nMembrane                 0\nCytoplasm                0\nNucleus                  0\nExtracellular            0\nCell membrane            0\nMitochondrion            0\nPlastid                  0\nEndoplasmic reticulum    0\nLysosome/Vacuole         0\nGolgi apparatus          0\nPeroxisome               0\nPartition                0\ndtype: int64"
     },
     "execution_count": 8,
     "metadata": {},
     "output_type": "execute_result"
    }
   ],
   "source": [
    "null_values_excluding_column"
   ],
   "metadata": {
    "collapsed": false,
    "ExecuteTime": {
     "end_time": "2024-05-24T10:47:43.406020Z",
     "start_time": "2024-05-24T10:47:43.400838Z"
    }
   },
   "id": "e081154c0eb4fb9",
   "execution_count": 8
  },
  {
   "cell_type": "code",
   "outputs": [],
   "source": [
    "# Concatenate row-wise\n",
    "concatenated_df = pd.concat([merge_1, merge_2], axis=0)"
   ],
   "metadata": {
    "collapsed": false,
    "ExecuteTime": {
     "end_time": "2024-05-24T10:47:57.232209Z",
     "start_time": "2024-05-24T10:47:57.224696Z"
    }
   },
   "id": "9e1d6cc12f7250eb",
   "execution_count": 9
  },
  {
   "cell_type": "code",
   "outputs": [],
   "source": [
    "# Reset the index\n",
    "df_reset =concatenated_df.reset_index(drop=True)"
   ],
   "metadata": {
    "collapsed": false,
    "ExecuteTime": {
     "end_time": "2024-05-24T10:48:20.564085Z",
     "start_time": "2024-05-24T10:48:20.552310Z"
    }
   },
   "id": "2548a931cc8850a1",
   "execution_count": 10
  },
  {
   "cell_type": "code",
   "outputs": [
    {
     "data": {
      "text/plain": "       Unnamed: 0     ACC  Kingdom  Partition  Membrane  Cytoplasm  Nucleus  \\\n0             0.0  Q28165  Metazoa          4       0.0        1.0      1.0   \n1             1.0  Q86U42  Metazoa          4       0.0        1.0      1.0   \n2             2.0  Q0GA42  Metazoa          3       1.0        0.0      0.0   \n3             3.0  P82349  Metazoa          1       1.0        1.0      0.0   \n4             4.0  Q7L5N1  Metazoa          1       0.0        1.0      1.0   \n...           ...     ...      ...        ...       ...        ...      ...   \n28734         NaN  P82971      NaN          0       0.0        0.0      0.0   \n28735         NaN  B4YSU8      NaN          0       0.0        0.0      0.0   \n28736         NaN  B3A0P0      NaN          4       0.0        0.0      0.0   \n28737         NaN  P86368      NaN          3       0.0        0.0      0.0   \n28738         NaN  P80156      NaN          4       0.0        0.0      0.0   \n\n       Extracellular  Cell membrane  Mitochondrion  Plastid  \\\n0                0.0            0.0            0.0      0.0   \n1                0.0            0.0            0.0      0.0   \n2                0.0            1.0            0.0      0.0   \n3                0.0            1.0            0.0      0.0   \n4                0.0            0.0            0.0      0.0   \n...              ...            ...            ...      ...   \n28734            1.0            0.0            0.0      0.0   \n28735            1.0            0.0            0.0      0.0   \n28736            1.0            0.0            0.0      0.0   \n28737            1.0            0.0            0.0      0.0   \n28738            1.0            0.0            0.0      0.0   \n\n       Endoplasmic reticulum  Lysosome/Vacuole  Golgi apparatus  Peroxisome  \\\n0                        0.0               0.0              0.0         0.0   \n1                        0.0               0.0              0.0         0.0   \n2                        0.0               0.0              0.0         0.0   \n3                        0.0               0.0              0.0         0.0   \n4                        0.0               0.0              0.0         0.0   \n...                      ...               ...              ...         ...   \n28734                    0.0               0.0              0.0         0.0   \n28735                    0.0               0.0              0.0         0.0   \n28736                    0.0               0.0              0.0         0.0   \n28737                    0.0               0.0              0.0         0.0   \n28738                    0.0               0.0              0.0         0.0   \n\n                                                Sequence  \n0      MAAAAAAAAAAGAAGGRGSGPGRRRHLVPGAGGEAGEGAPGGAGDY...  \n1      MAAAAAAAAAAGAAGGRGSGPGRRRHLVPGAGGEAGEGAPGGAGDY...  \n2      MAAAAAAAAALGVRLRDCCSRGAVLLLFFSLSPRPPAAAAWLLGLR...  \n3      MAAAAAAAAATEQQGSNGPVKKSMREKAVERRNVNKEHNSNFKAGY...  \n4      MAAAAAAAAATNGTGGSSGMEVDAAVVPSVMACGVTGSVSVALHPL...  \n...                                                  ...  \n28734  IIFPGTLWCGNGNLANGTNQLGSWKETDSCCRTHDMCPDLIEAHGS...  \n28735  MQKATVLLLALLLLLPLSTAQDAEGSQEDAAQREVDIATRCGGTGD...  \n28736    IIECFFSCEIEKDGKSKEGKPCKPKGDKDKDKKCGGWRCKIKMCIKI  \n28737  SLLEFGMMILEETGKLAVPFYSSYGCYCGWGGKATPKDATDRCCFV...  \n28738  TKCYKTGDRIISEACPPGQDLCYMKTWCDVFCGTRGRVIELGCTAT...  \n\n[28739 rows x 16 columns]",
      "text/html": "<div>\n<style scoped>\n    .dataframe tbody tr th:only-of-type {\n        vertical-align: middle;\n    }\n\n    .dataframe tbody tr th {\n        vertical-align: top;\n    }\n\n    .dataframe thead th {\n        text-align: right;\n    }\n</style>\n<table border=\"1\" class=\"dataframe\">\n  <thead>\n    <tr style=\"text-align: right;\">\n      <th></th>\n      <th>Unnamed: 0</th>\n      <th>ACC</th>\n      <th>Kingdom</th>\n      <th>Partition</th>\n      <th>Membrane</th>\n      <th>Cytoplasm</th>\n      <th>Nucleus</th>\n      <th>Extracellular</th>\n      <th>Cell membrane</th>\n      <th>Mitochondrion</th>\n      <th>Plastid</th>\n      <th>Endoplasmic reticulum</th>\n      <th>Lysosome/Vacuole</th>\n      <th>Golgi apparatus</th>\n      <th>Peroxisome</th>\n      <th>Sequence</th>\n    </tr>\n  </thead>\n  <tbody>\n    <tr>\n      <th>0</th>\n      <td>0.0</td>\n      <td>Q28165</td>\n      <td>Metazoa</td>\n      <td>4</td>\n      <td>0.0</td>\n      <td>1.0</td>\n      <td>1.0</td>\n      <td>0.0</td>\n      <td>0.0</td>\n      <td>0.0</td>\n      <td>0.0</td>\n      <td>0.0</td>\n      <td>0.0</td>\n      <td>0.0</td>\n      <td>0.0</td>\n      <td>MAAAAAAAAAAGAAGGRGSGPGRRRHLVPGAGGEAGEGAPGGAGDY...</td>\n    </tr>\n    <tr>\n      <th>1</th>\n      <td>1.0</td>\n      <td>Q86U42</td>\n      <td>Metazoa</td>\n      <td>4</td>\n      <td>0.0</td>\n      <td>1.0</td>\n      <td>1.0</td>\n      <td>0.0</td>\n      <td>0.0</td>\n      <td>0.0</td>\n      <td>0.0</td>\n      <td>0.0</td>\n      <td>0.0</td>\n      <td>0.0</td>\n      <td>0.0</td>\n      <td>MAAAAAAAAAAGAAGGRGSGPGRRRHLVPGAGGEAGEGAPGGAGDY...</td>\n    </tr>\n    <tr>\n      <th>2</th>\n      <td>2.0</td>\n      <td>Q0GA42</td>\n      <td>Metazoa</td>\n      <td>3</td>\n      <td>1.0</td>\n      <td>0.0</td>\n      <td>0.0</td>\n      <td>0.0</td>\n      <td>1.0</td>\n      <td>0.0</td>\n      <td>0.0</td>\n      <td>0.0</td>\n      <td>0.0</td>\n      <td>0.0</td>\n      <td>0.0</td>\n      <td>MAAAAAAAAALGVRLRDCCSRGAVLLLFFSLSPRPPAAAAWLLGLR...</td>\n    </tr>\n    <tr>\n      <th>3</th>\n      <td>3.0</td>\n      <td>P82349</td>\n      <td>Metazoa</td>\n      <td>1</td>\n      <td>1.0</td>\n      <td>1.0</td>\n      <td>0.0</td>\n      <td>0.0</td>\n      <td>1.0</td>\n      <td>0.0</td>\n      <td>0.0</td>\n      <td>0.0</td>\n      <td>0.0</td>\n      <td>0.0</td>\n      <td>0.0</td>\n      <td>MAAAAAAAAATEQQGSNGPVKKSMREKAVERRNVNKEHNSNFKAGY...</td>\n    </tr>\n    <tr>\n      <th>4</th>\n      <td>4.0</td>\n      <td>Q7L5N1</td>\n      <td>Metazoa</td>\n      <td>1</td>\n      <td>0.0</td>\n      <td>1.0</td>\n      <td>1.0</td>\n      <td>0.0</td>\n      <td>0.0</td>\n      <td>0.0</td>\n      <td>0.0</td>\n      <td>0.0</td>\n      <td>0.0</td>\n      <td>0.0</td>\n      <td>0.0</td>\n      <td>MAAAAAAAAATNGTGGSSGMEVDAAVVPSVMACGVTGSVSVALHPL...</td>\n    </tr>\n    <tr>\n      <th>...</th>\n      <td>...</td>\n      <td>...</td>\n      <td>...</td>\n      <td>...</td>\n      <td>...</td>\n      <td>...</td>\n      <td>...</td>\n      <td>...</td>\n      <td>...</td>\n      <td>...</td>\n      <td>...</td>\n      <td>...</td>\n      <td>...</td>\n      <td>...</td>\n      <td>...</td>\n      <td>...</td>\n    </tr>\n    <tr>\n      <th>28734</th>\n      <td>NaN</td>\n      <td>P82971</td>\n      <td>NaN</td>\n      <td>0</td>\n      <td>0.0</td>\n      <td>0.0</td>\n      <td>0.0</td>\n      <td>1.0</td>\n      <td>0.0</td>\n      <td>0.0</td>\n      <td>0.0</td>\n      <td>0.0</td>\n      <td>0.0</td>\n      <td>0.0</td>\n      <td>0.0</td>\n      <td>IIFPGTLWCGNGNLANGTNQLGSWKETDSCCRTHDMCPDLIEAHGS...</td>\n    </tr>\n    <tr>\n      <th>28735</th>\n      <td>NaN</td>\n      <td>B4YSU8</td>\n      <td>NaN</td>\n      <td>0</td>\n      <td>0.0</td>\n      <td>0.0</td>\n      <td>0.0</td>\n      <td>1.0</td>\n      <td>0.0</td>\n      <td>0.0</td>\n      <td>0.0</td>\n      <td>0.0</td>\n      <td>0.0</td>\n      <td>0.0</td>\n      <td>0.0</td>\n      <td>MQKATVLLLALLLLLPLSTAQDAEGSQEDAAQREVDIATRCGGTGD...</td>\n    </tr>\n    <tr>\n      <th>28736</th>\n      <td>NaN</td>\n      <td>B3A0P0</td>\n      <td>NaN</td>\n      <td>4</td>\n      <td>0.0</td>\n      <td>0.0</td>\n      <td>0.0</td>\n      <td>1.0</td>\n      <td>0.0</td>\n      <td>0.0</td>\n      <td>0.0</td>\n      <td>0.0</td>\n      <td>0.0</td>\n      <td>0.0</td>\n      <td>0.0</td>\n      <td>IIECFFSCEIEKDGKSKEGKPCKPKGDKDKDKKCGGWRCKIKMCIKI</td>\n    </tr>\n    <tr>\n      <th>28737</th>\n      <td>NaN</td>\n      <td>P86368</td>\n      <td>NaN</td>\n      <td>3</td>\n      <td>0.0</td>\n      <td>0.0</td>\n      <td>0.0</td>\n      <td>1.0</td>\n      <td>0.0</td>\n      <td>0.0</td>\n      <td>0.0</td>\n      <td>0.0</td>\n      <td>0.0</td>\n      <td>0.0</td>\n      <td>0.0</td>\n      <td>SLLEFGMMILEETGKLAVPFYSSYGCYCGWGGKATPKDATDRCCFV...</td>\n    </tr>\n    <tr>\n      <th>28738</th>\n      <td>NaN</td>\n      <td>P80156</td>\n      <td>NaN</td>\n      <td>4</td>\n      <td>0.0</td>\n      <td>0.0</td>\n      <td>0.0</td>\n      <td>1.0</td>\n      <td>0.0</td>\n      <td>0.0</td>\n      <td>0.0</td>\n      <td>0.0</td>\n      <td>0.0</td>\n      <td>0.0</td>\n      <td>0.0</td>\n      <td>TKCYKTGDRIISEACPPGQDLCYMKTWCDVFCGTRGRVIELGCTAT...</td>\n    </tr>\n  </tbody>\n</table>\n<p>28739 rows × 16 columns</p>\n</div>"
     },
     "execution_count": 11,
     "metadata": {},
     "output_type": "execute_result"
    }
   ],
   "source": [
    "df_reset"
   ],
   "metadata": {
    "collapsed": false,
    "ExecuteTime": {
     "end_time": "2024-05-24T10:48:21.429453Z",
     "start_time": "2024-05-24T10:48:21.413387Z"
    }
   },
   "id": "3025aa1b31ee7838",
   "execution_count": 11
  },
  {
   "cell_type": "code",
   "outputs": [],
   "source": [
    "null_values_excluding_column = df_reset.drop(columns=['Unnamed: 0','Kingdom']).isnull().sum()"
   ],
   "metadata": {
    "collapsed": false,
    "ExecuteTime": {
     "end_time": "2024-05-24T10:48:25.042632Z",
     "start_time": "2024-05-24T10:48:25.028143Z"
    }
   },
   "id": "a2e762b70958a82a",
   "execution_count": 12
  },
  {
   "cell_type": "code",
   "outputs": [
    {
     "data": {
      "text/plain": "ACC                      0\nPartition                0\nMembrane                 0\nCytoplasm                0\nNucleus                  0\nExtracellular            0\nCell membrane            0\nMitochondrion            0\nPlastid                  0\nEndoplasmic reticulum    0\nLysosome/Vacuole         0\nGolgi apparatus          0\nPeroxisome               0\nSequence                 0\ndtype: int64"
     },
     "execution_count": 13,
     "metadata": {},
     "output_type": "execute_result"
    }
   ],
   "source": [
    "null_values_excluding_column"
   ],
   "metadata": {
    "collapsed": false,
    "ExecuteTime": {
     "end_time": "2024-05-24T10:48:25.824494Z",
     "start_time": "2024-05-24T10:48:25.818022Z"
    }
   },
   "id": "3f1143b2d5e700fc",
   "execution_count": 13
  },
  {
   "cell_type": "code",
   "outputs": [],
   "source": [
    "df_reset.drop(columns=['Unnamed: 0'], inplace=True)"
   ],
   "metadata": {
    "collapsed": false,
    "ExecuteTime": {
     "end_time": "2024-05-24T10:48:28.577678Z",
     "start_time": "2024-05-24T10:48:28.569456Z"
    }
   },
   "id": "b4144a180d4d81db",
   "execution_count": 14
  },
  {
   "cell_type": "code",
   "outputs": [],
   "source": [
    "df_reset.rename(columns={'index':'Unnamed: 0'}, inplace=True)"
   ],
   "metadata": {
    "collapsed": false,
    "ExecuteTime": {
     "end_time": "2024-05-24T10:48:39.005379Z",
     "start_time": "2024-05-24T10:48:39.000947Z"
    }
   },
   "id": "960841c4b3e03d51",
   "execution_count": 15
  },
  {
   "cell_type": "code",
   "outputs": [
    {
     "data": {
      "text/plain": "      ACC  Kingdom  Partition  Membrane  Cytoplasm  Nucleus  Extracellular  \\\n0  Q28165  Metazoa          4       0.0        1.0      1.0            0.0   \n1  Q86U42  Metazoa          4       0.0        1.0      1.0            0.0   \n2  Q0GA42  Metazoa          3       1.0        0.0      0.0            0.0   \n3  P82349  Metazoa          1       1.0        1.0      0.0            0.0   \n4  Q7L5N1  Metazoa          1       0.0        1.0      1.0            0.0   \n\n   Cell membrane  Mitochondrion  Plastid  Endoplasmic reticulum  \\\n0            0.0            0.0      0.0                    0.0   \n1            0.0            0.0      0.0                    0.0   \n2            1.0            0.0      0.0                    0.0   \n3            1.0            0.0      0.0                    0.0   \n4            0.0            0.0      0.0                    0.0   \n\n   Lysosome/Vacuole  Golgi apparatus  Peroxisome  \\\n0               0.0              0.0         0.0   \n1               0.0              0.0         0.0   \n2               0.0              0.0         0.0   \n3               0.0              0.0         0.0   \n4               0.0              0.0         0.0   \n\n                                            Sequence  \n0  MAAAAAAAAAAGAAGGRGSGPGRRRHLVPGAGGEAGEGAPGGAGDY...  \n1  MAAAAAAAAAAGAAGGRGSGPGRRRHLVPGAGGEAGEGAPGGAGDY...  \n2  MAAAAAAAAALGVRLRDCCSRGAVLLLFFSLSPRPPAAAAWLLGLR...  \n3  MAAAAAAAAATEQQGSNGPVKKSMREKAVERRNVNKEHNSNFKAGY...  \n4  MAAAAAAAAATNGTGGSSGMEVDAAVVPSVMACGVTGSVSVALHPL...  ",
      "text/html": "<div>\n<style scoped>\n    .dataframe tbody tr th:only-of-type {\n        vertical-align: middle;\n    }\n\n    .dataframe tbody tr th {\n        vertical-align: top;\n    }\n\n    .dataframe thead th {\n        text-align: right;\n    }\n</style>\n<table border=\"1\" class=\"dataframe\">\n  <thead>\n    <tr style=\"text-align: right;\">\n      <th></th>\n      <th>ACC</th>\n      <th>Kingdom</th>\n      <th>Partition</th>\n      <th>Membrane</th>\n      <th>Cytoplasm</th>\n      <th>Nucleus</th>\n      <th>Extracellular</th>\n      <th>Cell membrane</th>\n      <th>Mitochondrion</th>\n      <th>Plastid</th>\n      <th>Endoplasmic reticulum</th>\n      <th>Lysosome/Vacuole</th>\n      <th>Golgi apparatus</th>\n      <th>Peroxisome</th>\n      <th>Sequence</th>\n    </tr>\n  </thead>\n  <tbody>\n    <tr>\n      <th>0</th>\n      <td>Q28165</td>\n      <td>Metazoa</td>\n      <td>4</td>\n      <td>0.0</td>\n      <td>1.0</td>\n      <td>1.0</td>\n      <td>0.0</td>\n      <td>0.0</td>\n      <td>0.0</td>\n      <td>0.0</td>\n      <td>0.0</td>\n      <td>0.0</td>\n      <td>0.0</td>\n      <td>0.0</td>\n      <td>MAAAAAAAAAAGAAGGRGSGPGRRRHLVPGAGGEAGEGAPGGAGDY...</td>\n    </tr>\n    <tr>\n      <th>1</th>\n      <td>Q86U42</td>\n      <td>Metazoa</td>\n      <td>4</td>\n      <td>0.0</td>\n      <td>1.0</td>\n      <td>1.0</td>\n      <td>0.0</td>\n      <td>0.0</td>\n      <td>0.0</td>\n      <td>0.0</td>\n      <td>0.0</td>\n      <td>0.0</td>\n      <td>0.0</td>\n      <td>0.0</td>\n      <td>MAAAAAAAAAAGAAGGRGSGPGRRRHLVPGAGGEAGEGAPGGAGDY...</td>\n    </tr>\n    <tr>\n      <th>2</th>\n      <td>Q0GA42</td>\n      <td>Metazoa</td>\n      <td>3</td>\n      <td>1.0</td>\n      <td>0.0</td>\n      <td>0.0</td>\n      <td>0.0</td>\n      <td>1.0</td>\n      <td>0.0</td>\n      <td>0.0</td>\n      <td>0.0</td>\n      <td>0.0</td>\n      <td>0.0</td>\n      <td>0.0</td>\n      <td>MAAAAAAAAALGVRLRDCCSRGAVLLLFFSLSPRPPAAAAWLLGLR...</td>\n    </tr>\n    <tr>\n      <th>3</th>\n      <td>P82349</td>\n      <td>Metazoa</td>\n      <td>1</td>\n      <td>1.0</td>\n      <td>1.0</td>\n      <td>0.0</td>\n      <td>0.0</td>\n      <td>1.0</td>\n      <td>0.0</td>\n      <td>0.0</td>\n      <td>0.0</td>\n      <td>0.0</td>\n      <td>0.0</td>\n      <td>0.0</td>\n      <td>MAAAAAAAAATEQQGSNGPVKKSMREKAVERRNVNKEHNSNFKAGY...</td>\n    </tr>\n    <tr>\n      <th>4</th>\n      <td>Q7L5N1</td>\n      <td>Metazoa</td>\n      <td>1</td>\n      <td>0.0</td>\n      <td>1.0</td>\n      <td>1.0</td>\n      <td>0.0</td>\n      <td>0.0</td>\n      <td>0.0</td>\n      <td>0.0</td>\n      <td>0.0</td>\n      <td>0.0</td>\n      <td>0.0</td>\n      <td>0.0</td>\n      <td>MAAAAAAAAATNGTGGSSGMEVDAAVVPSVMACGVTGSVSVALHPL...</td>\n    </tr>\n  </tbody>\n</table>\n</div>"
     },
     "execution_count": 16,
     "metadata": {},
     "output_type": "execute_result"
    }
   ],
   "source": [
    "df_reset.head()"
   ],
   "metadata": {
    "collapsed": false,
    "ExecuteTime": {
     "end_time": "2024-05-24T10:48:47.289912Z",
     "start_time": "2024-05-24T10:48:47.276557Z"
    }
   },
   "id": "e06939aece80285",
   "execution_count": 16
  },
  {
   "cell_type": "code",
   "outputs": [
    {
     "data": {
      "text/plain": "ACC                      0\nPartition                0\nMembrane                 0\nCytoplasm                0\nNucleus                  0\nExtracellular            0\nCell membrane            0\nMitochondrion            0\nPlastid                  0\nEndoplasmic reticulum    0\nLysosome/Vacuole         0\nGolgi apparatus          0\nPeroxisome               0\nSequence                 0\ndtype: int64"
     },
     "execution_count": 17,
     "metadata": {},
     "output_type": "execute_result"
    }
   ],
   "source": [
    "null_values_excluding_column"
   ],
   "metadata": {
    "collapsed": false,
    "ExecuteTime": {
     "end_time": "2024-05-24T10:49:09.834752Z",
     "start_time": "2024-05-24T10:49:09.828946Z"
    }
   },
   "id": "c2484bf60455edac",
   "execution_count": 17
  },
  {
   "cell_type": "code",
   "outputs": [
    {
     "data": {
      "text/plain": "28303"
     },
     "execution_count": 18,
     "metadata": {},
     "output_type": "execute_result"
    }
   ],
   "source": [
    "len(merge_1)"
   ],
   "metadata": {
    "collapsed": false,
    "ExecuteTime": {
     "end_time": "2024-05-24T10:49:11.216629Z",
     "start_time": "2024-05-24T10:49:11.211879Z"
    }
   },
   "id": "79121095f1d8cea0",
   "execution_count": 18
  },
  {
   "cell_type": "code",
   "outputs": [
    {
     "data": {
      "text/plain": "28739"
     },
     "execution_count": 19,
     "metadata": {},
     "output_type": "execute_result"
    }
   ],
   "source": [
    "len(concatenated_df)"
   ],
   "metadata": {
    "collapsed": false,
    "ExecuteTime": {
     "end_time": "2024-05-24T10:49:12.641587Z",
     "start_time": "2024-05-24T10:49:12.637395Z"
    }
   },
   "id": "dc56c7d4bfe34571",
   "execution_count": 19
  },
  {
   "cell_type": "code",
   "outputs": [],
   "source": [
    "df_reset.to_csv('multisub_5_partitions_unique_U.csv')"
   ],
   "metadata": {
    "collapsed": false,
    "ExecuteTime": {
     "end_time": "2024-05-24T10:49:18.429492Z",
     "start_time": "2024-05-24T10:49:17.924252Z"
    }
   },
   "id": "75469e3403953b4",
   "execution_count": 20
  },
  {
   "cell_type": "code",
   "outputs": [],
   "source": [
    "load= pd.read_csv('multisub_5_partitions_unique_U.csv')"
   ],
   "metadata": {
    "collapsed": false,
    "ExecuteTime": {
     "end_time": "2024-05-24T10:49:19.234951Z",
     "start_time": "2024-05-24T10:49:18.977109Z"
    }
   },
   "id": "5566eba63ef44b86",
   "execution_count": 21
  },
  {
   "cell_type": "code",
   "outputs": [
    {
     "data": {
      "text/plain": "   Unnamed: 0     ACC  Kingdom  Partition  Membrane  Cytoplasm  Nucleus  \\\n0           0  Q28165  Metazoa          4       0.0        1.0      1.0   \n1           1  Q86U42  Metazoa          4       0.0        1.0      1.0   \n2           2  Q0GA42  Metazoa          3       1.0        0.0      0.0   \n3           3  P82349  Metazoa          1       1.0        1.0      0.0   \n4           4  Q7L5N1  Metazoa          1       0.0        1.0      1.0   \n\n   Extracellular  Cell membrane  Mitochondrion  Plastid  \\\n0            0.0            0.0            0.0      0.0   \n1            0.0            0.0            0.0      0.0   \n2            0.0            1.0            0.0      0.0   \n3            0.0            1.0            0.0      0.0   \n4            0.0            0.0            0.0      0.0   \n\n   Endoplasmic reticulum  Lysosome/Vacuole  Golgi apparatus  Peroxisome  \\\n0                    0.0               0.0              0.0         0.0   \n1                    0.0               0.0              0.0         0.0   \n2                    0.0               0.0              0.0         0.0   \n3                    0.0               0.0              0.0         0.0   \n4                    0.0               0.0              0.0         0.0   \n\n                                            Sequence  \n0  MAAAAAAAAAAGAAGGRGSGPGRRRHLVPGAGGEAGEGAPGGAGDY...  \n1  MAAAAAAAAAAGAAGGRGSGPGRRRHLVPGAGGEAGEGAPGGAGDY...  \n2  MAAAAAAAAALGVRLRDCCSRGAVLLLFFSLSPRPPAAAAWLLGLR...  \n3  MAAAAAAAAATEQQGSNGPVKKSMREKAVERRNVNKEHNSNFKAGY...  \n4  MAAAAAAAAATNGTGGSSGMEVDAAVVPSVMACGVTGSVSVALHPL...  ",
      "text/html": "<div>\n<style scoped>\n    .dataframe tbody tr th:only-of-type {\n        vertical-align: middle;\n    }\n\n    .dataframe tbody tr th {\n        vertical-align: top;\n    }\n\n    .dataframe thead th {\n        text-align: right;\n    }\n</style>\n<table border=\"1\" class=\"dataframe\">\n  <thead>\n    <tr style=\"text-align: right;\">\n      <th></th>\n      <th>Unnamed: 0</th>\n      <th>ACC</th>\n      <th>Kingdom</th>\n      <th>Partition</th>\n      <th>Membrane</th>\n      <th>Cytoplasm</th>\n      <th>Nucleus</th>\n      <th>Extracellular</th>\n      <th>Cell membrane</th>\n      <th>Mitochondrion</th>\n      <th>Plastid</th>\n      <th>Endoplasmic reticulum</th>\n      <th>Lysosome/Vacuole</th>\n      <th>Golgi apparatus</th>\n      <th>Peroxisome</th>\n      <th>Sequence</th>\n    </tr>\n  </thead>\n  <tbody>\n    <tr>\n      <th>0</th>\n      <td>0</td>\n      <td>Q28165</td>\n      <td>Metazoa</td>\n      <td>4</td>\n      <td>0.0</td>\n      <td>1.0</td>\n      <td>1.0</td>\n      <td>0.0</td>\n      <td>0.0</td>\n      <td>0.0</td>\n      <td>0.0</td>\n      <td>0.0</td>\n      <td>0.0</td>\n      <td>0.0</td>\n      <td>0.0</td>\n      <td>MAAAAAAAAAAGAAGGRGSGPGRRRHLVPGAGGEAGEGAPGGAGDY...</td>\n    </tr>\n    <tr>\n      <th>1</th>\n      <td>1</td>\n      <td>Q86U42</td>\n      <td>Metazoa</td>\n      <td>4</td>\n      <td>0.0</td>\n      <td>1.0</td>\n      <td>1.0</td>\n      <td>0.0</td>\n      <td>0.0</td>\n      <td>0.0</td>\n      <td>0.0</td>\n      <td>0.0</td>\n      <td>0.0</td>\n      <td>0.0</td>\n      <td>0.0</td>\n      <td>MAAAAAAAAAAGAAGGRGSGPGRRRHLVPGAGGEAGEGAPGGAGDY...</td>\n    </tr>\n    <tr>\n      <th>2</th>\n      <td>2</td>\n      <td>Q0GA42</td>\n      <td>Metazoa</td>\n      <td>3</td>\n      <td>1.0</td>\n      <td>0.0</td>\n      <td>0.0</td>\n      <td>0.0</td>\n      <td>1.0</td>\n      <td>0.0</td>\n      <td>0.0</td>\n      <td>0.0</td>\n      <td>0.0</td>\n      <td>0.0</td>\n      <td>0.0</td>\n      <td>MAAAAAAAAALGVRLRDCCSRGAVLLLFFSLSPRPPAAAAWLLGLR...</td>\n    </tr>\n    <tr>\n      <th>3</th>\n      <td>3</td>\n      <td>P82349</td>\n      <td>Metazoa</td>\n      <td>1</td>\n      <td>1.0</td>\n      <td>1.0</td>\n      <td>0.0</td>\n      <td>0.0</td>\n      <td>1.0</td>\n      <td>0.0</td>\n      <td>0.0</td>\n      <td>0.0</td>\n      <td>0.0</td>\n      <td>0.0</td>\n      <td>0.0</td>\n      <td>MAAAAAAAAATEQQGSNGPVKKSMREKAVERRNVNKEHNSNFKAGY...</td>\n    </tr>\n    <tr>\n      <th>4</th>\n      <td>4</td>\n      <td>Q7L5N1</td>\n      <td>Metazoa</td>\n      <td>1</td>\n      <td>0.0</td>\n      <td>1.0</td>\n      <td>1.0</td>\n      <td>0.0</td>\n      <td>0.0</td>\n      <td>0.0</td>\n      <td>0.0</td>\n      <td>0.0</td>\n      <td>0.0</td>\n      <td>0.0</td>\n      <td>0.0</td>\n      <td>MAAAAAAAAATNGTGGSSGMEVDAAVVPSVMACGVTGSVSVALHPL...</td>\n    </tr>\n  </tbody>\n</table>\n</div>"
     },
     "execution_count": 22,
     "metadata": {},
     "output_type": "execute_result"
    }
   ],
   "source": [
    "load.head()"
   ],
   "metadata": {
    "collapsed": false,
    "ExecuteTime": {
     "end_time": "2024-05-24T10:49:19.777051Z",
     "start_time": "2024-05-24T10:49:19.763169Z"
    }
   },
   "id": "fe7142b826b46b32",
   "execution_count": 22
  },
  {
   "cell_type": "code",
   "outputs": [],
   "source": [
    "null_values_excluding_column = load.drop(columns=['Kingdom']).isnull().sum()"
   ],
   "metadata": {
    "collapsed": false
   },
   "id": "a7a28c3f603cc596",
   "execution_count": 23
  },
  {
   "cell_type": "code",
   "outputs": [
    {
     "data": {
      "text/plain": "Unnamed: 0               0\nACC                      0\nPartition                0\nMembrane                 0\nCytoplasm                0\nNucleus                  0\nExtracellular            0\nCell membrane            0\nMitochondrion            0\nPlastid                  0\nEndoplasmic reticulum    0\nLysosome/Vacuole         0\nGolgi apparatus          0\nPeroxisome               0\nSequence                 0\ndtype: int64"
     },
     "execution_count": 24,
     "metadata": {},
     "output_type": "execute_result"
    }
   ],
   "source": [
    "null_values_excluding_column"
   ],
   "metadata": {
    "collapsed": false,
    "ExecuteTime": {
     "end_time": "2024-05-24T10:49:25.682475Z",
     "start_time": "2024-05-24T10:49:25.677702Z"
    }
   },
   "id": "8578b130f3c783c0",
   "execution_count": 24
  },
  {
   "cell_type": "code",
   "outputs": [
    {
     "name": "stdout",
     "output_type": "stream",
     "text": [
      "Indices of null values:\n",
      "Index([], dtype='int64')\n"
     ]
    }
   ],
   "source": [
    "# Find the indices of null values\n",
    "null_indices = load['Sequence'][load['Sequence'].isnull()].index\n",
    "print(\"Indices of null values:\")\n",
    "print(null_indices)"
   ],
   "metadata": {
    "collapsed": false,
    "ExecuteTime": {
     "end_time": "2024-05-20T17:00:28.443702Z",
     "start_time": "2024-05-20T17:00:28.434348Z"
    }
   },
   "id": "342ab17c2852a841",
   "execution_count": 15
  },
  {
   "cell_type": "code",
   "outputs": [],
   "source": [
    "df=pd.read_csv('multisub_5_partitions_unique.csv')"
   ],
   "metadata": {
    "collapsed": false,
    "ExecuteTime": {
     "end_time": "2024-05-24T03:02:02.534826Z",
     "start_time": "2024-05-24T03:02:02.326525Z"
    }
   },
   "id": "ffa700dfd6587030",
   "execution_count": 2
  },
  {
   "cell_type": "code",
   "outputs": [],
   "source": [
    "partition_counts = df['Partition'].value_counts()\n",
    "partition_percentages = partition_counts "
   ],
   "metadata": {
    "collapsed": false,
    "ExecuteTime": {
     "end_time": "2024-05-24T03:02:39.696517Z",
     "start_time": "2024-05-24T03:02:39.691751Z"
    }
   },
   "id": "c57da99aa61cd32f",
   "execution_count": 5
  },
  {
   "cell_type": "code",
   "outputs": [
    {
     "data": {
      "text/plain": "<Figure size 640x480 with 1 Axes>",
      "image/png": "[encoded data removed]"
     },
     "metadata": {},
     "output_type": "display_data"
    }
   ],
   "source": [
    "import matplotlib.pyplot as plt\n",
    "\n",
    "# Plotting\n",
    "partition_percentages.sort_index().plot(kind='bar', color='skyblue', edgecolor='black')\n",
    "\n",
    "plt.xlabel('Partition')\n",
    "plt.ylabel('Percentage')\n",
    "plt.title('Percentage of Partitions')\n",
    "#plt.ylim(0, 100)  # Percentage ranges from 0 to 100\n",
    "for i, percentage in enumerate(partition_percentages.sort_index()):\n",
    "    plt.text(i, percentage + 1, f'{percentage:.2f}%', ha='center', va='bottom')\n",
    "plt.show()"
   ],
   "metadata": {
    "collapsed": false,
    "ExecuteTime": {
     "end_time": "2024-05-24T03:02:40.532141Z",
     "start_time": "2024-05-24T03:02:40.397875Z"
    }
   },
   "id": "f1bb02a9f9e55bab",
   "execution_count": 6
  },
  {
   "cell_type": "code",
   "outputs": [],
   "source": [],
   "metadata": {
    "collapsed": false
   },
   "id": "21e1e5d8875b4c5"
  }
 ],
 "metadata": {
  "kernelspec": {
   "display_name": "Python 3",
   "language": "python",
   "name": "python3"
  },
  "language_info": {
   "codemirror_mode": {
    "name": "ipython",
    "version": 2
   },
   "file_extension": ".py",
   "mimetype": "text/x-python",
   "name": "python",
   "nbconvert_exporter": "python",
   "pygments_lexer": "ipython2",
   "version": "2.7.6"
  }
 },
 "nbformat": 4,
 "nbformat_minor": 5
}
